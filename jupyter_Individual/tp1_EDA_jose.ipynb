{
 "cells": [
  {
   "cell_type": "markdown",
   "id": "314620e0",
   "metadata": {},
   "source": [
    "# Trabajo Práctico 1: Análisis Exploratorio de Datos #\n",
    "## Cientes potenciales a tarjetas de crédito. ##\n",
    "El [DATASET](https://www.kaggle.com/datasets/sajidhussain3/jobathon-may-2021-credit-card-lead-prediction?select=train.csv) contiene información de clientes de un banco denominado Happy Customer Bank. Es un banco privado de tamaño medio que se ocupa de todo tipo de productos bancarios, como cuentas de ahorro, cuentas corrientes, productos de inversión, productos de crédito, entre otras ofertas.  \n",
    "\n",
    "En este caso, el Happy Customer Bank desea realizar ventas cruzadas de sus tarjetas de crédito a sus clientes existentes. El banco ha identificado un conjunto de clientes que son elegibles para aceptar estas tarjetas de crédito.\n",
    "\n",
    "El banco tiene la necesidad, de identificar a los clientes que podrían mostrar intención hacia una tarjeta de crédito recomendada.\n",
    "\n",
    "<img src = \"https://storage.googleapis.com/kaggle-datasets-images/1371711/2277422/2c35585d42b3747882e83e926d0f643e/dataset-cover.png?t=2021-05-27-18-40-42\">\n",
    "\n",
    "\n",
    " --- "
   ]
  },
  {
   "cell_type": "markdown",
   "id": "71ce9db6",
   "metadata": {},
   "source": [
    "## 1. Listado de variables y selección ###\n",
    "### a) Variables de Entrada (vamos a utilizar)##\n",
    "\n",
    "- **Gender:** Género del cliente. (male/female), no Nans\n",
    "\n",
    "\n",
    "\n",
    "- **Age:** Edad del cliente. (En años), no NaNs\n",
    "\n",
    "\n",
    "        \n",
    "- **Region_Code:** Código de la Región para los clientes. (string), no NaNs. No estan detalladas las regiones por nombre, sin embargo al cliente se le puede demostrar la influencia del dato por medio del código.\n",
    "\n",
    "        \n",
    "- **Occupation:** Ocupación del cliente, no NaNs. Valores posibles: 'Entrepreneur', 'Other', 'Salaried','Employed',\n",
    "\n",
    "        \n",
    "        \n",
    "- **Channel_Code:** Código de Canal de Adquisición para el Cliente (Codificado), no NaNs. Valores posibles: X1, X2, X3, X4\n",
    "\n",
    "\n",
    "        \n",
    "- **Vintage:** Antiguedad del Cliente (En Meses), no NaNs.\n",
    "\n",
    "        \n",
    "        \n",
    "- **Credit_Product:** Si el Cliente tiene algún producto de crédito activo (Préstamo de vivienda, Préstamo personal, Tarjeta de crédito, etc,algunos Nans. Valor posible: True, False, NaNs.\n",
    "\n",
    "\n",
    "- **Avg_Account_Balance:** Saldo de cuenta promedio. Saldo promedio de la cuenta del cliente en los últimos 12 meses. Valor posible: Integer, no NaNs\n",
    "\n",
    "      \n",
    "      \n",
    "- **Is_Active:** Si el cliente está activo en los últimos 3 meses. No NaNs\n",
    "            No-> El cliente no esta activo | Yes-> el cliente esta activo\n",
    "            \n",
    "            \n",
    "--------\n",
    "\n"
   ]
  },
  {
   "cell_type": "markdown",
   "id": "6dd1ab12",
   "metadata": {},
   "source": [
    "### b) Variable de Salida (a predecir) ###\n",
    "\n",
    "- **Is_Lead:**  Si el Cliente está interesado en la Tarjeta de Crédito.\n",
    "            0-> El cliente no esta interesado | 1-> el cliente esta interesado"
   ]
  },
  {
   "cell_type": "markdown",
   "id": "47d0ca51",
   "metadata": {},
   "source": [
    "### c) Variable que no vamos a utilizar \n",
    "\n",
    "**ID:** Podría conducir a un sobreajuste."
   ]
  },
  {
   "cell_type": "code",
   "execution_count": 1,
   "id": "c50a650c",
   "metadata": {},
   "outputs": [],
   "source": [
    "%matplotlib inline\n",
    "\n",
    "import warnings\n",
    "import numpy as np\n",
    "import pandas as pd \n",
    "import matplotlib\n",
    "import keras\n",
    "import h5py\n",
    "import PIL\n",
    "import seaborn as sns\n",
    "import sklearn\n",
    "import pytz\n",
    "\n",
    "from matplotlib import pyplot as plt\n",
    "\n",
    "from sklearn.metrics import accuracy_score, precision_score, recall_score, confusion_matrix\n",
    "from sklearn.model_selection import train_test_split\n",
    "\n",
    "pd.options.display.max_columns = 0\n",
    "\n",
    "plt.rcParams.update({\n",
    "    \"font.family\": [\"serif\"],\n",
    "    \"font.sans-serif\": [\"Roboto\"],\n",
    "    \"font.size\": 9,\n",
    "    \"axes.labelsize\": 11,\n",
    "    \"axes.titlesize\": 13,\n",
    "    \"xtick.labelsize\": 11,\n",
    "    \"ytick.labelsize\": 11,\n",
    "    \"legend.fontsize\": 11,\n",
    "    'figure.figsize': (15.0, 4.0),\n",
    "    'axes.grid': False,\n",
    "    'axes.spines.left': True,\n",
    "    'axes.spines.right': True,\n",
    "    'axes.spines.top': True,\n",
    "    'axes.spines.bottom': True,\n",
    "})\n",
    "\n",
    "np.set_printoptions(suppress=True)\n",
    "\n",
    "warnings.filterwarnings('ignore')"
   ]
  },
  {
   "cell_type": "code",
   "execution_count": 2,
   "id": "d795e98c",
   "metadata": {},
   "outputs": [],
   "source": [
    "data_TC = pd.read_csv('train.csv')\n",
    "\n",
    "BETTER_COLUMN_NAMES = {\n",
    "    'ID': 'id',\n",
    "    'Gender': 'sexo',\n",
    "    'Age': 'edad',\n",
    "    'Region_Code': 'codigo_region',\n",
    "    'Occupation': 'ocupacion',\n",
    "    'Channel_Code': 'codigo_canal',\n",
    "    'Vintage': 'antiguedad',\n",
    "    'Credit_Product': 'tiene_producto_credito_activo',\n",
    "    'Avg_Account_Balance': 'saldo_promedio_cuenta',\n",
    "    'Is_Active': 'es_activo',\n",
    "    'Is_Lead': 'esta_interesado',\n",
    "}\n",
    "data_TC.rename(columns=BETTER_COLUMN_NAMES, inplace=True)\n",
    "\n",
    "data_TC.set_index('id', inplace=True)"
   ]
  },
  {
   "cell_type": "code",
   "execution_count": 3,
   "id": "32e6dbd8",
   "metadata": {},
   "outputs": [
    {
     "data": {
      "text/html": [
       "<div>\n",
       "<style scoped>\n",
       "    .dataframe tbody tr th:only-of-type {\n",
       "        vertical-align: middle;\n",
       "    }\n",
       "\n",
       "    .dataframe tbody tr th {\n",
       "        vertical-align: top;\n",
       "    }\n",
       "\n",
       "    .dataframe thead th {\n",
       "        text-align: right;\n",
       "    }\n",
       "</style>\n",
       "<table border=\"1\" class=\"dataframe\">\n",
       "  <thead>\n",
       "    <tr style=\"text-align: right;\">\n",
       "      <th></th>\n",
       "      <th>sexo</th>\n",
       "      <th>edad</th>\n",
       "      <th>codigo_region</th>\n",
       "      <th>ocupacion</th>\n",
       "      <th>codigo_canal</th>\n",
       "      <th>antiguedad</th>\n",
       "      <th>tiene_producto_credito_activo</th>\n",
       "      <th>saldo_promedio_cuenta</th>\n",
       "      <th>es_activo</th>\n",
       "      <th>esta_interesado</th>\n",
       "    </tr>\n",
       "    <tr>\n",
       "      <th>id</th>\n",
       "      <th></th>\n",
       "      <th></th>\n",
       "      <th></th>\n",
       "      <th></th>\n",
       "      <th></th>\n",
       "      <th></th>\n",
       "      <th></th>\n",
       "      <th></th>\n",
       "      <th></th>\n",
       "      <th></th>\n",
       "    </tr>\n",
       "  </thead>\n",
       "  <tbody>\n",
       "    <tr>\n",
       "      <th>MKBIIW7K</th>\n",
       "      <td>Male</td>\n",
       "      <td>49</td>\n",
       "      <td>RG251</td>\n",
       "      <td>Self_Employed</td>\n",
       "      <td>X2</td>\n",
       "      <td>20</td>\n",
       "      <td>No</td>\n",
       "      <td>440790</td>\n",
       "      <td>Yes</td>\n",
       "      <td>0</td>\n",
       "    </tr>\n",
       "    <tr>\n",
       "      <th>MJU3U7K2</th>\n",
       "      <td>Male</td>\n",
       "      <td>71</td>\n",
       "      <td>RG254</td>\n",
       "      <td>Other</td>\n",
       "      <td>X3</td>\n",
       "      <td>117</td>\n",
       "      <td>Yes</td>\n",
       "      <td>1210702</td>\n",
       "      <td>Yes</td>\n",
       "      <td>0</td>\n",
       "    </tr>\n",
       "    <tr>\n",
       "      <th>PNPVT7U9</th>\n",
       "      <td>Male</td>\n",
       "      <td>28</td>\n",
       "      <td>RG282</td>\n",
       "      <td>Other</td>\n",
       "      <td>X1</td>\n",
       "      <td>25</td>\n",
       "      <td>No</td>\n",
       "      <td>1164173</td>\n",
       "      <td>No</td>\n",
       "      <td>0</td>\n",
       "    </tr>\n",
       "    <tr>\n",
       "      <th>EYFQF6SA</th>\n",
       "      <td>Male</td>\n",
       "      <td>70</td>\n",
       "      <td>RG284</td>\n",
       "      <td>Other</td>\n",
       "      <td>X3</td>\n",
       "      <td>44</td>\n",
       "      <td>Yes</td>\n",
       "      <td>1025760</td>\n",
       "      <td>No</td>\n",
       "      <td>0</td>\n",
       "    </tr>\n",
       "    <tr>\n",
       "      <th>7XVJ7PAI</th>\n",
       "      <td>Female</td>\n",
       "      <td>80</td>\n",
       "      <td>RG276</td>\n",
       "      <td>Other</td>\n",
       "      <td>X2</td>\n",
       "      <td>63</td>\n",
       "      <td>No</td>\n",
       "      <td>1199194</td>\n",
       "      <td>No</td>\n",
       "      <td>0</td>\n",
       "    </tr>\n",
       "    <tr>\n",
       "      <th>UDHPXDJG</th>\n",
       "      <td>Male</td>\n",
       "      <td>63</td>\n",
       "      <td>RG276</td>\n",
       "      <td>Other</td>\n",
       "      <td>X3</td>\n",
       "      <td>61</td>\n",
       "      <td>No</td>\n",
       "      <td>1597149</td>\n",
       "      <td>No</td>\n",
       "      <td>0</td>\n",
       "    </tr>\n",
       "    <tr>\n",
       "      <th>FGRAPUDY</th>\n",
       "      <td>Female</td>\n",
       "      <td>41</td>\n",
       "      <td>RG251</td>\n",
       "      <td>Self_Employed</td>\n",
       "      <td>X2</td>\n",
       "      <td>50</td>\n",
       "      <td>Yes</td>\n",
       "      <td>1399943</td>\n",
       "      <td>No</td>\n",
       "      <td>0</td>\n",
       "    </tr>\n",
       "    <tr>\n",
       "      <th>2AAQGYU3</th>\n",
       "      <td>Female</td>\n",
       "      <td>30</td>\n",
       "      <td>RG275</td>\n",
       "      <td>Salaried</td>\n",
       "      <td>X1</td>\n",
       "      <td>13</td>\n",
       "      <td>Yes</td>\n",
       "      <td>280768</td>\n",
       "      <td>No</td>\n",
       "      <td>1</td>\n",
       "    </tr>\n",
       "    <tr>\n",
       "      <th>JQ3OKVAG</th>\n",
       "      <td>Female</td>\n",
       "      <td>46</td>\n",
       "      <td>RG268</td>\n",
       "      <td>Self_Employed</td>\n",
       "      <td>X3</td>\n",
       "      <td>68</td>\n",
       "      <td>NaN</td>\n",
       "      <td>1724481</td>\n",
       "      <td>No</td>\n",
       "      <td>1</td>\n",
       "    </tr>\n",
       "    <tr>\n",
       "      <th>O8HUEGD5</th>\n",
       "      <td>Male</td>\n",
       "      <td>52</td>\n",
       "      <td>RG272</td>\n",
       "      <td>Other</td>\n",
       "      <td>X2</td>\n",
       "      <td>92</td>\n",
       "      <td>No</td>\n",
       "      <td>1034785</td>\n",
       "      <td>Yes</td>\n",
       "      <td>0</td>\n",
       "    </tr>\n",
       "  </tbody>\n",
       "</table>\n",
       "</div>"
      ],
      "text/plain": [
       "            sexo  edad  ... es_activo esta_interesado\n",
       "id                      ...                          \n",
       "MKBIIW7K    Male    49  ...       Yes               0\n",
       "MJU3U7K2    Male    71  ...       Yes               0\n",
       "PNPVT7U9    Male    28  ...        No               0\n",
       "EYFQF6SA    Male    70  ...        No               0\n",
       "7XVJ7PAI  Female    80  ...        No               0\n",
       "UDHPXDJG    Male    63  ...        No               0\n",
       "FGRAPUDY  Female    41  ...        No               0\n",
       "2AAQGYU3  Female    30  ...        No               1\n",
       "JQ3OKVAG  Female    46  ...        No               1\n",
       "O8HUEGD5    Male    52  ...       Yes               0\n",
       "\n",
       "[10 rows x 10 columns]"
      ]
     },
     "execution_count": 3,
     "metadata": {},
     "output_type": "execute_result"
    }
   ],
   "source": [
    "data_TC.sample(10)"
   ]
  },
  {
   "cell_type": "code",
   "execution_count": 18,
   "id": "035c4298",
   "metadata": {},
   "outputs": [],
   "source": [
    "df2 = data_TC[data_TC[\"edad\"] < 33]['edad']"
   ]
  },
  {
   "cell_type": "code",
   "execution_count": 19,
   "id": "c7e1f821",
   "metadata": {},
   "outputs": [
    {
     "name": "stdout",
     "output_type": "stream",
     "text": [
      "id\n",
      "IDD62UNG    30\n",
      "TEASRWXV    30\n",
      "GZ5TMYIR    27\n",
      "FCPEEIY3    27\n",
      "KCE7JSFN    31\n",
      "            ..\n",
      "EJMPTVQZ    26\n",
      "HFNB7JY8    27\n",
      "GEHAUCWT    26\n",
      "GE7V8SAH    28\n",
      "BOCZSWLJ    29\n",
      "Name: edad, Length: 82761, dtype: int64\n"
     ]
    }
   ],
   "source": [
    "print(df2)"
   ]
  },
  {
   "cell_type": "markdown",
   "id": "88d4e7f4",
   "metadata": {},
   "source": [
    "### c) Transformaciones ###"
   ]
  },
  {
   "cell_type": "code",
   "execution_count": null,
   "id": "b172bda8",
   "metadata": {},
   "outputs": [],
   "source": [
    "# 1. Obtener los nombres de las columas como una lista\n",
    "col_name = data_TC.columns.tolist()\n",
    "\n",
    "# 2. Itera sobre la lista de nombres\n",
    "for column in col_name:\n",
    "    print (\"Valores nulos en <{0}>: {1}\".format(column, data_TC[column].isnull().sum()))"
   ]
  },
  {
   "cell_type": "code",
   "execution_count": null,
   "id": "cab0d779",
   "metadata": {
    "scrolled": false
   },
   "outputs": [],
   "source": [
    "Nulos = data_TC.isnull().sum()\n",
    "print(\"Columnas             Cantidad de nulos\")\n",
    "print(Nulos)"
   ]
  },
  {
   "cell_type": "code",
   "execution_count": null,
   "id": "3d706060",
   "metadata": {
    "scrolled": true
   },
   "outputs": [],
   "source": [
    "data_TC.count()"
   ]
  },
  {
   "cell_type": "code",
   "execution_count": null,
   "id": "33297a1b",
   "metadata": {},
   "outputs": [],
   "source": [
    "#esto capaz nos convenga hacerlo en el mapper con sklearn\n",
    "data_notNull = data_TC[data_TC['tiene_producto_credito_activo'].notna()]"
   ]
  },
  {
   "cell_type": "code",
   "execution_count": null,
   "id": "b96a7c42",
   "metadata": {},
   "outputs": [],
   "source": [
    "Nulos = data_notNull.isnull().sum()\n",
    "print(\"Columnas             Cantidad de nulos\")\n",
    "print(Nulos)"
   ]
  },
  {
   "cell_type": "code",
   "execution_count": null,
   "id": "05b4aa55",
   "metadata": {},
   "outputs": [],
   "source": [
    "# Se dividen los datos en train y test\n",
    "# 60% train, 20% test, 20% validation\n",
    "train, not_train = train_test_split(data_notNull, test_size=0.4)\n",
    "validation, test = train_test_split(not_train, test_size=0.5)\n",
    "\n",
    "#Dimención (filas, columnas) de los distintos dataset\n",
    "print (\" Train:\", train.shape, '\\n', 'Validation:', validation.shape, '\\n', 'Test:', test.shape)\n",
    "#print(\"first line\", \"second line\", sep=\"\\n\")`"
   ]
  },
  {
   "cell_type": "code",
   "execution_count": null,
   "id": "bbcdf143",
   "metadata": {},
   "outputs": [],
   "source": [
    "# One Hot Encoder\n",
    "\n",
    "from sklearn.pipeline import Pipeline\n",
    "from sklearn_pandas import DataFrameMapper\n",
    "from sklearn.preprocessing import StandardScaler, OneHotEncoder, LabelBinarizer\n",
    "from sklearn.experimental import enable_iterative_imputer\n",
    "from sklearn.impute import SimpleImputer, IterativeImputer\n",
    "\n",
    "from sklearn.pipeline import Pipeline"
   ]
  },
  {
   "cell_type": "markdown",
   "id": "8dddeeb0",
   "metadata": {},
   "source": [
    "# Primer maper"
   ]
  },
  {
   "cell_type": "code",
   "execution_count": null,
   "id": "06dac3af",
   "metadata": {},
   "outputs": [],
   "source": [
    "mapper = DataFrameMapper([\n",
    "    (['sexo'], [LabelBinarizer()]), \n",
    "    (['edad'], [StandardScaler()]),\n",
    "    (['codigo_region'], [OneHotEncoder()]),\n",
    "    (['ocupacion'], [OneHotEncoder()]),\n",
    "    (['antiguedad'], [StandardScaler()]),\n",
    "    (['codigo_canal'], [OneHotEncoder()]),\n",
    "    (['tiene_producto_credito_activo'], [LabelBinarizer()]),\n",
    "    (['saldo_promedio_cuenta'], [StandardScaler()]),\n",
    "    (['es_activo'], [LabelBinarizer()])\n",
    "], df_out=True) # df_out=True → Es lo que muestra el nombre de la columna\n",
    "\n",
    "# Lo entrenamos con train\n",
    "mapper.fit(data_notNull)"
   ]
  },
  {
   "cell_type": "code",
   "execution_count": null,
   "id": "42fa5ce9",
   "metadata": {},
   "outputs": [],
   "source": [
    "# vemos como transforma un sample:\n",
    "sample = data_notNull.sample(5, random_state=20) #Semilla 20\n",
    "\n",
    "# Sample original:\n",
    "sample"
   ]
  },
  {
   "cell_type": "code",
   "execution_count": null,
   "id": "db1b7a3a",
   "metadata": {
    "scrolled": true
   },
   "outputs": [],
   "source": [
    "# Sample transformado\n",
    "mapper.transform(sample)"
   ]
  },
  {
   "cell_type": "code",
   "execution_count": null,
   "id": "810e62a2",
   "metadata": {
    "scrolled": true
   },
   "outputs": [],
   "source": [
    "# Nombres de los faetures\n",
    "mapper.transformed_names_"
   ]
  },
  {
   "cell_type": "code",
   "execution_count": null,
   "id": "eca00535",
   "metadata": {},
   "outputs": [],
   "source": [
    "np.round(mapper.fit_transform(sample), 2)"
   ]
  },
  {
   "cell_type": "code",
   "execution_count": null,
   "id": "871539c4",
   "metadata": {},
   "outputs": [],
   "source": [
    "np.round(mapper.transform(sample), 1)"
   ]
  },
  {
   "cell_type": "code",
   "execution_count": null,
   "id": "a117198e",
   "metadata": {},
   "outputs": [],
   "source": [
    "data_TC.edad.rank()"
   ]
  },
  {
   "cell_type": "code",
   "execution_count": null,
   "id": "cc2a7c75",
   "metadata": {},
   "outputs": [],
   "source": []
  },
  {
   "cell_type": "code",
   "execution_count": null,
   "id": "5ba4fa9d",
   "metadata": {},
   "outputs": [],
   "source": [
    "# Descripción de los datos\n",
    "data_notNull.describe()"
   ]
  },
  {
   "cell_type": "markdown",
   "id": "78bc5e48",
   "metadata": {},
   "source": [
    "### Tipo de cada columna"
   ]
  },
  {
   "cell_type": "code",
   "execution_count": null,
   "id": "e874250d",
   "metadata": {},
   "outputs": [],
   "source": [
    "\n",
    "# Tipo de cada columna\n",
    "# ==============================================================================\n",
    "# En pandas, el tipo \"object\" hace referencia a strings\n",
    "# datos.dtypes\n",
    "data_notNull.info()"
   ]
  },
  {
   "cell_type": "code",
   "execution_count": null,
   "id": "b75ba664",
   "metadata": {},
   "outputs": [],
   "source": [
    "#Primero necesita hacer esto para poder dibujar la matriz de correlaciones\n",
    "corr_matrix = data_notNull.select_dtypes(include=['float64', 'int']).corr(method='pearson')"
   ]
  },
  {
   "cell_type": "code",
   "execution_count": null,
   "id": "1ef1eca8",
   "metadata": {},
   "outputs": [],
   "source": [
    "# Heatmap matriz de correlaciones\n",
    "# ==============================================================================\n",
    "fig, ax = plt.subplots(nrows=1, ncols=1, figsize=(10, 10)) # (8, 8) tamaño de la grilla \n",
    "\n",
    "sns.heatmap(\n",
    "    corr_matrix,\n",
    "    annot     = True,\n",
    "    cbar      = True, # Barra del costado\n",
    "    annot_kws = {\"size\": 20}, # tamaño nro cuadrilla\n",
    "    vmin      = -1,\n",
    "    vmax      = 1,\n",
    "    center    = 0,\n",
    "    cmap      = sns.diverging_palette(20, 220, n=200), # (20, 220, n=200) color de la grilla\n",
    "    square    = False, \n",
    "    ax        = ax\n",
    ")\n",
    "ax.set_xticklabels(\n",
    "    ax.get_xticklabels(),\n",
    "    rotation = 45,\n",
    "    horizontalalignment = 'right',\n",
    ")\n",
    "\n",
    "ax.tick_params(labelsize = 10) # (labelsize = 50) tamaño la leyenda de los ejes"
   ]
  },
  {
   "cell_type": "markdown",
   "id": "2abe1b13",
   "metadata": {},
   "source": [
    "- **Gender:** en lugar de usar el one-hot encoder vamos a aplicar el Label Binarizer. Transformado el valor en 0 y 1\n",
    "\n",
    "\n",
    "\n",
    "- **Age:** rango\n",
    "\n",
    "\n",
    "        \n",
    "- **Region_Code:** one-hot encoder\n",
    "\n",
    "\n",
    "        \n",
    "- **Occupation:** one-hot encoder\n",
    "\n",
    "        \n",
    "        \n",
    "- **Channel_Code:** one-hot encoder\n",
    "\n",
    "\n",
    "        \n",
    "- **Vintage:** rango\n",
    "\n",
    "        \n",
    "        \n",
    "- **Credit_Product:** en lugar de usar el one-hot encoder vamos a aplicar el Label Binarizer. Transformado el valor en 0 y 1. Y eliminamos los null.\n",
    "\n",
    "\n",
    "\n",
    "- **Avg_Account_Balance:** escalar y rangos (y ver outliers)\n",
    "\n",
    "      \n",
    "      \n",
    "- **Is_Active:** en lugar de usar el one-hot encoder vamos a aplicar el Label Binarizer"
   ]
  },
  {
   "cell_type": "code",
   "execution_count": null,
   "id": "1eb8bd85",
   "metadata": {},
   "outputs": [],
   "source": []
  },
  {
   "cell_type": "code",
   "execution_count": null,
   "id": "3f589aab",
   "metadata": {},
   "outputs": [],
   "source": []
  }
 ],
 "metadata": {
  "kernelspec": {
   "display_name": "Python 3 (ipykernel)",
   "language": "python",
   "name": "python3"
  },
  "language_info": {
   "codemirror_mode": {
    "name": "ipython",
    "version": 3
   },
   "file_extension": ".py",
   "mimetype": "text/x-python",
   "name": "python",
   "nbconvert_exporter": "python",
   "pygments_lexer": "ipython3",
   "version": "3.9.12"
  }
 },
 "nbformat": 4,
 "nbformat_minor": 5
}
