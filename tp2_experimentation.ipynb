{
 "cells": [
  {
   "cell_type": "markdown",
   "id": "b63a40c4",
   "metadata": {},
   "source": [
    "# Trabajo Práctico 2: Entrenamiento y evaluación de modelos #"
   ]
  },
  {
   "cell_type": "markdown",
   "id": "7d49fdde",
   "metadata": {},
   "source": [
    "## 1. Métrica ##"
   ]
  },
  {
   "cell_type": "markdown",
   "id": "f53e2012",
   "metadata": {},
   "source": [
    "Las métricas que vamos a utilizar son **F-SCORE** y además **Re-Call**."
   ]
  },
  {
   "cell_type": "markdown",
   "id": "e3751a3b",
   "metadata": {},
   "source": [
    "### Por qué F-SCORE? ###\n",
    "La misma consiste en combinar precission y recall. Los valores estan cerca de 1, cuando precissión y recall son buenos, en cambio, F-SCORE comienza a caer si uno de los dos cae."
   ]
  },
  {
   "cell_type": "markdown",
   "id": "efbd0003",
   "metadata": {},
   "source": [
    "### Por qué Re-Call? ###\n",
    "Re-Call nos permite medir que no se nos escapen interesados a las tarjetas de crédito, y en caso que NO esté interesado, el rechazo de la tarjeta, no afecta al negocio. En cambio si se escapa un caso de un cliente con interés, la empresa perdería la posibilidad de generar ingresos."
   ]
  },
  {
   "cell_type": "markdown",
   "id": "342e06fb",
   "metadata": {},
   "source": [
    "## Librerías ##\n"
   ]
  },
  {
   "cell_type": "code",
   "execution_count": null,
   "id": "aa82398e",
   "metadata": {},
   "outputs": [],
   "source": [
    "%matplotlib inline\n",
    "import warnings\n",
    "import numpy as np\n",
    "import pandas as pd \n",
    "import matplotlib\n",
    "import keras\n",
    "import h5py\n",
    "import PIL\n",
    "import seaborn as sns\n",
    "import sklearn\n",
    "import pytz\n",
    "import plotly.graph_objects as go\n",
    "\n",
    "from matplotlib import pyplot as plt\n",
    "\n",
    "from sklearn.metrics import accuracy_score, precision_score, recall_score, confusion_matrix\n",
    "from sklearn.model_selection import train_test_split\n",
    "\n",
    "# One Hot Encoder\n",
    "from sklearn.pipeline import Pipeline\n",
    "from sklearn_pandas import DataFrameMapper\n",
    "from sklearn.preprocessing import StandardScaler, OneHotEncoder, LabelBinarizer, QuantileTransformer\n",
    "from sklearn.experimental import enable_iterative_imputer\n",
    "from sklearn.impute import SimpleImputer, IterativeImputer\n",
    "from sklearn.pipeline import Pipeline\n",
    "from sklearn import datasets\n",
    "import plotly.express as px \n",
    "pd.set_option('display.float_format',lambda x:'%.0f'% x) #Sacar notación científica en pandas\n",
    "pd.options.display.max_columns = 0\n",
    "\n",
    "plt.rcParams.update({\n",
    "    \"font.family\": [\"serif\"],\n",
    "    \"font.sans-serif\": [\"Roboto\"],\n",
    "    \"font.size\": 9,\n",
    "    \"axes.labelsize\": 11,\n",
    "    \"axes.titlesize\": 13,\n",
    "    \"xtick.labelsize\": 11,\n",
    "    \"ytick.labelsize\": 11,\n",
    "    \"legend.fontsize\": 11,\n",
    "    'figure.figsize': (15.0, 4.0),\n",
    "    'axes.grid': False,\n",
    "    'axes.spines.left': True,\n",
    "    'axes.spines.right': True,\n",
    "    'axes.spines.top': True,\n",
    "    'axes.spines.bottom': True,\n",
    "})\n",
    "\n",
    "np.set_printoptions(suppress=True)\n",
    "\n",
    "warnings.filterwarnings('ignore')"
   ]
  },
  {
   "cell_type": "markdown",
   "id": "e2d54b17",
   "metadata": {},
   "source": [
    "## Train ##\n"
   ]
  },
  {
   "cell_type": "code",
   "execution_count": null,
   "id": "9abe110d",
   "metadata": {},
   "outputs": [],
   "source": [
    "data_TC = pd.read_csv('train.csv')\n",
    "\n",
    "BETTER_COLUMN_NAMES = {\n",
    "    'ID': 'id',\n",
    "    'Gender': 'sexo',\n",
    "    'Age': 'edad',\n",
    "    'Region_Code': 'codigo_region',\n",
    "    'Occupation': 'ocupacion',\n",
    "    'Channel_Code': 'codigo_canal',\n",
    "    'Vintage': 'antiguedad',\n",
    "    'Credit_Product': 'tiene_producto_credito_activo',\n",
    "    'Avg_Account_Balance': 'saldo_promedio_cuenta',\n",
    "    'Is_Active': 'es_activo',\n",
    "    'Is_Lead': 'esta_interesado',\n",
    "}\n",
    "data_TC.rename(columns=BETTER_COLUMN_NAMES, inplace=True)\n",
    "\n",
    "data_TC.set_index('id', inplace=True)\n"
   ]
  },
  {
   "cell_type": "markdown",
   "id": "19de6e30",
   "metadata": {},
   "source": [
    "## Test ##\n"
   ]
  },
  {
   "cell_type": "code",
   "execution_count": null,
   "id": "41a30ad8",
   "metadata": {},
   "outputs": [],
   "source": [
    "data_Test = pd.read_csv('test.csv')\n",
    "\n",
    "BETTER_COLUMN_NAMES2 = {\n",
    "    'ID': 'id',\n",
    "    'Gender': 'sexo',\n",
    "    'Age': 'edad',\n",
    "    'Region_Code': 'codigo_region',\n",
    "    'Occupation': 'ocupacion',\n",
    "    'Channel_Code': 'codigo_canal',\n",
    "    'Vintage': 'antiguedad',\n",
    "    'Credit_Product': 'tiene_producto_credito_activo',\n",
    "    'Avg_Account_Balance': 'saldo_promedio_cuenta',\n",
    "    'Is_Active': 'es_activo',\n",
    "    'Is_Lead': 'esta_interesado',\n",
    "}\n",
    "data_Test.rename(columns=BETTER_COLUMN_NAMES2, inplace=True)\n",
    "\n",
    "data_Test.set_index('id', inplace=True)"
   ]
  },
  {
   "cell_type": "code",
   "execution_count": null,
   "id": "1e667562",
   "metadata": {},
   "outputs": [],
   "source": [
    "data_Test.dtypes\n"
   ]
  },
  {
   "cell_type": "markdown",
   "id": "583492c6",
   "metadata": {},
   "source": [
    "## 2. Técnica feature engineering ##"
   ]
  },
  {
   "cell_type": "markdown",
   "id": "82c173aa",
   "metadata": {},
   "source": [
    "- **Técnica Quantile Transformation(edades)** Utilizaremos esta técnica para llevar los datos a una distribución uniforme o normal, generando robustez para los outliers."
   ]
  },
  {
   "cell_type": "code",
   "execution_count": null,
   "id": "59cce790",
   "metadata": {},
   "outputs": [],
   "source": [
    "number_of_quantile = 5\n",
    "data_TC['quantile'],edges = pd.qcut(x=data_TC['edad'], q=number_of_quantile, labels=False, retbins=True )\n",
    "print('values of edges: ' + str(edges))\n",
    "\n",
    "#Evitar Nans:\n",
    "ed = np.delete(edges, 0)\n",
    "ed = np.delete(ed, -1)\n",
    "ed = np.append(np.append([data_TC.edad.min()], [ed]), [data_TC.edad.max()])\n",
    "print('\\nvalues of ed: ' + str(ed))\n",
    "\n",
    "\n",
    "\n",
    "# Transform the array as an IntervalIndex\n",
    "Interval_Index = pd.IntervalIndex.from_breaks(ed,closed='right',dtype='interval[int64]')\n",
    "print('\\nvalues of Interval_Index: ' + str(Interval_Index))\n",
    "\n",
    "# Create a column displaying the interval\n",
    "data_TC['quantile_interval'] = pd.cut(data_TC['edad'], bins=Interval_Index)\n",
    "\n",
    "dict_inter_quantile = pd.Series(data_TC['quantile_interval'].unique().sort_values(ascending=False), name='interval').reset_index()\n",
    "dict_inter_quantile.columns = ['quantile', 'quantile_interval']\n",
    "dict_inter_quantile = dict_inter_quantile.set_index('quantile_interval')\n",
    "\n",
    "data_TC.sample(8)"
   ]
  },
  {
   "cell_type": "code",
   "execution_count": null,
   "id": "8254de35",
   "metadata": {},
   "outputs": [],
   "source": [
    "\n",
    "for col in data_TC.columns: \n",
    "    print(col) "
   ]
  },
  {
   "cell_type": "code",
   "execution_count": null,
   "id": "a0e664df",
   "metadata": {},
   "outputs": [],
   "source": [
    "df = px.data.tips()\n",
    "\n",
    "fig = px.histogram(data_TC, x=\"edad\",title='Distribución sin quantiles')\n",
    "fig.update_layout(bargap=0.2)\n",
    "fig.show()\n",
    "\n",
    "fig = px.histogram(data_TC,x=\"quantile\",title='Distribución por quantiles')\n",
    "fig.update_layout(bargap=0.2)\n",
    "fig.show()"
   ]
  },
  {
   "cell_type": "code",
   "execution_count": null,
   "id": "4d7293d4",
   "metadata": {},
   "outputs": [],
   "source": []
  }
 ],
 "metadata": {
  "kernelspec": {
   "display_name": "Python 3 (ipykernel)",
   "language": "python",
   "name": "python3"
  },
  "language_info": {
   "codemirror_mode": {
    "name": "ipython",
    "version": 3
   },
   "file_extension": ".py",
   "mimetype": "text/x-python",
   "name": "python",
   "nbconvert_exporter": "python",
   "pygments_lexer": "ipython3",
   "version": "3.9.7"
  }
 },
 "nbformat": 4,
 "nbformat_minor": 5
}
