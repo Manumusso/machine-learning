{
 "cells": [
  {
   "cell_type": "markdown",
   "id": "b63a40c4",
   "metadata": {},
   "source": [
    "<h1><center>Trabajo Práctico 2: Entrenamiento y evaluación de modelos</center></h1>"
   ]
  },
  {
   "cell_type": "markdown",
   "id": "7d49fdde",
   "metadata": {},
   "source": [
    "## 1. Métrica ##"
   ]
  },
  {
   "cell_type": "markdown",
   "id": "f53e2012",
   "metadata": {},
   "source": [
    "La métrica que vamo a utilizar es **Precision**"
   ]
  },
  {
   "cell_type": "markdown",
   "id": "e3751a3b",
   "metadata": {},
   "source": [
    "#### Por qué Precision?\n",
    "Nuestro interes principal es no equivocarnos al marcar como interesados a los clientes, ya que para el negocio sería fundamental no ofrecer tarjetas a personas no interesadas.\n",
    "\n",
    "La finalidad de Precision consiste en encontrar todos los clientes que estemos seguros que van a estar interesados, de la cantidad total que se marca como tal. Si el porcentaje de acierto resultante es bajo, estaríamos marcando como interesados a personas que no lo son."
   ]
  },
  {
   "cell_type": "markdown",
   "id": "342e06fb",
   "metadata": {},
   "source": [
    "## Librerías ##\n"
   ]
  },
  {
   "cell_type": "code",
   "execution_count": null,
   "id": "aa82398e",
   "metadata": {
    "ExecuteTime": {
     "end_time": "2022-05-09T04:12:43.651425Z",
     "start_time": "2022-05-09T04:12:06.741499Z"
    }
   },
   "outputs": [],
   "source": [
    "%matplotlib inline\n",
    "import warnings\n",
    "import numpy as np\n",
    "import pandas as pd \n",
    "import matplotlib\n",
    "import keras\n",
    "import h5py\n",
    "import PIL\n",
    "import seaborn as sns\n",
    "import sklearn\n",
    "import pytz\n",
    "import plotly.graph_objects as go\n",
    "\n",
    "from matplotlib import pyplot as plt\n",
    "\n",
    "from sklearn.metrics import accuracy_score, precision_score, recall_score, confusion_matrix\n",
    "from sklearn.model_selection import train_test_split\n",
    "\n",
    "from sklearn.pipeline import Pipeline\n",
    "from sklearn_pandas import DataFrameMapper\n",
    "from sklearn.preprocessing import StandardScaler, OneHotEncoder, LabelBinarizer, QuantileTransformer, MinMaxScaler\n",
    "from sklearn.experimental import enable_iterative_imputer\n",
    "from sklearn.impute import SimpleImputer, IterativeImputer, KNNImputer\n",
    "from sklearn.pipeline import Pipeline\n",
    "from sklearn import datasets\n",
    "import plotly.express as px \n",
    "\n",
    "from sklearn import metrics\n",
    "from collections import defaultdict\n",
    "\n",
    "from sklearn.ensemble import GradientBoostingClassifier, RandomForestClassifier\n",
    "from sklearn.linear_model import LogisticRegression\n",
    "from sklearn.tree import DecisionTreeClassifier\n",
    "\n",
    "plt.rcParams.update({\n",
    "    \"font.family\": [\"serif\"],\n",
    "    \"font.sans-serif\": [\"Roboto\"],\n",
    "    \"font.size\": 9,\n",
    "    \"axes.labelsize\": 11,\n",
    "    \"axes.titlesize\": 13,\n",
    "    \"xtick.labelsize\": 11,\n",
    "    \"ytick.labelsize\": 11,\n",
    "    \"legend.fontsize\": 11,\n",
    "    'figure.figsize': (15.0, 4.0),\n",
    "    'axes.grid': False,\n",
    "    'axes.spines.left': True,\n",
    "    'axes.spines.right': True,\n",
    "    'axes.spines.top': True,\n",
    "    'axes.spines.bottom': True,\n",
    "})\n",
    "\n",
    "np.set_printoptions(suppress=True)\n",
    "warnings.filterwarnings('ignore')"
   ]
  },
  {
   "cell_type": "markdown",
   "id": "e2d54b17",
   "metadata": {},
   "source": [
    "## Train ##\n"
   ]
  },
  {
   "cell_type": "code",
   "execution_count": null,
   "id": "9abe110d",
   "metadata": {
    "ExecuteTime": {
     "end_time": "2022-05-09T04:12:44.282511Z",
     "start_time": "2022-05-09T04:12:43.659478Z"
    }
   },
   "outputs": [],
   "source": [
    "data_TC = pd.read_csv('train.csv')\n",
    "\n",
    "BETTER_COLUMN_NAMES = {\n",
    "    'ID': 'id',\n",
    "    'Gender': 'sexo',\n",
    "    'Age': 'edad',\n",
    "    'Region_Code': 'codigo_region',\n",
    "    'Occupation': 'ocupacion',\n",
    "    'Channel_Code': 'codigo_canal',\n",
    "    'Vintage': 'antiguedad',\n",
    "    'Credit_Product': 'tiene_producto_credito_activo',\n",
    "    'Avg_Account_Balance': 'saldo_promedio_cuenta',\n",
    "    'Is_Active': 'es_activo',\n",
    "    'Is_Lead': 'esta_interesado',\n",
    "}\n",
    "data_TC.rename(columns=BETTER_COLUMN_NAMES, inplace=True)\n",
    "\n",
    "data_TC.set_index('id', inplace=True)\n",
    "\n",
    "DATA_MODIFICADA = data_TC.copy(deep=True)"
   ]
  },
  {
   "cell_type": "code",
   "execution_count": null,
   "id": "3f5c0a5c",
   "metadata": {
    "ExecuteTime": {
     "end_time": "2022-05-09T04:12:44.329510Z",
     "start_time": "2022-05-09T04:12:44.284498Z"
    }
   },
   "outputs": [],
   "source": [
    "DATA_ORIGINAL = data_TC.copy(deep=True)"
   ]
  },
  {
   "cell_type": "markdown",
   "id": "583492c6",
   "metadata": {},
   "source": [
    "## 2. Técnica feature engineering ##"
   ]
  },
  {
   "cell_type": "markdown",
   "id": "82c173aa",
   "metadata": {},
   "source": [
    "#### **Quantile Transformation (Edades)** \n",
    "Utilizaremos esta técnica para llevar los datos a una distribución uniforme o normal, generando robustez para los outliers.\n",
    "\n",
    "Usamos 10 quantiles."
   ]
  },
  {
   "cell_type": "code",
   "execution_count": null,
   "id": "59cce790",
   "metadata": {
    "ExecuteTime": {
     "end_time": "2022-05-09T04:12:47.812457Z",
     "start_time": "2022-05-09T04:12:47.164855Z"
    }
   },
   "outputs": [],
   "source": [
    "number_of_quantile = 10     \n",
    "DATA_MODIFICADA['Quantiles_edad'],edges = pd.qcut(x=DATA_MODIFICADA['edad'], q=number_of_quantile, labels=False, retbins=True )\n",
    "print('values of edges: ' + str(edges))\n",
    "\n",
    "#Evitar Nans:\n",
    "ed = np.delete(edges, 0)\n",
    "ed = np.delete(ed, -1)\n",
    "ed = np.append(np.append([DATA_MODIFICADA.edad.min()], [ed]), [DATA_MODIFICADA.edad.max()])\n",
    "print('\\nvalues of ed: ' + str(ed))\n",
    "\n",
    "# Transform the array as an IntervalIndex\n",
    "Interval_Index = pd.IntervalIndex.from_breaks(ed,closed='right',dtype='interval[int64]')\n",
    "print('\\nvalues of Interval_Index: ' + str(Interval_Index))\n",
    "\n",
    "# Create a column displaying the interval\n",
    "DATA_MODIFICADA['quantile_interval'] = pd.cut(DATA_MODIFICADA['edad'], bins=Interval_Index)\n",
    "\n",
    "dict_inter_quantile = pd.Series(DATA_MODIFICADA['quantile_interval'].unique().sort_values(ascending=False), name='interval').reset_index()\n",
    "dict_inter_quantile.columns = ['Quantiles_edad', 'quantile_interval']\n",
    "dict_inter_quantile = dict_inter_quantile.set_index('quantile_interval')\n",
    "\n",
    "#DATA_MODIFICADA.sample(8)"
   ]
  },
  {
   "cell_type": "code",
   "execution_count": null,
   "id": "a0e664df",
   "metadata": {
    "ExecuteTime": {
     "end_time": "2022-05-09T04:12:54.335819Z",
     "start_time": "2022-05-09T04:12:47.848283Z"
    }
   },
   "outputs": [],
   "source": [
    "df = px.data.tips()\n",
    "\n",
    "fig = px.histogram(DATA_MODIFICADA, x=\"edad\",color=\"esta_interesado\", marginal = 'box',title='Distribución sin quantiles')\n",
    "fig.update_layout(bargap=0.2)\n",
    "fig.show()\n",
    "\n",
    "fig = px.histogram(DATA_MODIFICADA,x=\"Quantiles_edad\",color=\"esta_interesado\", marginal = 'box',title='Distribución por quantiles')\n",
    "fig.update_layout(bargap=0.2)\n",
    "fig.show()"
   ]
  },
  {
   "cell_type": "markdown",
   "id": "c2134efd",
   "metadata": {},
   "source": [
    "#### **Quantile Transformation (Saldo promedio de cuenta)** \n",
    "Utilizaremos esta técnica para llevar los datos a una distribución uniforme o normal, generando robustez para los outliers.\n",
    "\n",
    "Usamos 20 quantiles."
   ]
  },
  {
   "cell_type": "code",
   "execution_count": null,
   "id": "19647d4d",
   "metadata": {
    "ExecuteTime": {
     "end_time": "2022-05-09T04:12:54.652272Z",
     "start_time": "2022-05-09T04:12:54.337634Z"
    }
   },
   "outputs": [],
   "source": [
    "number_of_quantile = 20\n",
    "DATA_MODIFICADA['Quantiles_saldos'],edges = pd.qcut(x=DATA_MODIFICADA['saldo_promedio_cuenta'], q=number_of_quantile, labels=False, retbins=True )\n",
    "print('values of edges: ' + str(edges))\n",
    "\n",
    "#Evitar Nans:\n",
    "ed = np.delete(edges, 0)\n",
    "ed = np.delete(ed, -1)\n",
    "ed = np.append(np.append([DATA_MODIFICADA.saldo_promedio_cuenta.min()], [ed]), [DATA_MODIFICADA.saldo_promedio_cuenta.max()])\n",
    "print('\\nvalues of ed: ' + str(ed))\n",
    "\n",
    "# Transform the array as an IntervalIndex\n",
    "Interval_Index = pd.IntervalIndex.from_breaks(ed,closed='right',dtype='interval[int64]')\n",
    "print('\\nvalues of Interval_Index: ' + str(Interval_Index))\n",
    "\n",
    "# Create a column displaying the interval\n",
    "DATA_MODIFICADA['Intervalos saldos'] = pd.cut(DATA_MODIFICADA['saldo_promedio_cuenta'], bins=Interval_Index)\n",
    "\n",
    "dict_inter_quantile = pd.Series(DATA_MODIFICADA['Intervalos saldos'].unique().sort_values(ascending=False), name='interval').reset_index()\n",
    "dict_inter_quantile.columns = ['Quantiles_saldos', 'Intervalos saldos']\n",
    "dict_inter_quantile = dict_inter_quantile.set_index('Intervalos saldos')\n",
    "\n",
    "#DATA_MODIFICADA.sample(8)"
   ]
  },
  {
   "cell_type": "code",
   "execution_count": null,
   "id": "33094557",
   "metadata": {
    "ExecuteTime": {
     "end_time": "2022-05-09T04:12:57.411975Z",
     "start_time": "2022-05-09T04:12:54.653973Z"
    }
   },
   "outputs": [],
   "source": [
    "df = px.data.tips()\n",
    "\n",
    "fig = px.histogram(DATA_MODIFICADA, x=\"saldo_promedio_cuenta\",color=\"esta_interesado\", marginal = 'box',title='Distribución sin quantiles')\n",
    "fig.update_layout(bargap=0.2)\n",
    "fig.show()\n",
    "\n",
    "fig = px.histogram(DATA_MODIFICADA,x=\"Quantiles_saldos\",color=\"esta_interesado\", marginal = 'box', title='Distribución por quantiles')\n",
    "fig.update_layout(bargap=0.2)\n",
    "fig.show()"
   ]
  },
  {
   "cell_type": "markdown",
   "id": "55296fc0",
   "metadata": {},
   "source": [
    "#### **Quantile Transformation (antiguedad)** \n",
    "Utilizaremos esta técnica para llevar los datos a una distribución uniforme o normal, generando robustez para los outliers.\n",
    "\n",
    "Usamos 5 quantiles."
   ]
  },
  {
   "cell_type": "code",
   "execution_count": null,
   "id": "ec766661",
   "metadata": {
    "ExecuteTime": {
     "end_time": "2022-05-09T04:12:57.731465Z",
     "start_time": "2022-05-09T04:12:57.413975Z"
    }
   },
   "outputs": [],
   "source": [
    "number_of_quantile = 5\n",
    "DATA_MODIFICADA['Quantiles_antiguedad'],edges = pd.qcut(x=DATA_MODIFICADA['antiguedad'], q=number_of_quantile, labels=False, retbins=True )\n",
    "print('values of edges: ' + str(edges))\n",
    "\n",
    "#Evitar Nans:\n",
    "ed = np.delete(edges, 0)\n",
    "ed = np.delete(ed, -1)\n",
    "ed = np.append(np.append([DATA_MODIFICADA.antiguedad.min()], [ed]), [DATA_MODIFICADA.antiguedad.max()])\n",
    "print('\\nvalues of ed: ' + str(ed))\n",
    "\n",
    "# Transform the array as an IntervalIndex\n",
    "Interval_Index = pd.IntervalIndex.from_breaks(ed,closed='right',dtype='interval[int64]')\n",
    "print('\\nvalues of Interval_Index: ' + str(Interval_Index))\n",
    "\n",
    "# Create a column displaying the interval\n",
    "DATA_MODIFICADA['Intervalos antiguedad'] = pd.cut(DATA_MODIFICADA['antiguedad'], bins=Interval_Index)\n",
    "\n",
    "dict_inter_quantile = pd.Series(DATA_MODIFICADA['Intervalos antiguedad'].unique().sort_values(ascending=False), name='interval').reset_index()\n",
    "dict_inter_quantile.columns = ['Quantiles_antiguedad', 'Intervalos antiguedad']\n",
    "dict_inter_quantile = dict_inter_quantile.set_index('Intervalos antiguedad')\n",
    "\n",
    "#DATA_MODIFICADA.sample(8)"
   ]
  },
  {
   "cell_type": "code",
   "execution_count": null,
   "id": "78526001",
   "metadata": {
    "ExecuteTime": {
     "end_time": "2022-05-09T04:13:00.169621Z",
     "start_time": "2022-05-09T04:12:57.732519Z"
    }
   },
   "outputs": [],
   "source": [
    "df = px.data.tips()\n",
    "\n",
    "fig = px.histogram(DATA_MODIFICADA, x=\"antiguedad\",color=\"esta_interesado\", marginal = 'box',title='Distribución sin quantiles')\n",
    "fig.update_layout(bargap=0.2)\n",
    "fig.show()\n",
    "\n",
    "fig = px.histogram(DATA_MODIFICADA,x=\"Quantiles_antiguedad\",color=\"esta_interesado\", marginal = 'box',\n",
    "                   title='Distribución por quantiles')\n",
    "fig.update_layout(bargap=0.2)\n",
    "fig.show()"
   ]
  },
  {
   "cell_type": "markdown",
   "id": "90879912",
   "metadata": {},
   "source": [
    "## Preparación Datos ##\n"
   ]
  },
  {
   "cell_type": "markdown",
   "id": "a45af2e4",
   "metadata": {},
   "source": [
    "Eliminamos la columnas que no vamos a utilizar luego de la creación de los Quantiles."
   ]
  },
  {
   "cell_type": "code",
   "execution_count": null,
   "id": "de7e1ae0",
   "metadata": {
    "ExecuteTime": {
     "end_time": "2022-05-09T04:13:00.201548Z",
     "start_time": "2022-05-09T04:13:00.190534Z"
    }
   },
   "outputs": [],
   "source": [
    "DATA_MODIFICADA.shape "
   ]
  },
  {
   "cell_type": "code",
   "execution_count": null,
   "id": "d61fa639",
   "metadata": {
    "ExecuteTime": {
     "end_time": "2022-05-09T04:13:00.233527Z",
     "start_time": "2022-05-09T04:13:00.203536Z"
    }
   },
   "outputs": [],
   "source": [
    "DATA_MODIFICADA = DATA_MODIFICADA.drop(['edad', 'antiguedad', 'saldo_promedio_cuenta', 'quantile_interval','Intervalos saldos','Intervalos antiguedad'], axis=1)"
   ]
  },
  {
   "cell_type": "code",
   "execution_count": null,
   "id": "6329a096",
   "metadata": {
    "ExecuteTime": {
     "end_time": "2022-05-09T04:13:00.249527Z",
     "start_time": "2022-05-09T04:13:00.234529Z"
    }
   },
   "outputs": [],
   "source": [
    "DATA_MODIFICADA.shape "
   ]
  },
  {
   "cell_type": "markdown",
   "id": "1cd152cd",
   "metadata": {},
   "source": [
    "## 3. Qué modelos vamos a evaluar?"
   ]
  },
  {
   "cell_type": "markdown",
   "id": "b29b4640",
   "metadata": {},
   "source": [
    "- Gradient Boosting\n",
    "- Regresión Logística\n",
    "- Arboles de decisión\n",
    "- Random Forests\n"
   ]
  },
  {
   "cell_type": "markdown",
   "id": "30192fc0",
   "metadata": {
    "ExecuteTime": {
     "end_time": "2022-05-08T23:02:07.230211Z",
     "start_time": "2022-05-08T23:02:07.219202Z"
    }
   },
   "source": [
    "## Alternativas"
   ]
  },
  {
   "cell_type": "markdown",
   "id": "f9751186",
   "metadata": {
    "ExecuteTime": {
     "end_time": "2022-05-08T23:02:45.528006Z",
     "start_time": "2022-05-08T23:02:45.503978Z"
    }
   },
   "source": [
    "### I) Sin quantiles(SimpleImputer).\n",
    "### II) Con quantiles(SimpleImputer).\n",
    "### III) Eliminando la columna \"tiene_producto_credito_activo\"."
   ]
  },
  {
   "cell_type": "markdown",
   "id": "5dd8f914",
   "metadata": {},
   "source": [
    "## División del data set para alternativa I"
   ]
  },
  {
   "cell_type": "code",
   "execution_count": null,
   "id": "08868e9d",
   "metadata": {
    "ExecuteTime": {
     "end_time": "2022-05-09T04:13:00.407531Z",
     "start_time": "2022-05-09T04:13:00.299529Z"
    }
   },
   "outputs": [],
   "source": [
    "# 60% train, 20% test, 20% validation\n",
    "train_o, not_train_o = train_test_split(DATA_ORIGINAL, test_size=0.4, random_state=42)\n",
    "validation_o, test_o = train_test_split(not_train_o, test_size=0.5, random_state=42)\n",
    "\n",
    "train_o.shape, validation_o.shape, test_o.shape"
   ]
  },
  {
   "cell_type": "markdown",
   "id": "7a0a3cd9",
   "metadata": {},
   "source": [
    "## División del data set para alternativa II y III"
   ]
  },
  {
   "cell_type": "code",
   "execution_count": null,
   "id": "d488a1a9",
   "metadata": {
    "ExecuteTime": {
     "end_time": "2022-05-09T04:13:00.564531Z",
     "start_time": "2022-05-09T04:13:00.441532Z"
    }
   },
   "outputs": [],
   "source": [
    "# 60% train, 20% test, 20% validation\n",
    "train, not_train = train_test_split(DATA_MODIFICADA, test_size=0.4, random_state=42)\n",
    "validation, test = train_test_split(not_train, test_size=0.5, random_state=42)\n",
    "\n",
    "train.shape, validation.shape, test.shape"
   ]
  },
  {
   "cell_type": "markdown",
   "id": "f640cf67",
   "metadata": {},
   "source": [
    "<h3><center>I) Mapper Sin quantiles</center></h3> "
   ]
  },
  {
   "cell_type": "code",
   "execution_count": null,
   "id": "756b47b3",
   "metadata": {
    "ExecuteTime": {
     "end_time": "2022-05-09T04:13:00.594534Z",
     "start_time": "2022-05-09T04:13:00.581527Z"
    }
   },
   "outputs": [],
   "source": [
    "mapper_o = DataFrameMapper([\n",
    "    (['sexo'], [LabelBinarizer()]), \n",
    "    (['edad'], [StandardScaler()]),\n",
    "    (['codigo_region'], [OneHotEncoder()]),\n",
    "    (['ocupacion'], [OneHotEncoder()]),\n",
    "    (['codigo_canal'], [OneHotEncoder()]),\n",
    "    (['antiguedad'], [StandardScaler()]), \n",
    "    (['tiene_producto_credito_activo'], [SimpleImputer(strategy='most_frequent'), LabelBinarizer()]),\n",
    "    (['saldo_promedio_cuenta'], [StandardScaler()]),\n",
    "    (['es_activo'], [LabelBinarizer()]),\n",
    "], df_out=True) # df_out=True → Es lo que muestra el nombre de la columna"
   ]
  },
  {
   "cell_type": "code",
   "execution_count": null,
   "id": "0bc9eb23",
   "metadata": {
    "ExecuteTime": {
     "end_time": "2022-05-09T04:13:01.532534Z",
     "start_time": "2022-05-09T04:13:00.596534Z"
    }
   },
   "outputs": [],
   "source": [
    "# train transformado\n",
    "mapper_o.fit(train_o)"
   ]
  },
  {
   "cell_type": "code",
   "execution_count": null,
   "id": "f440693b",
   "metadata": {
    "ExecuteTime": {
     "end_time": "2022-05-09T04:13:07.988048Z",
     "start_time": "2022-05-09T04:13:05.813723Z"
    }
   },
   "outputs": [],
   "source": [
    "# train transformado\n",
    "mapper_o.transform(train_o)"
   ]
  },
  {
   "cell_type": "code",
   "execution_count": null,
   "id": "8fed78d1",
   "metadata": {
    "ExecuteTime": {
     "end_time": "2022-05-09T04:13:05.812007Z",
     "start_time": "2022-05-09T04:13:05.798529Z"
    }
   },
   "outputs": [],
   "source": [
    "# Nombres de los faetures\n",
    "mapper_o.transformed_names_"
   ]
  },
  {
   "cell_type": "code",
   "execution_count": null,
   "id": "54591bc8",
   "metadata": {
    "ExecuteTime": {
     "end_time": "2022-05-09T04:13:05.796661Z",
     "start_time": "2022-05-09T04:13:01.534532Z"
    }
   },
   "outputs": [],
   "source": [
    "np.round(mapper_o.fit_transform(train_o), 2)"
   ]
  },
  {
   "cell_type": "markdown",
   "id": "7dad28f1",
   "metadata": {},
   "source": [
    "<h3><center>II) Mapper con quantiles</center></h3>"
   ]
  },
  {
   "cell_type": "code",
   "execution_count": null,
   "id": "4cb585e0",
   "metadata": {
    "ExecuteTime": {
     "end_time": "2022-05-09T04:13:08.004006Z",
     "start_time": "2022-05-09T04:13:07.990778Z"
    }
   },
   "outputs": [],
   "source": [
    "mapper = DataFrameMapper([\n",
    "    (['sexo'], [LabelBinarizer()]), \n",
    "    (['codigo_region'], [OneHotEncoder()]),\n",
    "    (['ocupacion'], [OneHotEncoder()]),\n",
    "    (['codigo_canal'], [OneHotEncoder()]),\n",
    "    (['tiene_producto_credito_activo'], [SimpleImputer(strategy='most_frequent'), LabelBinarizer()]),\n",
    "    (['es_activo'], [LabelBinarizer()]),\n",
    "    (['Quantiles_edad'], [StandardScaler()]),\n",
    "    (['Quantiles_saldos'], [StandardScaler()]),\n",
    "    (['Quantiles_antiguedad'], [StandardScaler()])\n",
    "], df_out=True) # df_out=True → Es lo que muestra el nombre de la columna"
   ]
  },
  {
   "cell_type": "code",
   "execution_count": null,
   "id": "fa0a77af",
   "metadata": {
    "ExecuteTime": {
     "end_time": "2022-05-09T04:13:08.782104Z",
     "start_time": "2022-05-09T04:13:08.005723Z"
    },
    "scrolled": true
   },
   "outputs": [],
   "source": [
    "# train transformado\n",
    "mapper.fit(train)"
   ]
  },
  {
   "cell_type": "code",
   "execution_count": null,
   "id": "031ad8a7",
   "metadata": {
    "ExecuteTime": {
     "end_time": "2022-05-09T04:13:15.061155Z",
     "start_time": "2022-05-09T04:13:12.906857Z"
    }
   },
   "outputs": [],
   "source": [
    "# train transformado\n",
    "mapper.transform(train)"
   ]
  },
  {
   "cell_type": "code",
   "execution_count": null,
   "id": "b2903b01",
   "metadata": {
    "ExecuteTime": {
     "end_time": "2022-05-09T04:13:12.904857Z",
     "start_time": "2022-05-09T04:13:12.890141Z"
    }
   },
   "outputs": [],
   "source": [
    "# Nombres de los faetures\n",
    "mapper.transformed_names_"
   ]
  },
  {
   "cell_type": "code",
   "execution_count": null,
   "id": "72569ba9",
   "metadata": {
    "ExecuteTime": {
     "end_time": "2022-05-09T04:13:12.889142Z",
     "start_time": "2022-05-09T04:13:08.784141Z"
    }
   },
   "outputs": [],
   "source": [
    "np.round(mapper.fit_transform(train), 2)"
   ]
  },
  {
   "cell_type": "markdown",
   "id": "61dab8ab",
   "metadata": {},
   "source": [
    "<h3><center>III) Mapper eliminando la columna de 'tiene_producto_credito_activo'</center></h3>"
   ]
  },
  {
   "cell_type": "code",
   "execution_count": null,
   "id": "ac69d5da",
   "metadata": {
    "ExecuteTime": {
     "end_time": "2022-05-09T04:13:15.077238Z",
     "start_time": "2022-05-09T04:13:15.062857Z"
    }
   },
   "outputs": [],
   "source": [
    "mapper_dc = DataFrameMapper([\n",
    "    (['sexo'], [LabelBinarizer()]), \n",
    "    (['codigo_region'], [OneHotEncoder()]),\n",
    "    (['ocupacion'], [OneHotEncoder()]),\n",
    "    (['codigo_canal'], [OneHotEncoder()]),\n",
    "    (['es_activo'], [LabelBinarizer()]),\n",
    "    (['Quantiles_edad'], [StandardScaler()]),\n",
    "    (['Quantiles_saldos'], [StandardScaler()]),\n",
    "    (['Quantiles_antiguedad'], [StandardScaler()])\n",
    "], df_out=True, default=False) # df_out=True → Es lo que muestra el nombre de la columna"
   ]
  },
  {
   "cell_type": "code",
   "execution_count": null,
   "id": "dd526ea5",
   "metadata": {
    "ExecuteTime": {
     "end_time": "2022-05-09T04:13:15.661860Z",
     "start_time": "2022-05-09T04:13:15.078857Z"
    }
   },
   "outputs": [],
   "source": [
    "# Lo entrenamos con train\n",
    "mapper_dc.fit(train)"
   ]
  },
  {
   "cell_type": "code",
   "execution_count": null,
   "id": "550192db",
   "metadata": {
    "ExecuteTime": {
     "end_time": "2022-05-09T04:13:17.522899Z",
     "start_time": "2022-05-09T04:13:15.663857Z"
    }
   },
   "outputs": [],
   "source": [
    "# train transformado\n",
    "mapper_dc.transform(train)"
   ]
  },
  {
   "cell_type": "code",
   "execution_count": null,
   "id": "c7da6447",
   "metadata": {
    "ExecuteTime": {
     "end_time": "2022-05-09T04:13:17.538909Z",
     "start_time": "2022-05-09T04:13:17.525862Z"
    }
   },
   "outputs": [],
   "source": [
    "# Nombres de los faetures\n",
    "mapper_dc.transformed_names_"
   ]
  },
  {
   "cell_type": "code",
   "execution_count": null,
   "id": "a6394cc5",
   "metadata": {
    "ExecuteTime": {
     "end_time": "2022-05-09T04:13:21.001076Z",
     "start_time": "2022-05-09T04:13:17.541907Z"
    },
    "scrolled": true
   },
   "outputs": [],
   "source": [
    "np.round(mapper_dc.fit_transform(train), 2)"
   ]
  },
  {
   "cell_type": "markdown",
   "id": "f3c5ab8b",
   "metadata": {},
   "source": [
    "# Evaluación Modelos - Alternativa I - Sin quantiles"
   ]
  },
  {
   "cell_type": "markdown",
   "id": "29efff26",
   "metadata": {},
   "source": [
    "#### Programemos una función para evaluar un modelo..."
   ]
  },
  {
   "cell_type": "code",
   "execution_count": null,
   "id": "44c5e3e5",
   "metadata": {
    "ExecuteTime": {
     "end_time": "2022-05-09T04:13:21.032678Z",
     "start_time": "2022-05-09T04:13:21.019729Z"
    }
   },
   "outputs": [],
   "source": [
    "def evaluate_model_o(model, set_names=('train_o', 'validation_o'), title='', show_cm=True):\n",
    "    if title:\n",
    "        display(title)\n",
    "        \n",
    "    final_metrics = defaultdict(list)\n",
    "    \n",
    "    if show_cm:\n",
    "        fig, axis = plt.subplots(1, len(set_names), sharey=True, figsize=(15, 3))\n",
    "    \n",
    "    for i, set_name in enumerate(set_names):\n",
    "        assert set_name in ['train_o', 'validation_o', 'test_o']\n",
    "        set_data = globals()[set_name]  # <- hack feo...\n",
    "\n",
    "        y = set_data.esta_interesado\n",
    "        y_pred = model.predict(set_data)\n",
    "        final_metrics['Accuracy'].append(metrics.accuracy_score(y, y_pred))\n",
    "        final_metrics['Precision'].append(metrics.precision_score(y, y_pred))\n",
    "        final_metrics['Recall'].append(metrics.recall_score(y, y_pred))\n",
    "        final_metrics['F1'].append(metrics.f1_score(y, y_pred))\n",
    "        \n",
    "        if show_cm:\n",
    "            ax = axis[i]\n",
    "            sns.heatmap(metrics.confusion_matrix(y, y_pred), ax=ax, cmap='Blues', annot=True, fmt='.0f', cbar=False)\n",
    "\n",
    "            ax.set_title(set_name)\n",
    "            ax.xaxis.set_ticklabels(['no esta interesado', 'esta interesado'])\n",
    "            ax.yaxis.set_ticklabels(['no esta interesado', 'esta interesado'])\n",
    "            ax.set_xlabel('Predicted class')\n",
    "            ax.set_ylabel('True class')\n",
    "        \n",
    "    display(pd.DataFrame(final_metrics, index=set_names))\n",
    "    if show_cm:\n",
    "        plt.tight_layout()\n",
    "        plt.show()"
   ]
  },
  {
   "cell_type": "markdown",
   "id": "0f9d3627",
   "metadata": {},
   "source": [
    "#### Gradient Boosting ####"
   ]
  },
  {
   "cell_type": "code",
   "execution_count": null,
   "id": "970e7a33",
   "metadata": {
    "ExecuteTime": {
     "end_time": "2022-05-09T04:13:59.125283Z",
     "start_time": "2022-05-09T04:13:21.587012Z"
    }
   },
   "outputs": [],
   "source": [
    "gbc_model = Pipeline([\n",
    "    ('mapper', mapper_o),\n",
    "    ('classifier', GradientBoostingClassifier(random_state=94)),\n",
    "])\n",
    "\n",
    "gbc_model.fit(train_o, train_o.esta_interesado)\n",
    "\n",
    "evaluate_model_o(gbc_model, title='Gradient Boosting')"
   ]
  },
  {
   "cell_type": "markdown",
   "id": "cd0b6724",
   "metadata": {},
   "source": [
    "#### Regresión Logística ####"
   ]
  },
  {
   "cell_type": "code",
   "execution_count": null,
   "id": "6f039c09",
   "metadata": {
    "ExecuteTime": {
     "end_time": "2022-05-09T04:14:04.065219Z",
     "start_time": "2022-05-09T04:13:59.162225Z"
    }
   },
   "outputs": [],
   "source": [
    "regresion_logistica = LogisticRegression()\n",
    "lr_model = Pipeline([\n",
    "    ('mapper', mapper_o),\n",
    "    ('classifier', LogisticRegression(random_state=14)),\n",
    "])\n",
    "\n",
    "lr_model.fit(train_o, train_o.esta_interesado)\n",
    "\n",
    "evaluate_model_o(lr_model, title='Regresión Logística')"
   ]
  },
  {
   "cell_type": "markdown",
   "id": "595de38d",
   "metadata": {},
   "source": [
    "#### Arboles de decisión #### "
   ]
  },
  {
   "cell_type": "code",
   "execution_count": null,
   "id": "5b6ecae2",
   "metadata": {
    "ExecuteTime": {
     "end_time": "2022-05-09T04:14:16.074594Z",
     "start_time": "2022-05-09T04:14:07.278295Z"
    }
   },
   "outputs": [],
   "source": [
    "tree_model = DecisionTreeClassifier(random_state=42)\n",
    "\n",
    "lr_model = Pipeline([\n",
    "    ('mapper', mapper_o),\n",
    "    ('classifier', tree_model),\n",
    "])\n",
    "\n",
    "lr_model.fit(train_o, train_o.esta_interesado)\n",
    "\n",
    "evaluate_model_o(lr_model, title='Decision Tree')"
   ]
  },
  {
   "cell_type": "markdown",
   "id": "3ea32e38",
   "metadata": {},
   "source": [
    "#### Random Forests ####"
   ]
  },
  {
   "cell_type": "code",
   "execution_count": null,
   "id": "0bc2ca73",
   "metadata": {
    "ExecuteTime": {
     "end_time": "2022-05-09T04:15:03.452739Z",
     "start_time": "2022-05-09T04:14:16.092249Z"
    }
   },
   "outputs": [],
   "source": [
    "forest_model = RandomForestClassifier(random_state=42) # n_estimators? max_depth=3?, max_features=2?\n",
    "\n",
    "rf_model = Pipeline([\n",
    "    ('mapper', mapper_o),\n",
    "    ('classifier', forest_model),\n",
    "])\n",
    "\n",
    "rf_model.fit(train_o, train_o.esta_interesado)\n",
    "\n",
    "evaluate_model_o(rf_model, title='Random Forest')"
   ]
  },
  {
   "cell_type": "markdown",
   "id": "5dbe1f6f",
   "metadata": {},
   "source": [
    "# Evaluación alternativa II - Con quantiles."
   ]
  },
  {
   "cell_type": "markdown",
   "id": "b4a201ef",
   "metadata": {},
   "source": [
    "#### Programemos una función para evaluar un modelo..."
   ]
  },
  {
   "cell_type": "code",
   "execution_count": null,
   "id": "2e659746",
   "metadata": {
    "ExecuteTime": {
     "end_time": "2022-05-09T04:15:03.484438Z",
     "start_time": "2022-05-09T04:15:03.470438Z"
    }
   },
   "outputs": [],
   "source": [
    "def evaluate_model(model, set_names=('train', 'validation'), title='', show_cm=True):\n",
    "    if title:\n",
    "        display(title)\n",
    "        \n",
    "    final_metrics = defaultdict(list)\n",
    "    \n",
    "    if show_cm:\n",
    "        fig, axis = plt.subplots(1, len(set_names), sharey=True, figsize=(15, 3))\n",
    "    \n",
    "    for i, set_name in enumerate(set_names):\n",
    "        assert set_name in ['train', 'validation', 'test']\n",
    "        set_data = globals()[set_name]  # <- hack feo...\n",
    "\n",
    "        y = set_data.esta_interesado\n",
    "        y_pred = model.predict(set_data)\n",
    "        final_metrics['Accuracy'].append(metrics.accuracy_score(y, y_pred))\n",
    "        final_metrics['Precision'].append(metrics.precision_score(y, y_pred))\n",
    "        final_metrics['Recall'].append(metrics.recall_score(y, y_pred))\n",
    "        final_metrics['F1'].append(metrics.f1_score(y, y_pred))\n",
    "        \n",
    "        if show_cm:\n",
    "            ax = axis[i]\n",
    "            sns.heatmap(metrics.confusion_matrix(y, y_pred), ax=ax, cmap='Blues', annot=True, fmt='.0f', cbar=False)\n",
    "\n",
    "            ax.set_title(set_name)\n",
    "            ax.xaxis.set_ticklabels(['no esta interesado', 'esta interesado'])\n",
    "            ax.yaxis.set_ticklabels(['no esta interesado', 'esta interesado'])\n",
    "            ax.set_xlabel('Predicted class')\n",
    "            ax.set_ylabel('True class')\n",
    "\n",
    "    display(pd.DataFrame(final_metrics, index=set_names))\n",
    "    if show_cm:\n",
    "        plt.tight_layout()\n",
    "        plt.show()"
   ]
  },
  {
   "cell_type": "markdown",
   "id": "5ffd6d83",
   "metadata": {},
   "source": [
    "#### Gradient Boosting ####"
   ]
  },
  {
   "cell_type": "code",
   "execution_count": null,
   "id": "0b395c00",
   "metadata": {
    "ExecuteTime": {
     "end_time": "2022-05-09T04:15:30.991440Z",
     "start_time": "2022-05-09T04:15:03.487444Z"
    },
    "scrolled": true
   },
   "outputs": [],
   "source": [
    "gbc_1_model = Pipeline([\n",
    "    ('mapper', mapper),\n",
    "    ('classifier', GradientBoostingClassifier(random_state=94)),\n",
    "])\n",
    "\n",
    "gbc_1_model.fit(train, train.esta_interesado)\n",
    "\n",
    "evaluate_model(gbc_1_model, title='Gradient Boosting')"
   ]
  },
  {
   "cell_type": "markdown",
   "id": "cfe615cb",
   "metadata": {},
   "source": [
    "#### Regresión Logística ####"
   ]
  },
  {
   "cell_type": "code",
   "execution_count": null,
   "id": "04cd3ae0",
   "metadata": {
    "ExecuteTime": {
     "end_time": "2022-05-09T04:15:39.492436Z",
     "start_time": "2022-05-09T04:15:34.770436Z"
    }
   },
   "outputs": [],
   "source": [
    "lr_1_model = Pipeline([\n",
    "    ('mapper', mapper),\n",
    "    ('classifier', LogisticRegression(random_state=14)),\n",
    "])\n",
    "\n",
    "lr_1_model.fit(train, train.esta_interesado)\n",
    "\n",
    "evaluate_model(lr_1_model, title='Regresión Logistica')"
   ]
  },
  {
   "cell_type": "markdown",
   "id": "d3f159ad",
   "metadata": {},
   "source": [
    "#### Arboles de decisión #### "
   ]
  },
  {
   "cell_type": "code",
   "execution_count": null,
   "id": "356d2508",
   "metadata": {
    "ExecuteTime": {
     "end_time": "2022-05-09T04:15:47.623863Z",
     "start_time": "2022-05-09T04:15:42.536441Z"
    }
   },
   "outputs": [],
   "source": [
    "tree_model = DecisionTreeClassifier(random_state=42)\n",
    "\n",
    "ad_1_model = Pipeline([\n",
    "    ('mapper', mapper),\n",
    "    ('classifier', tree_model),\n",
    "])\n",
    "\n",
    "ad_1_model.fit(train, train.esta_interesado)\n",
    "\n",
    "evaluate_model(ad_1_model, title='Decision Tree')"
   ]
  },
  {
   "cell_type": "markdown",
   "id": "e24fd434",
   "metadata": {},
   "source": [
    "#### Random Forests ####"
   ]
  },
  {
   "cell_type": "code",
   "execution_count": null,
   "id": "570e9f1e",
   "metadata": {
    "ExecuteTime": {
     "end_time": "2022-05-09T04:16:23.596119Z",
     "start_time": "2022-05-09T04:15:51.024851Z"
    }
   },
   "outputs": [],
   "source": [
    "forest_model = RandomForestClassifier(random_state=42)\n",
    "\n",
    "rf_1_model = Pipeline([\n",
    "    ('mapper', mapper),\n",
    "    ('classifier', forest_model),\n",
    "])\n",
    "\n",
    "rf_1_model.fit(train, train.esta_interesado)\n",
    "\n",
    "evaluate_model(rf_1_model, title='Random Forest')"
   ]
  },
  {
   "cell_type": "markdown",
   "id": "01bd30d4",
   "metadata": {},
   "source": [
    "# Evaluación Modelos - Alternativa III - Eliminando la columna \"tiene_producto_credito_activo\"."
   ]
  },
  {
   "cell_type": "markdown",
   "id": "e6defaa1",
   "metadata": {},
   "source": [
    "#### Gradient Boosting ####"
   ]
  },
  {
   "cell_type": "code",
   "execution_count": null,
   "id": "536a257f",
   "metadata": {
    "ExecuteTime": {
     "end_time": "2022-05-09T04:17:09.300995Z",
     "start_time": "2022-05-09T04:16:34.752856Z"
    },
    "scrolled": true
   },
   "outputs": [],
   "source": [
    "gbc_model_ec = Pipeline([\n",
    "    ('mapperdc', mapper_dc),\n",
    "    ('classifier', GradientBoostingClassifier(random_state=94)),\n",
    "])\n",
    "\n",
    "gbc_model_ec.fit(train, train.esta_interesado)\n",
    "\n",
    "evaluate_model(gbc_model_ec, title='Gradient Boosting')"
   ]
  },
  {
   "cell_type": "markdown",
   "id": "6f56a2ac",
   "metadata": {},
   "source": [
    "#### Regresión Logística ####"
   ]
  },
  {
   "cell_type": "code",
   "execution_count": null,
   "id": "474a417c",
   "metadata": {
    "ExecuteTime": {
     "end_time": "2022-05-09T04:17:17.474269Z",
     "start_time": "2022-05-09T04:17:09.302815Z"
    }
   },
   "outputs": [],
   "source": [
    "lr_model_ec = Pipeline([\n",
    "    ('mappercd', mapper_dc),\n",
    "    ('classifier', LogisticRegression(random_state=94)),\n",
    "])\n",
    "\n",
    "lr_model_ec.fit(train, train.esta_interesado)\n",
    "\n",
    "evaluate_model(lr_model_ec, title='Regresión Logistica')"
   ]
  },
  {
   "cell_type": "markdown",
   "id": "92e1faf2",
   "metadata": {},
   "source": [
    "#### Arboles de decisión #### "
   ]
  },
  {
   "cell_type": "code",
   "execution_count": null,
   "id": "ad5c4e59",
   "metadata": {
    "ExecuteTime": {
     "end_time": "2022-05-09T04:17:25.817153Z",
     "start_time": "2022-05-09T04:17:17.475849Z"
    }
   },
   "outputs": [],
   "source": [
    "tree_model = DecisionTreeClassifier(random_state=42)\n",
    "\n",
    "lr_model = Pipeline([\n",
    "    ('mapper', mapper_dc),\n",
    "    ('classifier', tree_model),\n",
    "])\n",
    "\n",
    "lr_model.fit(train, train.esta_interesado)\n",
    "\n",
    "evaluate_model(lr_model, title='Decision Tree')"
   ]
  },
  {
   "cell_type": "markdown",
   "id": "d6e1aebe",
   "metadata": {},
   "source": [
    "#### Random Forest #### "
   ]
  },
  {
   "cell_type": "code",
   "execution_count": null,
   "id": "7c38956a",
   "metadata": {
    "ExecuteTime": {
     "end_time": "2022-05-09T04:18:18.815603Z",
     "start_time": "2022-05-09T04:17:25.820832Z"
    }
   },
   "outputs": [],
   "source": [
    "forest_model = RandomForestClassifier(random_state=42)\n",
    "\n",
    "rf_model = Pipeline([\n",
    "    ('mapper', mapper_dc),\n",
    "    ('classifier', forest_model),\n",
    "])\n",
    "\n",
    "rf_model.fit(train, train.esta_interesado)\n",
    "\n",
    "evaluate_model(rf_model, title='Random Forest')"
   ]
  },
  {
   "cell_type": "markdown",
   "id": "325f3977",
   "metadata": {},
   "source": [
    "## Comparativa de las técnicas aplicadas ##"
   ]
  },
  {
   "cell_type": "markdown",
   "id": "9be9d63e",
   "metadata": {},
   "source": [
    "- #### Gradient Boosting¶ ####"
   ]
  },
  {
   "cell_type": "markdown",
   "id": "8b499810",
   "metadata": {},
   "source": [
    "| Alternativa | Precision(Train) | Precision(Validation) \n",
    "| -- | --- | --- |\n",
    "| Sin quantiles | 0.714523 | 0.707765 |\n",
    "| Con quantiles | 0.781776 | 0.780931 |\n",
    "| Sin columna \"tiene_producto_credito_activo\" | 0.760914 | 0.762367 |\n"
   ]
  },
  {
   "cell_type": "markdown",
   "id": "ac38357c",
   "metadata": {},
   "source": [
    "- #### Regresión Logística  ####"
   ]
  },
  {
   "cell_type": "markdown",
   "id": "75a2e8e2",
   "metadata": {},
   "source": [
    "| Alternativa | Precision(Train) | Precision(Validation) \n",
    "| -- | --- | --- |\n",
    "| Sin quantiles | 0.658736 | 0.656354|\n",
    "| Con quantiles | 0.781370 | 0.786641 |\n",
    "| Sin columna \"tiene_producto_credito_activo\" | 0.658736 | 0.656354 |"
   ]
  },
  {
   "cell_type": "markdown",
   "id": "b8c6aa80",
   "metadata": {},
   "source": [
    "- #### Arboles de decisión¶ ####"
   ]
  },
  {
   "cell_type": "markdown",
   "id": "c46c03d1",
   "metadata": {},
   "source": [
    "| Alternativa | Precision(Train) | Precision(Validation) \n",
    "| -- | --- | --- |\n",
    "| Sin quantiles | 1.000000 | 0.393015 |\n",
    "| Con quantiles | 0.951180 | 0.421203 |\n",
    "| Sin columna \"tiene_producto_credito_activo\" | 0.927228 | 0.415718 |"
   ]
  },
  {
   "cell_type": "markdown",
   "id": "59214489",
   "metadata": {},
   "source": [
    "- #### Random Forest¶ ####"
   ]
  },
  {
   "cell_type": "markdown",
   "id": "ba74083b",
   "metadata": {},
   "source": [
    "| Alternativa | Precision(Train) | Precision(Validation) \n",
    "| -- | --- | --- |\n",
    "| Sin quantiles | 1.000000 | 0.55831 |\n",
    "| Con quantiles | 0.908146 | 0.470312 |\n",
    "| Sin columna \"tiene_producto_credito_activo\" | 0.876625 | 0.456061 |"
   ]
  },
  {
   "cell_type": "markdown",
   "id": "621e9ad5",
   "metadata": {},
   "source": [
    "De las técnicas de feature aplicadas, optamos por la de quantiles y además tendremos en cuenta la columna \"tiene_producto_credito_activos\", ya que los resultados son del %78,09 en validation."
   ]
  },
  {
   "cell_type": "markdown",
   "id": "245b2f95",
   "metadata": {},
   "source": [
    "Comparando los resultados obtenidos con cada alternativa, optamos por la que tiene aplicada la división por quantiles. Ademas de elegir esta opción, vamos a mantener la columna \"tiene_producto_credito_activos\" dentro del dataset.\n",
    "\n",
    "En la Alternativa II se puede obtener un 78,09% en el conjunto de \"validation\", lo que nos parece un número aceptable para informar al cliente."
   ]
  },
  {
   "cell_type": "markdown",
   "id": "7f4b14e9",
   "metadata": {},
   "source": [
    "## Valor final de la métrica que podría ser informado al cliente  ##"
   ]
  },
  {
   "cell_type": "markdown",
   "id": "f667d61d",
   "metadata": {},
   "source": [
    "En este apartado comparamos lo valores obtenidos para la alternativa elegida sobre el conjunto de Test."
   ]
  },
  {
   "cell_type": "code",
   "execution_count": null,
   "id": "7a23545c",
   "metadata": {
    "ExecuteTime": {
     "end_time": "2022-05-09T04:18:45.795307Z",
     "start_time": "2022-05-09T04:18:18.818310Z"
    }
   },
   "outputs": [],
   "source": [
    "#De la alternativa \"con quantiles\", evaluaremos los modelos y el de mayor valor de test será el elegido.\n",
    "evaluate_model(gbc_1_model, title='Gradient Boosting', set_names=('train', 'test', 'validation'), show_cm=False)\n",
    "evaluate_model(lr_1_model, title='Regresión Logística', set_names=('train', 'test', 'validation'), show_cm=False)\n",
    "evaluate_model(ad_1_model, title='Arból de decisión', set_names=('train', 'test', 'validation'), show_cm=False)\n",
    "evaluate_model(rf_1_model, title='Random Forest', set_names=('train', 'test', 'validation'), show_cm=False)"
   ]
  },
  {
   "cell_type": "markdown",
   "id": "1efb836f",
   "metadata": {},
   "source": [
    "Como conclusión de los resultados, se puede observar que para \"Árbol de decisión\" y \"Random Forest\" se esta sobre-entrenando, por lo que procedemos al siguiente paso, ajustar hiperparámetros para obtener mejores resultados."
   ]
  },
  {
   "cell_type": "markdown",
   "id": "dc0d3148",
   "metadata": {},
   "source": [
    "### Ajustando hiperparámetros del modelo de \"Arból de decisión\""
   ]
  },
  {
   "cell_type": "markdown",
   "id": "92a58055",
   "metadata": {},
   "source": [
    "Ajustando la profundidad máxima en 5 se puede observar la mejora de los resultados sobre los conjuntos \"Validation\" y \"Test\" para la métrica elegida inicialmente."
   ]
  },
  {
   "cell_type": "code",
   "execution_count": null,
   "id": "ba9bd461",
   "metadata": {
    "ExecuteTime": {
     "end_time": "2022-05-09T04:18:49.198501Z",
     "start_time": "2022-05-09T04:18:45.798314Z"
    }
   },
   "outputs": [],
   "source": [
    "tree_model_max = DecisionTreeClassifier(max_depth=5,random_state=42)\n",
    "\n",
    "ad_2_model = Pipeline([\n",
    "    ('mapper', mapper),\n",
    "    ('classifier', tree_model_max),\n",
    "])\n",
    "\n",
    "ad_2_model.fit(train, train.esta_interesado)\n",
    "\n",
    "evaluate_model(ad_2_model, title='Arból de decisión - max_depth=5', set_names=('train', 'test', 'validation'), show_cm=False)"
   ]
  },
  {
   "cell_type": "markdown",
   "id": "e559a3fb",
   "metadata": {
    "ExecuteTime": {
     "end_time": "2022-05-09T03:45:01.248400Z",
     "start_time": "2022-05-09T03:45:01.223296Z"
    }
   },
   "source": [
    "### Ajustando hiperparámetros del modelo de \"Random Forest\""
   ]
  },
  {
   "cell_type": "markdown",
   "id": "eed6e938",
   "metadata": {},
   "source": [
    "Realizamos la misma acción anterior, establecimos una profundidad máxima, esta vez de 6. En este cálculo, se puede observar como mejoro la métrica Re-call."
   ]
  },
  {
   "cell_type": "code",
   "execution_count": null,
   "id": "3820442b",
   "metadata": {
    "ExecuteTime": {
     "end_time": "2022-05-09T04:19:06.215746Z",
     "start_time": "2022-05-09T04:18:56.692520Z"
    }
   },
   "outputs": [],
   "source": [
    "forest_model_max = RandomForestClassifier(max_depth=6, random_state=42)\n",
    "\n",
    "rf_2_model = Pipeline([\n",
    "    ('mapper', mapper),\n",
    "    ('classifier', forest_model_max),\n",
    "])\n",
    "\n",
    "rf_2_model.fit(train, train.esta_interesado)\n",
    "\n",
    "evaluate_model(rf_2_model, title='Random Forest - max_depth=5', set_names=('train', 'test', 'validation'), show_cm=False)"
   ]
  },
  {
   "cell_type": "markdown",
   "id": "d4149868",
   "metadata": {},
   "source": [
    "### Ajustando hiperparámetros del modelo de \"Regresión Logística\""
   ]
  },
  {
   "cell_type": "markdown",
   "id": "91a7814d",
   "metadata": {},
   "source": [
    "El ajuste realizado fue replicar la clase más pequeña (interesados) hasta que tenga tantas muestras como en la más grande (no interesados), pero de manera implícita."
   ]
  },
  {
   "cell_type": "code",
   "execution_count": null,
   "id": "24826cb7",
   "metadata": {
    "ExecuteTime": {
     "end_time": "2022-05-09T04:19:31.858477Z",
     "start_time": "2022-05-09T04:19:26.813447Z"
    }
   },
   "outputs": [],
   "source": [
    "lr_2_model = Pipeline([\n",
    "    ('mapper', mapper),\n",
    "    ('classifier', LogisticRegression(class_weight=\"balanced\",random_state=14)),\n",
    "])\n",
    "\n",
    "lr_2_model.fit(train, train.esta_interesado)\n",
    "\n",
    "evaluate_model(lr_2_model, title='Regresión Logística - class_weight=\"balanced\"', set_names=('train', 'test', 'validation'), show_cm=False)"
   ]
  },
  {
   "cell_type": "markdown",
   "id": "def9a1e1",
   "metadata": {},
   "source": [
    "Como se puede observar, mejoran Re-call y F1, pero la métrica original elegida empeora mucho."
   ]
  },
  {
   "cell_type": "markdown",
   "id": "86091310",
   "metadata": {},
   "source": [
    "### Ajustando hiperparámetros del modelo de \"Gradient Boosting\""
   ]
  },
  {
   "cell_type": "markdown",
   "id": "a8dd80ec",
   "metadata": {},
   "source": [
    "Para este caso establecimos la cantidad máxima de árboles generados en 50. Esto nos permitió mejorar los resultados de la métrica elegida."
   ]
  },
  {
   "cell_type": "code",
   "execution_count": null,
   "id": "4359276b",
   "metadata": {
    "ExecuteTime": {
     "end_time": "2022-05-09T04:24:23.875722Z",
     "start_time": "2022-05-09T04:24:09.972259Z"
    }
   },
   "outputs": [],
   "source": [
    "gbc_2_model = Pipeline([\n",
    "    ('mapper', mapper),\n",
    "    ('classifier', GradientBoostingClassifier(n_estimators=50, random_state=94)),\n",
    "])\n",
    "\n",
    "gbc_2_model.fit(train, train.esta_interesado)\n",
    "\n",
    "evaluate_model(gbc_2_model, title='Gradient Boosting - n_estimators=50', set_names=('train', 'test', 'validation'), show_cm=False)"
   ]
  },
  {
   "cell_type": "markdown",
   "id": "a6ef0ac9",
   "metadata": {},
   "source": [
    "# Conclusiones\n"
   ]
  },
  {
   "cell_type": "markdown",
   "id": "d0b70600",
   "metadata": {},
   "source": [
    "Primero evaluamos los modelos con los hiperparámetros ajustados."
   ]
  },
  {
   "cell_type": "code",
   "execution_count": null,
   "id": "6d0243bf",
   "metadata": {},
   "outputs": [],
   "source": [
    "evaluate_model(gbc_2_model, title='Gradient Boosting - n_estimators=50', set_names=('train', 'test', 'validation'), show_cm=False)\n",
    "evaluate_model(lr_2_model, title='Regresión Logística - class_weight=\"balanced\"', set_names=('train', 'test', 'validation'), show_cm=False)\n",
    "evaluate_model(rf_2_model, title='Random Forest - max_depth=5', set_names=('train', 'test', 'validation'), show_cm=False)\n",
    "evaluate_model(ad_2_model, title='Arból de decisión - max_depth=5', set_names=('train', 'test', 'validation'), show_cm=False)"
   ]
  },
  {
   "cell_type": "markdown",
   "id": "66f4e894",
   "metadata": {},
   "source": [
    "A simple vista se puede notar que los modelos no sobreentrenan, esto es por la poca variación entre los resultados de Train y Test.\n",
    "\n",
    "Siguiendo la elección inicial de la métrica, y basandonos en los resultados del ajuste de hiperparámetros, podemos concluir que la mejor elección para presentar al cliente es la de **Random Forest - Max_depth = 5** con una precisión del 92% de acertar.\n",
    "\n",
    "La elección se debe a la diferencia que hay sobre los demas modelos en cuanto al porcentaje de acierto."
   ]
  }
 ],
 "metadata": {
  "kernelspec": {
   "display_name": "Python 3 (ipykernel)",
   "language": "python",
   "name": "python3"
  },
  "language_info": {
   "codemirror_mode": {
    "name": "ipython",
    "version": 3
   },
   "file_extension": ".py",
   "mimetype": "text/x-python",
   "name": "python",
   "nbconvert_exporter": "python",
   "pygments_lexer": "ipython3",
   "version": "3.10.4"
  },
  "toc": {
   "base_numbering": 1,
   "nav_menu": {},
   "number_sections": false,
   "sideBar": true,
   "skip_h1_title": false,
   "title_cell": "Table of Contents",
   "title_sidebar": "Contents",
   "toc_cell": false,
   "toc_position": {},
   "toc_section_display": true,
   "toc_window_display": false
  }
 },
 "nbformat": 4,
 "nbformat_minor": 5
}
