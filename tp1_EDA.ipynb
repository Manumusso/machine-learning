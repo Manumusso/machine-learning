{
 "cells": [
  {
   "cell_type": "markdown",
   "id": "314620e0",
   "metadata": {},
   "source": [
    "# Trabajo Práctico 1: Análisis Exploratorio de Datos #\n",
    "## Cientes potenciales a tarjetas de crédito. ##\n",
    "El [DATASET](https://www.kaggle.com/datasets/sajidhussain3/jobathon-may-2021-credit-card-lead-prediction?select=train.csv) contiene información de clientes de un banco denominado Happy Customer Bank. Es un banco privado de tamaño medio que se ocupa de todo tipo de productos bancarios, como cuentas de ahorro, cuentas corrientes, productos de inversión, productos de crédito, entre otras ofertas.  \n",
    "\n",
    "En este caso, el Happy Customer Bank desea realizar ventas cruzadas de sus tarjetas de crédito a sus clientes existentes. El banco ha identificado un conjunto de clientes que son elegibles para aceptar estas tarjetas de crédito.\n",
    "\n",
    "El banco tiene la necesidad, de identificar a los clientes que podrían mostrar intención hacia una tarjeta de crédito recomendada.\n",
    "\n",
    "<img src = \"https://storage.googleapis.com/kaggle-datasets-images/1371711/2277422/2c35585d42b3747882e83e926d0f643e/dataset-cover.png?t=2021-05-27-18-40-42\">\n",
    "\n",
    "\n",
    " --- "
   ]
  },
  {
   "cell_type": "markdown",
   "id": "71ce9db6",
   "metadata": {},
   "source": [
    "## 1. Listado de variables y selección ###\n",
    "### a) Variables de Entrada ##\n",
    "\n",
    "- **ID:** Identificador único para cada fila. (no lo vamos a usar)\n",
    "\n",
    "\n",
    "\n",
    "- **Gender:** Género del cliente.\n",
    "\n",
    "\n",
    "\n",
    "- **Age:** Edad del cliente (en años).\n",
    "\n",
    "\n",
    "        \n",
    "- **Region_Code:** Código de la Región para los clientes\n",
    "\n",
    "\n",
    "        \n",
    "- **Occupation:** Ocupación del cliente.\n",
    "\n",
    "        \n",
    "        \n",
    "- **Channel_Code:** Código de Canal de Adquisición para el Cliente (Codificado)\n",
    "\n",
    "\n",
    "        \n",
    "- **Vintage:** Antiguedad del Cliente (En Meses).\n",
    "\n",
    "        \n",
    "        \n",
    "- **Credit_Product:** Si el Cliente tiene algún producto de crédito activo (Préstamo de vivienda, Préstamo personal, Tarjeta de crédito, etc.)\n",
    "\n",
    "\n",
    "\n",
    "- **Avg_Account_Balance:** Saldo de cuenta promedio. Saldo promedio de la cuenta del cliente en los últimos 12 meses\n",
    "\n",
    "      \n",
    "      \n",
    "- **Is_Active:** Si el Cliente tiene activo algún producto de crédito. Si el cliente está activo en los últimos 3 meses. \n",
    "            0-> El cliente no esta activo | 1-> el cliente esta activo\n",
    "            \n",
    "            \n",
    "--------\n",
    "\n",
    "### b) Variable de Salida ###\n",
    "\n",
    "- **Is_Lead:**  Si el Cliente está interesado en la Tarjeta de Crédito.\n",
    "            0-> El cliente no esta interesado | 1-> el cliente esta interesado\n",
    "\n"
   ]
  },
  {
   "cell_type": "code",
   "execution_count": null,
   "id": "c50a650c",
   "metadata": {},
   "outputs": [],
   "source": [
    "import pandas as pd \n",
    "import pytz"
   ]
  },
  {
   "cell_type": "code",
   "execution_count": null,
   "id": "d795e98c",
   "metadata": {},
   "outputs": [],
   "source": [
    "passes = pd.read_csv('train.csv')"
   ]
  },
  {
   "cell_type": "code",
   "execution_count": null,
   "id": "32e6dbd8",
   "metadata": {},
   "outputs": [],
   "source": [
    "passes.sample(10)"
   ]
  },
  {
   "cell_type": "markdown",
   "id": "2abe1b13",
   "metadata": {},
   "source": [
    "### b) Transformaciones ###\n",
    "\n",
    "- **Gender:** one-hot encoder\n",
    "\n",
    "\n",
    "\n",
    "- **Age:** rango\n",
    "\n",
    "\n",
    "        \n",
    "- **Region_Code:** one-hot encoder\n",
    "\n",
    "\n",
    "        \n",
    "- **Occupation:** one-hot encoder\n",
    "\n",
    "        \n",
    "        \n",
    "- **Channel_Code:** one-hot encoder\n",
    "\n",
    "\n",
    "        \n",
    "- **Vintage:** rango\n",
    "\n",
    "        \n",
    "        \n",
    "- **Credit_Product:** one-hot encoder y ver que hacemos con los null. (esta desbalanceado)\n",
    "\n",
    "\n",
    "\n",
    "- **Avg_Account_Balance:** escalar y rangos (y ver outliers)\n",
    "\n",
    "      \n",
    "      \n",
    "- **Is_Active:** one-hot encoder"
   ]
  },
  {
   "cell_type": "code",
   "execution_count": null,
   "id": "5ba4fa9d",
   "metadata": {},
   "outputs": [],
   "source": []
  },
  {
   "cell_type": "code",
   "execution_count": null,
   "id": "1fc581c8",
   "metadata": {},
   "outputs": [],
   "source": []
  }
 ],
 "metadata": {
  "kernelspec": {
   "display_name": "Python 3 (ipykernel)",
   "language": "python",
   "name": "python3"
  },
  "language_info": {
   "codemirror_mode": {
    "name": "ipython",
    "version": 3
   },
   "file_extension": ".py",
   "mimetype": "text/x-python",
   "name": "python",
   "nbconvert_exporter": "python",
   "pygments_lexer": "ipython3",
   "version": "3.9.12"
  }
 },
 "nbformat": 4,
 "nbformat_minor": 5
}
