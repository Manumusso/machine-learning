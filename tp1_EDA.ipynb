{
 "cells": [
  {
   "cell_type": "markdown",
   "id": "314620e0",
   "metadata": {},
   "source": [
    "# Trabajo Práctico 1: Análisis Exploratorio de Datos #\n",
    "## Cientes potenciales a tarjetas de crédito. ##\n",
    "El [DATASET](https://www.kaggle.com/datasets/sajidhussain3/jobathon-may-2021-credit-card-lead-prediction?select=train.csv) contiene información de clientes de un banco denominado Happy Customer Bank. Es un banco privado de tamaño medio que se ocupa de todo tipo de productos bancarios, como cuentas de ahorro, cuentas corrientes, productos de inversión, productos de crédito, entre otras ofertas.  \n",
    "\n",
    "En este caso, el Happy Customer Bank desea realizar ventas cruzadas de sus tarjetas de crédito a sus clientes existentes. El banco ha identificado un conjunto de clientes que son elegibles para aceptar estas tarjetas de crédito.\n",
    "\n",
    "El banco tiene la necesidad, de identificar a los clientes que podrían mostrar intención hacia una tarjeta de crédito recomendada.\n",
    "\n",
    "<img src = \"https://storage.googleapis.com/kaggle-datasets-images/1371711/2277422/2c35585d42b3747882e83e926d0f643e/dataset-cover.png?t=2021-05-27-18-40-42\">\n",
    "\n",
    "\n",
    " --- "
   ]
  },
  {
   "cell_type": "markdown",
   "id": "71ce9db6",
   "metadata": {},
   "source": [
    "## 1. Listado de variables y selección \n",
    "### a) Variables de Entrada utilizadas\n",
    "\n",
    "- **Gender:** Género del cliente. Valores posibles: Male, Female. No contiene 'Nans'.\n",
    "\n",
    "\n",
    "\n",
    "- **Age:** Edad del cliente en años. No contiene 'Nans'.\n",
    "\n",
    "\n",
    "        \n",
    "- **Region_Code:** Código string de la Región para los clientes. No contiene 'Nans'. No están detalladas las regiones por nombre, sin embargo al cliente se le puede demostrar la influencia del dato por medio del código.\n",
    "\n",
    "        \n",
    "- **Occupation:** Ocupación del cliente. Valores posibles: 'Entrepreneur', 'Other', 'Salaried', 'Self_Employed'. No contiene 'Nans'.\n",
    "\n",
    "        \n",
    "        \n",
    "- **Channel_Code:** Código para el Canal de Adquisición del Cliente. No contiene 'Nans'. Valores posibles: X1, X2, X3, X4.\n",
    "\n",
    "\n",
    "        \n",
    "- **Vintage:** Antiguedad del Cliente en Meses. No contiene 'Nans'.\n",
    "\n",
    "        \n",
    "        \n",
    "- **Credit_Product:** Si el Cliente tiene algún producto de crédito activo como por ejemplo: préstamo de vivienda, préstamo personal, tarjeta de crédito, etc. Valores posibles: True, False. Contiene 'Nans'.\n",
    "\n",
    "\n",
    "- **Avg_Account_Balance:** Saldo promedio de la cuenta del cliente en los últimos 12 meses. Expresado en float64. No contiene 'Nans'.\n",
    "\n",
    "      \n",
    "      \n",
    "- **Is_Active:** Si el cliente estuvo activo en los últimos 3 meses. No contiene 'Nans'.\n",
    "            No-> El cliente no esta activo | Yes-> el cliente esta activo"
   ]
  },
  {
   "cell_type": "markdown",
   "id": "6dd1ab12",
   "metadata": {},
   "source": [
    "### b) Variable de Salida \n",
    "\n",
    "- **Is_Lead:**  Si el Cliente está interesado en obtener la tarjeta de Crédito.\n",
    "            0-> El cliente no esta interesado | 1-> el cliente esta interesado"
   ]
  },
  {
   "cell_type": "markdown",
   "id": "47d0ca51",
   "metadata": {},
   "source": [
    "### c) Variable que no vamos a utilizar \n",
    "\n",
    "**ID:** Podría conducir a un sobreajuste."
   ]
  },
  {
   "cell_type": "markdown",
   "id": "17d7950f",
   "metadata": {},
   "source": [
    "## 2. Análisis detallado del conjunto de variables"
   ]
  },
  {
   "cell_type": "code",
   "execution_count": null,
   "id": "c50a650c",
   "metadata": {},
   "outputs": [],
   "source": [
    "%matplotlib inline\n",
    "\n",
    "import warnings\n",
    "import numpy as np\n",
    "import pandas as pd \n",
    "import matplotlib\n",
    "import keras\n",
    "import h5py\n",
    "import PIL\n",
    "import seaborn as sns\n",
    "import sklearn\n",
    "import pytz\n",
    "import plotly.graph_objects as go\n",
    "\n",
    "from matplotlib import pyplot as plt\n",
    "\n",
    "from sklearn.metrics import accuracy_score, precision_score, recall_score, confusion_matrix\n",
    "from sklearn.model_selection import train_test_split\n",
    "\n",
    "# One Hot Encoder\n",
    "from sklearn.pipeline import Pipeline\n",
    "from sklearn_pandas import DataFrameMapper\n",
    "from sklearn.preprocessing import StandardScaler, OneHotEncoder, LabelBinarizer\n",
    "from sklearn.experimental import enable_iterative_imputer\n",
    "from sklearn.impute import SimpleImputer, IterativeImputer\n",
    "\n",
    "from sklearn.pipeline import Pipeline\n",
    "\n",
    "pd.set_option('display.float_format',lambda x:'%.0f'% x) #Sacar notación científica en pandas\n",
    "pd.options.display.max_columns = 0\n",
    "\n",
    "plt.rcParams.update({\n",
    "    \"font.family\": [\"serif\"],\n",
    "    \"font.sans-serif\": [\"Roboto\"],\n",
    "    \"font.size\": 9,\n",
    "    \"axes.labelsize\": 11,\n",
    "    \"axes.titlesize\": 13,\n",
    "    \"xtick.labelsize\": 11,\n",
    "    \"ytick.labelsize\": 11,\n",
    "    \"legend.fontsize\": 11,\n",
    "    'figure.figsize': (15.0, 4.0),\n",
    "    'axes.grid': False,\n",
    "    'axes.spines.left': True,\n",
    "    'axes.spines.right': True,\n",
    "    'axes.spines.top': True,\n",
    "    'axes.spines.bottom': True,\n",
    "})\n",
    "\n",
    "np.set_printoptions(suppress=True)\n",
    "\n",
    "warnings.filterwarnings('ignore')"
   ]
  },
  {
   "cell_type": "code",
   "execution_count": null,
   "id": "4fe2b325",
   "metadata": {},
   "outputs": [],
   "source": [
    "data_TC = pd.read_csv('train.csv')\n",
    "\n",
    "BETTER_COLUMN_NAMES = {\n",
    "    'ID': 'id',\n",
    "    'Gender': 'sexo',\n",
    "    'Age': 'edad',\n",
    "    'Region_Code': 'codigo_region',\n",
    "    'Occupation': 'ocupacion',\n",
    "    'Channel_Code': 'codigo_canal',\n",
    "    'Vintage': 'antiguedad',\n",
    "    'Credit_Product': 'tiene_producto_credito_activo',\n",
    "    'Avg_Account_Balance': 'saldo_promedio_cuenta',\n",
    "    'Is_Active': 'es_activo',\n",
    "    'Is_Lead': 'esta_interesado',\n",
    "}\n",
    "data_TC.rename(columns=BETTER_COLUMN_NAMES, inplace=True)\n",
    "\n",
    "data_TC.set_index('id', inplace=True)"
   ]
  },
  {
   "cell_type": "markdown",
   "id": "5565c920",
   "metadata": {},
   "source": [
    "### Dimensiones del Dataset"
   ]
  },
  {
   "cell_type": "code",
   "execution_count": null,
   "id": "dbc3f25e",
   "metadata": {},
   "outputs": [],
   "source": [
    "data_TC.shape"
   ]
  },
  {
   "cell_type": "code",
   "execution_count": null,
   "id": "2692bbee",
   "metadata": {},
   "outputs": [],
   "source": [
    "data_TC.sample(5)"
   ]
  },
  {
   "cell_type": "markdown",
   "id": "8831abef",
   "metadata": {},
   "source": [
    "### a) Balanceo de variable de Salida ###"
   ]
  },
  {
   "cell_type": "code",
   "execution_count": null,
   "id": "d795e98c",
   "metadata": {},
   "outputs": [],
   "source": [
    "import plotly.express as px \n",
    "import numpy \n",
    "\n",
    "names = ['No esta interesado', 'Esta interesado'] \n",
    "  \n",
    "fig = px.pie(values=data_TC.esta_interesado.value_counts(), names=names) \n",
    "fig.show()"
   ]
  },
  {
   "cell_type": "markdown",
   "id": "21c26717",
   "metadata": {},
   "source": [
    "Lo que se puede notar es que la variable se encuentra muy desbalanceada, con un 24% de clientes que estan interesados en adquirir la tarjeta de crédito.\n",
    "Esto perjudica el entrenamiento, ya que le dificulta generalizar al modelo."
   ]
  },
  {
   "cell_type": "markdown",
   "id": "365d34b5",
   "metadata": {},
   "source": [
    "### b) Comportamiento variables de entrada ###"
   ]
  },
  {
   "cell_type": "markdown",
   "id": "47615666",
   "metadata": {},
   "source": [
    "#### Ocupación"
   ]
  },
  {
   "cell_type": "code",
   "execution_count": null,
   "id": "5ba8d4d9",
   "metadata": {},
   "outputs": [],
   "source": [
    "ocupacion=['Entrepreneur', 'Other', 'Salaried','Self_Employed']\n",
    "\n",
    "fig = go.Figure(data=[\n",
    "    go.Bar(name='No esta interesado', x=ocupacion, y=data_TC[data_TC.esta_interesado == 0].ocupacion.value_counts()),\n",
    "    go.Bar(name='Esta interesado', x=ocupacion, y=data_TC[data_TC.esta_interesado == 1].ocupacion.value_counts()),\n",
    "])\n",
    "# Change the bar mode\n",
    "fig.update_layout(barmode='group')\n",
    "fig.show()"
   ]
  },
  {
   "cell_type": "markdown",
   "id": "d41c3df7",
   "metadata": {},
   "source": [
    "Como se puede observar en la gráfica, la mayor cantidad de clientes potenciales tienen como ocupación \"Emprendedor\".\n",
    "\n",
    "A simple vista se puede observar que los clientes de tipo \"Self_Employed\" son los únicos que superan la cantidad de interesados sobre los que no. Igualmente, la cantidad de registros de esta categoría es mucho menor que el resto."
   ]
  },
  {
   "cell_type": "markdown",
   "id": "44f9d4e6",
   "metadata": {},
   "source": [
    "#### Sexo"
   ]
  },
  {
   "cell_type": "code",
   "execution_count": null,
   "id": "32811845",
   "metadata": {},
   "outputs": [],
   "source": [
    "genero=['Masculino', 'Femenino']\n",
    "\n",
    "fig = go.Figure(data=[\n",
    "    go.Bar(name='No esta interesado', x=genero, y=data_TC[data_TC.esta_interesado == 0].sexo.value_counts()),\n",
    "    go.Bar(name='Esta interesado', x=genero, y=data_TC[data_TC.esta_interesado == 1].sexo.value_counts()),\n",
    "])\n",
    "# Change the bar mode\n",
    "fig.update_layout(barmode='group')\n",
    "fig.show()"
   ]
  },
  {
   "cell_type": "markdown",
   "id": "350e78c4",
   "metadata": {},
   "source": [
    "Se puede observar que los datos se encuentran bastante balanceados, aún así, los clientes potenciales masculinos son más."
   ]
  },
  {
   "cell_type": "markdown",
   "id": "f962ef80",
   "metadata": {},
   "source": [
    "#### Edad"
   ]
  },
  {
   "cell_type": "code",
   "execution_count": null,
   "id": "87a5cf13",
   "metadata": {},
   "outputs": [],
   "source": [
    "df = px.data.tips()\n",
    "fig = px.histogram(data_TC, x=\"edad\", color=\"esta_interesado\", marginal = 'box', pattern_shape=\"esta_interesado\")\n",
    "fig.update_layout(bargap=0.1)\n",
    "fig.show()"
   ]
  },
  {
   "cell_type": "markdown",
   "id": "8df229e6",
   "metadata": {},
   "source": [
    "En el gráfico podemos observar que la mayor cantidad de clientes potenciales interesados se encuentran entre los 40 y 60 años.\n",
    "Lo que tambien se observa es que los clientes entre 25 y 35 años son los menos interesados, ya que la cantidad de negativas supera ampliamente a los interesados."
   ]
  },
  {
   "cell_type": "markdown",
   "id": "d8976a8d",
   "metadata": {},
   "source": [
    "#### Antiguedad "
   ]
  },
  {
   "cell_type": "code",
   "execution_count": null,
   "id": "feba1d60",
   "metadata": {},
   "outputs": [],
   "source": [
    "df = px.data.tips()\n",
    "fig = px.histogram(data_TC, x=\"antiguedad\", color=\"esta_interesado\", marginal = 'box')\n",
    "fig.update_layout(bargap=0.1)\n",
    "fig.show()"
   ]
  },
  {
   "cell_type": "markdown",
   "id": "5102c399",
   "metadata": {},
   "source": [
    "La relación que podemos ver, entre la antigüedad de los clientes y si estan interesados o no, es que los no interesados predominan, sin embargo se visualizaron casos que por ejemplo con antigüedad de tres meses hay más interesados que no."
   ]
  },
  {
   "cell_type": "markdown",
   "id": "545252d2",
   "metadata": {},
   "source": [
    "#### Saldo promedio de cuenta"
   ]
  },
  {
   "cell_type": "code",
   "execution_count": null,
   "id": "bf07ebf5",
   "metadata": {},
   "outputs": [],
   "source": [
    "df = px.data.tips()\n",
    "fig = px.histogram(data_TC, x=\"saldo_promedio_cuenta\", color=\"esta_interesado\", marginal = 'box')\n",
    "fig.update_layout(bargap=0.1)\n",
    "fig.show()"
   ]
  },
  {
   "cell_type": "markdown",
   "id": "76fde29e",
   "metadata": {},
   "source": [
    "Se puede observar la existencia de muchos extremos en los saldos. \n",
    "Tambien se puede ver que la mayor cantidad de los clientes tienen un saldo entre 0 y 4 M. De estos, la cantidad de no interesados supera a la de interesados."
   ]
  },
  {
   "cell_type": "markdown",
   "id": "51f9fe11",
   "metadata": {},
   "source": [
    "#### Código de canal"
   ]
  },
  {
   "cell_type": "code",
   "execution_count": null,
   "id": "692816a7",
   "metadata": {},
   "outputs": [],
   "source": [
    "canales=['X1','X2','X3','X4']\n",
    "\n",
    "fig = go.Figure(data=[\n",
    "    go.Bar(name='Esta interesado', x=canales, y=data_TC[data_TC.esta_interesado == 1].codigo_canal.value_counts()),\n",
    "    go.Bar(name='No esta interesado', x=canales, y=data_TC[data_TC.esta_interesado == 0].codigo_canal.value_counts()),\n",
    "])\n",
    "# Change the bar mode\n",
    "fig.update_layout(barmode='group')\n",
    "fig.show()"
   ]
  },
  {
   "cell_type": "markdown",
   "id": "55ea7172",
   "metadata": {},
   "source": [
    "Se puede observar en la gráfica, como predominan en cantidad los registros correspondientes al Canal 'X1', sin embargo, todos comparten la característica de que los no interesados tienen mayor cantidad. \n",
    "Se puede observar a simple vista que el canal X2 es el mas óptimo a la hora de adquirir clientes interesados, porque tiene una cantidad de clientes interesados similar a el canal X1, pero con menor cantidad total de estos."
   ]
  },
  {
   "cell_type": "markdown",
   "id": "88d4e7f4",
   "metadata": {},
   "source": [
    "### c) Transformaciones"
   ]
  },
  {
   "cell_type": "markdown",
   "id": "25f97699",
   "metadata": {},
   "source": [
    "A continuación describimos las transformaciones que se harán a las features disponibles."
   ]
  },
  {
   "cell_type": "markdown",
   "id": "175269b8",
   "metadata": {},
   "source": [
    "- **Gender:** Label Binarizer. Transformamos los valores en 0 y 1, porque es similar a hacer un One-hot encoder de masculino y femenino pero con una sola columna en lugar de 2.\n",
    "\n",
    "\n",
    "- **Age:** Escalar: para que los valores grandes sean predominantes sobre valores más chicos de otras columnas. Rango: porque no necesitamos saber la edad exactamente, sino una franja etaria.\n",
    "\n",
    "    \n",
    "- **Region_Code:** One-hot encoder, para eliminar las categorías de la columna.\n",
    "\n",
    "      \n",
    "- **Occupation:** One-hot encoder, para eliminar las categorías de la columna.\n",
    "\n",
    "                \n",
    "- **Channel_Code:** One-hot encoder, para eliminar las categorías de la columna.\n",
    "\n",
    "       \n",
    "- **Vintage:** Escalar para que los valores grandes sean predominantes sobre valores más chicos de otras columnas. Rango: porque no necesitamos saber la antiguedad del cliente exactamente, sino agruparlos con un rango.\n",
    "\n",
    "               \n",
    "- **Credit_Product:** Label binarizer. Transformamos los valores en 0 y 1, porque es similar a hacer un One-hot encoder pero con una sola columna en lugar de 2. También se eliminan los valores en Null.\n",
    "\n",
    "\n",
    "- **Avg_Account_Balance:** Escalar para que los valores grandes sean predominantes sobre valores más chicos de otras columnas. Rango: porque no necesitamos saber cual es el sueldo promedio del cliente exactamente, sino que en rango se maneja. Y eliminamos valores extremos.\n",
    "\n",
    "            \n",
    "- **Is_Active:** Label binarizer. Transformamos los valores en 0 y 1, porque es similar a hacer un One-hot encoder pero con una sola columna en lugar de 2."
   ]
  },
  {
   "cell_type": "markdown",
   "id": "6de6f43e",
   "metadata": {},
   "source": [
    "Las transformaciones realizadas nos permiten observar mejor la correlación entre las variables. "
   ]
  },
  {
   "cell_type": "markdown",
   "id": "8dddeeb0",
   "metadata": {},
   "source": [
    "### Primer maper"
   ]
  },
  {
   "cell_type": "code",
   "execution_count": null,
   "id": "05b4aa55",
   "metadata": {},
   "outputs": [],
   "source": [
    "# Se dividen los datos en train y test\n",
    "# 60% train, 20% test, 20% validation\n",
    "#train, not_train = train_test_split(data_notNull, test_size=0.4)\n",
    "#validation, test = train_test_split(not_train, test_size=0.5)\n",
    "#train, validation = train_test_split(data_notNull, test_size=0.2)\n",
    "\n",
    "#Dimención (filas, columnas) de los distintos dataset\n",
    "#print (\" Train:\", train.shape, '\\n', 'Validation:', validation.shape, '\\n', 'Test:', test.shape)\n",
    "#print (\" Train:\", train.shape, '\\n', 'Validation:', validation.shape)\n",
    "#print(\"first line\", \"second line\", sep=\"\\n\")`"
   ]
  },
  {
   "cell_type": "code",
   "execution_count": null,
   "id": "06dac3af",
   "metadata": {},
   "outputs": [],
   "source": [
    "#mapper = DataFrameMapper([\n",
    "#    (['sexo'], [LabelBinarizer()]), \n",
    "#    (['edad'], [StandardScaler()]),\n",
    "#    (['codigo_region'], [OneHotEncoder()]),\n",
    "#    (['ocupacion'], [OneHotEncoder()]),\n",
    "#    (['antiguedad'], [StandardScaler()]),\n",
    "#    (['codigo_canal'], [OneHotEncoder()]),\n",
    "#    (['tiene_producto_credito_activo'], [LabelBinarizer()]),\n",
    "#    (['saldo_promedio_cuenta'], [StandardScaler()]),\n",
    "#    (['es_activo'], [LabelBinarizer()])\n",
    "#], df_out=True) # df_out=True → Es lo que muestra el nombre de la columna\n",
    "\n",
    "# Lo entrenamos con train\n",
    "#mapper.fit(data_notNull)"
   ]
  },
  {
   "cell_type": "code",
   "execution_count": null,
   "id": "42fa5ce9",
   "metadata": {},
   "outputs": [],
   "source": [
    "#De ejemplo para ver como funciona\n",
    "# vemos como transforma un sample:\n",
    "#sample = data_notNull.sample(5, random_state=20) #Semilla 20\n",
    "\n",
    "# Sample original:\n",
    "#sample"
   ]
  },
  {
   "cell_type": "code",
   "execution_count": null,
   "id": "db1b7a3a",
   "metadata": {
    "scrolled": true
   },
   "outputs": [],
   "source": [
    "# Sample transformado\n",
    "#mapper.transform(data_notNull)"
   ]
  },
  {
   "cell_type": "code",
   "execution_count": null,
   "id": "810e62a2",
   "metadata": {},
   "outputs": [],
   "source": [
    "# Nombres de los faetures\n",
    "#mapper.transformed_names_"
   ]
  },
  {
   "cell_type": "code",
   "execution_count": null,
   "id": "eca00535",
   "metadata": {},
   "outputs": [],
   "source": [
    "#np.round(mapper.fit_transform(data_notNull), 2)"
   ]
  },
  {
   "cell_type": "code",
   "execution_count": null,
   "id": "871539c4",
   "metadata": {},
   "outputs": [],
   "source": [
    "#np.round(mapper.transform(data_notNull), 1)"
   ]
  },
  {
   "cell_type": "code",
   "execution_count": null,
   "id": "a117198e",
   "metadata": {},
   "outputs": [],
   "source": [
    "#data_TC.edad.rank()"
   ]
  },
  {
   "cell_type": "markdown",
   "id": "9284c494",
   "metadata": {},
   "source": [
    "### d) Valores Nulos y Extremos"
   ]
  },
  {
   "cell_type": "code",
   "execution_count": null,
   "id": "b172bda8",
   "metadata": {},
   "outputs": [],
   "source": [
    "# 1. Obtener los nombres de las columas como una lista\n",
    "col_name = data_TC.columns.tolist()\n",
    "\n",
    "# 2. Itera sobre la lista de nombres\n",
    "for column in col_name:\n",
    "    print (\"Valores nulos en <{0}> : {1}\".format(column, data_TC[column].isnull().sum()))"
   ]
  },
  {
   "cell_type": "code",
   "execution_count": null,
   "id": "33297a1b",
   "metadata": {},
   "outputs": [],
   "source": [
    "#esto capaz nos convenga hacerlo en el mapper con sklearn\n",
    "data_notNull = data_TC[data_TC['tiene_producto_credito_activo'].notna()]"
   ]
  },
  {
   "cell_type": "code",
   "execution_count": null,
   "id": "cab0d779",
   "metadata": {
    "scrolled": false
   },
   "outputs": [],
   "source": [
    "Nulos = data_notNull.isnull().sum()\n",
    "print(\"Columnas             Cantidad de nulos\")\n",
    "print(Nulos)"
   ]
  },
  {
   "cell_type": "code",
   "execution_count": null,
   "id": "3d706060",
   "metadata": {
    "scrolled": true
   },
   "outputs": [],
   "source": [
    "data_notNull.count()"
   ]
  },
  {
   "cell_type": "markdown",
   "id": "490faa84",
   "metadata": {},
   "source": [
    "Como se puede observar, la feature que describe si el cliente contiene un producto de crédito activo contiene aproximadamente un 12% de variables Null.\n",
    "La decisión tomada en primera instancia para estos valores fue eliminarlos."
   ]
  },
  {
   "cell_type": "code",
   "execution_count": null,
   "id": "828e316a",
   "metadata": {},
   "outputs": [],
   "source": [
    "import plotly.express as px \n",
    "import numpy \n",
    "\n",
    "names = ['No esta interesado', 'Esta interesado'] \n",
    "  \n",
    "fig = px.pie(values=data_notNull.esta_interesado.value_counts(), names=names) \n",
    "fig.show()"
   ]
  },
  {
   "cell_type": "markdown",
   "id": "dfb601c9",
   "metadata": {},
   "source": [
    "#### Análisis de extremos"
   ]
  },
  {
   "cell_type": "code",
   "execution_count": null,
   "id": "eca8fa1c",
   "metadata": {},
   "outputs": [],
   "source": [
    "x0 = data_notNull.edad\n",
    "#x1 = data_notNull.esta_interesado\n",
    "\n",
    "fig = go.Figure()\n",
    "# Use x instead of y argument for horizontal plot\n",
    "fig.add_trace(go.Box(x=x0,  name = 'edad'))\n",
    "#fig.add_trace(go.Box(x=x1))\n",
    "\n",
    "fig.show()"
   ]
  },
  {
   "cell_type": "code",
   "execution_count": null,
   "id": "3d9a102b",
   "metadata": {},
   "outputs": [],
   "source": [
    "x0 = data_notNull.antiguedad                     \n",
    "#x1 = data_notNull.esta_interesado\n",
    "\n",
    "fig = go.Figure()\n",
    "# Use x instead of y argument for horizontal plot\n",
    "fig.add_trace(go.Box(x=x0,  name = 'antiguedad'))\n",
    "#fig.add_trace(go.Box(x=x1))\n",
    "\n",
    "fig.show()"
   ]
  },
  {
   "cell_type": "code",
   "execution_count": null,
   "id": "f5296252",
   "metadata": {},
   "outputs": [],
   "source": [
    "x0 = data_notNull.saldo_promedio_cuenta          \n",
    "#x1 = data_notNull.esta_interesado\n",
    "\n",
    "fig = go.Figure()\n",
    "# Use x instead of y argument for horizontal plot\n",
    "fig.add_trace(go.Box(x=x0,  name = 'saldo promedio cuenta'))\n",
    "#fig.add_trace(go.Box(x=x1))\n",
    "\n",
    "fig.show()"
   ]
  },
  {
   "cell_type": "code",
   "execution_count": null,
   "id": "58b0c43b",
   "metadata": {},
   "outputs": [],
   "source": [
    "#pd.set_option('display.float_format',lambda x:'%.0f'% x) #Sacar notación científica en pandas\n",
    "data_notNull.saldo_promedio_cuenta.describe()"
   ]
  },
  {
   "cell_type": "markdown",
   "id": "3303cbe0",
   "metadata": {},
   "source": [
    "Como se puede observar en la gráfica anterior, la variable saldo_promedio_cuenta contiene una gran cantidad de valores extremos, por lo que tomamos la decisión de eliminarlos utilizando una función matemática. La cual solo nos eliminaría el 6,05% de los registros."
   ]
  },
  {
   "cell_type": "code",
   "execution_count": null,
   "id": "159db56f",
   "metadata": {},
   "outputs": [],
   "source": [
    "cols = ['saldo_promedio_cuenta'] # one or more\n",
    "\n",
    "Q1 = data_notNull[cols].quantile(0.25)\n",
    "Q3 = data_notNull[cols].quantile(0.75)\n",
    "IQR = Q3 - Q1\n",
    "\n",
    "data2_notOutLiers = data_notNull[~((data_notNull[cols] < (Q1 - 1.5 * IQR)) |(data_notNull[cols] > (Q3 + 1.5 * IQR))).any(axis=1)]"
   ]
  },
  {
   "cell_type": "code",
   "execution_count": null,
   "id": "e2c79f09",
   "metadata": {},
   "outputs": [],
   "source": [
    "x0 = data2_notOutLiers.saldo_promedio_cuenta          \n",
    "#x1 = data_notNull.esta_interesado\n",
    "\n",
    "fig = go.Figure()\n",
    "# Use x instead of y argument for horizontal plot\n",
    "fig.add_trace(go.Box(x=x0,  name = 'saldo promedio cuenta'))\n",
    "#fig.add_trace(go.Box(x=x1))\n",
    "\n",
    "fig.show()"
   ]
  },
  {
   "cell_type": "code",
   "execution_count": null,
   "id": "254dad5f",
   "metadata": {},
   "outputs": [],
   "source": [
    "#pd.set_option('display.float_format',lambda x:'%.0f'% x) #Sacar notación científica en pandas\n",
    "data2_notOutLiers.saldo_promedio_cuenta.describe()"
   ]
  },
  {
   "cell_type": "code",
   "execution_count": null,
   "id": "65c6facf",
   "metadata": {},
   "outputs": [],
   "source": [
    "names = ['No esta interesado', 'Esta interesado'] \n",
    "  \n",
    "fig = px.pie(values=data2_notOutLiers.esta_interesado.value_counts(), names=names) \n",
    "fig.show()"
   ]
  },
  {
   "cell_type": "markdown",
   "id": "b2728a6e",
   "metadata": {},
   "source": [
    "Finalmente observamos que eliminando estos valores extremos, se perdía gran parte de los ejemplos que están interesados.\n",
    "Por lo que la decisión final, sería no eliminar los valores, y mantener los registros originales."
   ]
  },
  {
   "cell_type": "markdown",
   "id": "04629842",
   "metadata": {},
   "source": [
    "### e) Correlación entre las variables"
   ]
  },
  {
   "cell_type": "markdown",
   "id": "78bc5e48",
   "metadata": {},
   "source": [
    "#### Tipo de cada columna"
   ]
  },
  {
   "cell_type": "code",
   "execution_count": null,
   "id": "e874250d",
   "metadata": {},
   "outputs": [],
   "source": [
    "# Tipo de cada columna\n",
    "# ==============================================================================\n",
    "# En pandas, el tipo \"object\" hace referencia a strings\n",
    "# datos.dtypes\n",
    "data_notNull.info()"
   ]
  },
  {
   "cell_type": "markdown",
   "id": "7f6dfab9",
   "metadata": {},
   "source": [
    "Despues de ver los tipos de cada columna, realizamos la transformación para poder reflejar la correlación."
   ]
  },
  {
   "cell_type": "code",
   "execution_count": null,
   "id": "fecc377c",
   "metadata": {},
   "outputs": [],
   "source": [
    "#data_notNull[\"canal_num\"] = pd.to_numeric(data_notNull.codigo_canal.str.replace('X', ''))\n",
    "#data_notNull[\"region_num\"] = pd.to_numeric(data_notNull.codigo_region.str.replace('RG', ''))\n",
    "data_notNull[\"producto_credito_num\"] = data_notNull.tiene_producto_credito_activo.replace(['No','Yes'], [0, 1])\n",
    "data_notNull[\"es_activo_num\"] = data_notNull.tiene_producto_credito_activo.replace(['No','Yes'], [0, 1])\n",
    "#data_notNull[\"ocupacion_num\"] = data_notNull.ocupacion.replace(['Entrepreneur', 'Other', 'Salaried','Self_Employed'], [0, 1, 2, 3])"
   ]
  },
  {
   "cell_type": "code",
   "execution_count": null,
   "id": "b75ba664",
   "metadata": {},
   "outputs": [],
   "source": [
    "#Primero necesita hacer esto para poder dibujar la matriz de correlaciones\n",
    "corr_matrix = data_notNull.select_dtypes(include=['float64', 'int']).corr(method='pearson')"
   ]
  },
  {
   "cell_type": "code",
   "execution_count": null,
   "id": "1ef1eca8",
   "metadata": {},
   "outputs": [],
   "source": [
    "# Heatmap matriz de correlaciones\n",
    "# ==============================================================================\n",
    "fig, ax = plt.subplots(nrows=1, ncols=1, figsize=(20, 20)) # (8, 8) tamaño de la grilla \n",
    "\n",
    "sns.heatmap(\n",
    "    corr_matrix,\n",
    "    annot     = True,\n",
    "    cbar      = True, # Barra del costado\n",
    "    annot_kws = {\"size\": 20}, # tamaño nro cuadrilla\n",
    "    vmin      = -1,\n",
    "    vmax      = 1,\n",
    "    center    = 0,\n",
    "    cmap      = sns.diverging_palette(20, 220, n=200), # (20, 220, n=200) color de la grilla\n",
    "    square    = False, \n",
    "    ax        = ax\n",
    ")\n",
    "ax.set_xticklabels(\n",
    "    ax.get_xticklabels(),\n",
    "    rotation = 45,\n",
    "    horizontalalignment = 'right',\n",
    ")\n",
    "\n",
    "ax.tick_params(labelsize = 10) # (labelsize = 50) tamaño la leyenda de los ejes"
   ]
  },
  {
   "cell_type": "markdown",
   "id": "bc8f49cd",
   "metadata": {},
   "source": [
    "La mayor correlación con el target se puede encontrar en las variables antes nombradas. Por lo que entendemos que al ser un cliente activo, tiene mas probabilidad de estar interesado en la tarjeta de crédito. "
   ]
  },
  {
   "cell_type": "markdown",
   "id": "5c9f7856",
   "metadata": {},
   "source": [
    "## 3. Hipótesis sobre los datos"
   ]
  },
  {
   "cell_type": "markdown",
   "id": "67ccd074",
   "metadata": {},
   "source": [
    "- Hipótesis 1: \n",
    "Los clientes del banco que son empresarios y cuentan con saldo promedio en la cuenta alto, tienen tendencia a presentar interés por una tarjeta de crédito."
   ]
  },
  {
   "cell_type": "markdown",
   "id": "bad056e2",
   "metadata": {},
   "source": [
    "### Comprobación de hipótesis 1: ###\n"
   ]
  },
  {
   "cell_type": "markdown",
   "id": "5f8acf96",
   "metadata": {},
   "source": [
    "Para comprobar la hipótesis, en primer lugar vamos a establecer desde qué rango de saldo promedio consideraremos como alto.\n",
    "\n",
    "Para determinarlo, vamos a obtener el promedio de la columna del saldo."
   ]
  },
  {
   "cell_type": "code",
   "execution_count": null,
   "id": "26c358a8",
   "metadata": {},
   "outputs": [],
   "source": [
    "mean_df = data_notNull['saldo_promedio_cuenta'].mean()\n",
    "print(mean_df)"
   ]
  },
  {
   "cell_type": "markdown",
   "id": "51d84e2a",
   "metadata": {},
   "source": [
    "Luego de calcular el promedio de la columna saldo_promedio_cuenta, optamos por establecer un saldo promedio 'alto' a un valor superior a 1,4M. Vamos agregar una columna \"H1\" al dataset, la misma devolvera true si el sueldo promedio para ese cliente, supera 1,4M y además es empresario()"
   ]
  },
  {
   "cell_type": "code",
   "execution_count": null,
   "id": "8153e247",
   "metadata": {},
   "outputs": [],
   "source": [
    "data_notNull['H1']= ((data_notNull.saldo_promedio_cuenta >= 1400000) & (data_notNull.ocupacion==\"Entrepreneur\"))"
   ]
  },
  {
   "cell_type": "code",
   "execution_count": null,
   "id": "10a643f0",
   "metadata": {},
   "outputs": [],
   "source": [
    "data_notNull.sample(10)"
   ]
  },
  {
   "cell_type": "markdown",
   "id": "a6dc196e",
   "metadata": {},
   "source": [
    "En consecuencia, vamos a filtrar con las columnas H1== True y el target: es_activo para evaluar la hipótesis"
   ]
  },
  {
   "cell_type": "code",
   "execution_count": null,
   "id": "0c906dac",
   "metadata": {},
   "outputs": [],
   "source": [
    "data_notNull.columns"
   ]
  },
  {
   "cell_type": "code",
   "execution_count": null,
   "id": "f8b50a72",
   "metadata": {},
   "outputs": [],
   "source": [
    "ch_df2 = data_notNull[data_notNull['H1']== True]"
   ]
  },
  {
   "cell_type": "code",
   "execution_count": null,
   "id": "7f1e6f3a",
   "metadata": {},
   "outputs": [],
   "source": [
    "#Obtenemos el promedio interesados, de todos los clientes emprendedores con sueldo en cuenta alto.\n",
    "mean_df2 = ch_df2['esta_interesado'].mean()\n",
    "print(mean_df2)"
   ]
  },
  {
   "cell_type": "markdown",
   "id": "8af76a5c",
   "metadata": {},
   "source": [
    "Según el analisis realizado, nuestra hipotesis tiene un 56,6% de valores en que se cumple según el dataset analizado."
   ]
  },
  {
   "cell_type": "markdown",
   "id": "35a61ff5",
   "metadata": {},
   "source": [
    "Analizando mejor los datos, pudimos llegar a la conclusión de que las variables es_activo y tiene_producto_credito_activo tienen una correlación perfecta, por lo que se podría eliminar una de ellas, sin afectar el modelo."
   ]
  }
 ],
 "metadata": {
  "kernelspec": {
   "display_name": "Python 3 (ipykernel)",
   "language": "python",
   "name": "python3"
  },
  "language_info": {
   "codemirror_mode": {
    "name": "ipython",
    "version": 3
   },
   "file_extension": ".py",
   "mimetype": "text/x-python",
   "name": "python",
   "nbconvert_exporter": "python",
   "pygments_lexer": "ipython3",
   "version": "3.9.12"
  }
 },
 "nbformat": 4,
 "nbformat_minor": 5
}
