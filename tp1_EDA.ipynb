{
 "cells": [
  {
   "cell_type": "markdown",
   "id": "314620e0",
   "metadata": {},
   "source": [
    "# Trabajo Práctico 1: Análisis Exploratorio de Datos #\n",
    "## Cientes potenciales a tarjetas de crédito. ##\n",
    "El [DATASET](https://www.kaggle.com/datasets/sajidhussain3/jobathon-may-2021-credit-card-lead-prediction?select=train.csv) contiene información de clientes de un banco denominado Happy Customer Bank. Es un banco privado de tamaño medio que se ocupa de todo tipo de productos bancarios, como cuentas de ahorro, cuentas corrientes, productos de inversión, productos de crédito, entre otras ofertas.  \n",
    "\n",
    "En este caso, el Happy Customer Bank desea realizar ventas cruzadas de sus tarjetas de crédito a sus clientes existentes. El banco ha identificado un conjunto de clientes que son elegibles para aceptar estas tarjetas de crédito.\n",
    "\n",
    "El banco tiene la necesidad, de identificar a los clientes que podrían mostrar intención hacia una tarjeta de crédito recomendada.\n",
    "\n",
    "<img src = \"https://storage.googleapis.com/kaggle-datasets-images/1371711/2277422/2c35585d42b3747882e83e926d0f643e/dataset-cover.png?t=2021-05-27-18-40-42\">\n",
    "\n",
    "\n",
    " --- "
   ]
  },
  {
   "cell_type": "markdown",
   "id": "71ce9db6",
   "metadata": {},
   "source": [
    "## 1. Listado de variables y selección \n",
    "### a) Variables de Entrada utilizadas\n",
    "\n",
    "- **Gender:** Género del cliente. (Male/Female). No contiene 'Nans'.\n",
    "\n",
    "\n",
    "\n",
    "- **Age:** Edad del cliente en años. No contiene 'Nans'.\n",
    "\n",
    "\n",
    "        \n",
    "- **Region_Code:** Código string de la Región para los clientes. No contiene 'Nans'. No están detalladas las regiones por nombre, sin embargo al cliente se le puede demostrar la influencia del dato por medio del código.\n",
    "\n",
    "        \n",
    "- **Occupation:** Ocupación del cliente. Valores posibles: 'Entrepreneur', 'Other', 'Salaried','Employed'. No contiene 'Nans'.\n",
    "\n",
    "        \n",
    "        \n",
    "- **Channel_Code:** Código para el Canal de Adquisición del Cliente. No contiene 'Nans'. Valores posibles: X1, X2, X3, X4.\n",
    "\n",
    "\n",
    "        \n",
    "- **Vintage:** Antiguedad del Cliente en Meses. No contiene 'Nans'.\n",
    "\n",
    "        \n",
    "        \n",
    "- **Credit_Product:** Si el Cliente tiene algún producto de crédito activo como por ejemplo: préstamo de vivienda, préstamo personal, tarjeta de crédito, etc. Valores posibles: True, False. Contiene 'Nans'.\n",
    "\n",
    "\n",
    "- **Avg_Account_Balance:** Saldo promedio de la cuenta del cliente en los últimos 12 meses. Expresado en int. No contiene 'Nans'.\n",
    "\n",
    "      \n",
    "      \n",
    "- **Is_Active:** Si el cliente estuvo activo en los últimos 3 meses. No contiene 'Nans'.\n",
    "            No-> El cliente no esta activo | Yes-> el cliente esta activo"
   ]
  },
  {
   "cell_type": "markdown",
   "id": "6dd1ab12",
   "metadata": {},
   "source": [
    "### b) Variable de Salida \n",
    "\n",
    "- **Is_Lead:**  Si el Cliente está interesado en obtener la tarjeta de Crédito.\n",
    "            0-> El cliente no esta interesado | 1-> el cliente esta interesado"
   ]
  },
  {
   "cell_type": "markdown",
   "id": "47d0ca51",
   "metadata": {},
   "source": [
    "### c) Variable que no vamos a utilizar \n",
    "\n",
    "**ID:** Podría conducir a un sobreajuste."
   ]
  },
  {
   "cell_type": "markdown",
   "id": "17d7950f",
   "metadata": {},
   "source": [
    "## 2. Análisis detallado del conjunto de variables"
   ]
  },
  {
   "cell_type": "code",
   "execution_count": null,
   "id": "c50a650c",
   "metadata": {},
   "outputs": [],
   "source": [
    "%matplotlib inline\n",
    "\n",
    "import warnings\n",
    "import numpy as np\n",
    "import pandas as pd \n",
    "import matplotlib\n",
    "import keras\n",
    "import h5py\n",
    "import PIL\n",
    "import seaborn as sns\n",
    "import sklearn\n",
    "import pytz\n",
    "import plotly.graph_objects as go\n",
    "\n",
    "from matplotlib import pyplot as plt\n",
    "\n",
    "from sklearn.metrics import accuracy_score, precision_score, recall_score, confusion_matrix\n",
    "from sklearn.model_selection import train_test_split\n",
    "\n",
    "# One Hot Encoder\n",
    "from sklearn.pipeline import Pipeline\n",
    "from sklearn_pandas import DataFrameMapper\n",
    "from sklearn.preprocessing import StandardScaler, OneHotEncoder, LabelBinarizer\n",
    "from sklearn.experimental import enable_iterative_imputer\n",
    "from sklearn.impute import SimpleImputer, IterativeImputer\n",
    "\n",
    "from sklearn.pipeline import Pipeline\n",
    "\n",
    "pd.set_option('display.float_format',lambda x:'%.0f'% x) #Sacar notación científica en pandas\n",
    "pd.options.display.max_columns = 0\n",
    "\n",
    "plt.rcParams.update({\n",
    "    \"font.family\": [\"serif\"],\n",
    "    \"font.sans-serif\": [\"Roboto\"],\n",
    "    \"font.size\": 9,\n",
    "    \"axes.labelsize\": 11,\n",
    "    \"axes.titlesize\": 13,\n",
    "    \"xtick.labelsize\": 11,\n",
    "    \"ytick.labelsize\": 11,\n",
    "    \"legend.fontsize\": 11,\n",
    "    'figure.figsize': (15.0, 4.0),\n",
    "    'axes.grid': False,\n",
    "    'axes.spines.left': True,\n",
    "    'axes.spines.right': True,\n",
    "    'axes.spines.top': True,\n",
    "    'axes.spines.bottom': True,\n",
    "})\n",
    "\n",
    "np.set_printoptions(suppress=True)\n",
    "\n",
    "warnings.filterwarnings('ignore')"
   ]
  },
  {
   "cell_type": "code",
   "execution_count": null,
   "id": "4fe2b325",
   "metadata": {},
   "outputs": [],
   "source": [
    "data_TC = pd.read_csv('train.csv')\n",
    "\n",
    "BETTER_COLUMN_NAMES = {\n",
    "    'ID': 'id',\n",
    "    'Gender': 'sexo',\n",
    "    'Age': 'edad',\n",
    "    'Region_Code': 'codigo_region',\n",
    "    'Occupation': 'ocupacion',\n",
    "    'Channel_Code': 'codigo_canal',\n",
    "    'Vintage': 'antiguedad',\n",
    "    'Credit_Product': 'tiene_producto_credito_activo',\n",
    "    'Avg_Account_Balance': 'saldo_promedio_cuenta',\n",
    "    'Is_Active': 'es_activo',\n",
    "    'Is_Lead': 'esta_interesado',\n",
    "}\n",
    "data_TC.rename(columns=BETTER_COLUMN_NAMES, inplace=True)\n",
    "\n",
    "data_TC.set_index('id', inplace=True)"
   ]
  },
  {
   "cell_type": "markdown",
   "id": "8831abef",
   "metadata": {},
   "source": [
    "### a) Balanceo de variable de Salida ###"
   ]
  },
  {
   "cell_type": "code",
   "execution_count": null,
   "id": "d795e98c",
   "metadata": {},
   "outputs": [],
   "source": [
    "import plotly.express as px \n",
    "import numpy \n",
    "  \n",
    "random_x = [100, 2000] \n",
    "names = ['Esta interesado', 'No esta interesado'] \n",
    "  \n",
    "fig = px.pie(values=data_TC.esta_interesado.value_counts(), names=names) \n",
    "fig.show()"
   ]
  },
  {
   "cell_type": "markdown",
   "id": "21c26717",
   "metadata": {},
   "source": [
    "Lo que se puede notar es que la variable se encuentra muy desbalanceada, con un 24% de clientes que no estan interesados en adquirir la tarjeta de crédito.\n",
    "Esto perjudica el entrenamiento, ya que le dificulta generalizar al modelo. "
   ]
  },
  {
   "cell_type": "markdown",
   "id": "365d34b5",
   "metadata": {},
   "source": [
    "### b) Comportamiento variables de entrada ###"
   ]
  },
  {
   "cell_type": "markdown",
   "id": "47615666",
   "metadata": {},
   "source": [
    "#### Ocupación"
   ]
  },
  {
   "cell_type": "code",
   "execution_count": null,
   "id": "5ba8d4d9",
   "metadata": {},
   "outputs": [],
   "source": [
    "ocupacion=['Entrepreneur', 'Other', 'Salaried','Employed']\n",
    "\n",
    "fig = go.Figure(data=[\n",
    "    go.Bar(name='Esta interesado', x=ocupacion, y=data_TC[data_TC.esta_interesado == 0].ocupacion.value_counts()),\n",
    "    go.Bar(name='No esta interesado', x=ocupacion, y=data_TC[data_TC.esta_interesado == 1].ocupacion.value_counts()),\n",
    "])\n",
    "# Change the bar mode\n",
    "fig.update_layout(barmode='group')\n",
    "fig.show()"
   ]
  },
  {
   "cell_type": "markdown",
   "id": "d41c3df7",
   "metadata": {},
   "source": [
    "Como se puede observar en la gráfica, la mayor cantidad de clientes potenciales tienen como ocupación \"Emprendedor\".\n",
    "La dificultad encontrada para el caso de los clientes que son \"Empleados\" es que la cantidad de casos es muy chica, por lo que se dificulta el dividir los datos y que estos se encuentren representados igualitariamente en Train, Validation y Test."
   ]
  },
  {
   "cell_type": "markdown",
   "id": "44f9d4e6",
   "metadata": {},
   "source": [
    "#### Sexo"
   ]
  },
  {
   "cell_type": "code",
   "execution_count": null,
   "id": "32811845",
   "metadata": {},
   "outputs": [],
   "source": [
    "genero=['Masculino', 'Femenino']\n",
    "\n",
    "fig = go.Figure(data=[\n",
    "    go.Bar(name='Esta interesado', x=genero, y=data_TC[data_TC.esta_interesado == 0].sexo.value_counts()),\n",
    "    go.Bar(name='No esta interesado', x=genero, y=data_TC[data_TC.esta_interesado == 1].sexo.value_counts()),\n",
    "])\n",
    "# Change the bar mode\n",
    "fig.update_layout(barmode='group')\n",
    "fig.show()"
   ]
  },
  {
   "cell_type": "markdown",
   "id": "350e78c4",
   "metadata": {},
   "source": [
    "Se puede observar que los datos se encuentran bastante balanceados, aún así, los clientes potenciales masculinos son más."
   ]
  },
  {
   "cell_type": "markdown",
   "id": "f962ef80",
   "metadata": {},
   "source": [
    "#### Edad"
   ]
  },
  {
   "cell_type": "code",
   "execution_count": null,
   "id": "87a5cf13",
   "metadata": {},
   "outputs": [],
   "source": [
    "df = px.data.tips()\n",
    "fig = px.histogram(data_TC, x=\"edad\", color=\"esta_interesado\", marginal = 'box', pattern_shape=\"esta_interesado\")\n",
    "fig.update_layout(bargap=0.1)\n",
    "fig.show()"
   ]
  },
  {
   "cell_type": "markdown",
   "id": "8df229e6",
   "metadata": {},
   "source": [
    "En el gráfico podemos observar que la mayor cantidad de clientes potenciales se encuentran entre los 25 y 35 años, de los cuales la mayoría estan interesados en el producto.\n",
    "Lo que tambien se observa es que los clientes entre 40 y 60 años son los menos interesados, en comparación con los que sí."
   ]
  },
  {
   "cell_type": "markdown",
   "id": "d8976a8d",
   "metadata": {},
   "source": [
    "#### Antiguedad "
   ]
  },
  {
   "cell_type": "code",
   "execution_count": null,
   "id": "feba1d60",
   "metadata": {},
   "outputs": [],
   "source": [
    "df = px.data.tips()\n",
    "fig = px.histogram(data_TC, x=\"antiguedad\", color=\"esta_interesado\", marginal = 'box')\n",
    "fig.update_layout(bargap=0.1)\n",
    "fig.show()"
   ]
  },
  {
   "cell_type": "markdown",
   "id": "5102c399",
   "metadata": {},
   "source": [
    "La relación que podemos ver, entre la antigüedad de los clientes y si estan interesados o no, es que los no interesados predominan, sin embargo se visualizaron casos que por ejemplo con antigüedad de tres meses hay más interesados que no."
   ]
  },
  {
   "cell_type": "markdown",
   "id": "545252d2",
   "metadata": {},
   "source": [
    "#### Saldo promedio de cuenta"
   ]
  },
  {
   "cell_type": "code",
   "execution_count": null,
   "id": "bf07ebf5",
   "metadata": {},
   "outputs": [],
   "source": [
    "df = px.data.tips()\n",
    "fig = px.histogram(data_TC, x=\"saldo_promedio_cuenta\", color=\"esta_interesado\", marginal = 'box')\n",
    "fig.update_layout(bargap=0.1)\n",
    "fig.show()"
   ]
  },
  {
   "cell_type": "markdown",
   "id": "76fde29e",
   "metadata": {},
   "source": [
    "Se puede observar la existencia de muchos extremos en los saldos. \n",
    "Tambien se puede ver que la mayor cantidad de los clientes tienen un saldo entre 0 y 4 M. De estos, la cantidad de interesados supera a la de no interesados ampliamente."
   ]
  },
  {
   "cell_type": "markdown",
   "id": "51f9fe11",
   "metadata": {},
   "source": [
    "#### Código de canal"
   ]
  },
  {
   "cell_type": "code",
   "execution_count": null,
   "id": "692816a7",
   "metadata": {},
   "outputs": [],
   "source": [
    "canales=['X1','X2','X3','X4']\n",
    "\n",
    "fig = go.Figure(data=[\n",
    "    go.Bar(name='Esta interesado', x=canales, y=data_TC[data_TC.esta_interesado == 0].codigo_canal.value_counts()),\n",
    "    go.Bar(name='No esta interesado', x=canales, y=data_TC[data_TC.esta_interesado == 1].codigo_canal.value_counts()),\n",
    "])\n",
    "# Change the bar mode\n",
    "fig.update_layout(barmode='group')\n",
    "fig.show()"
   ]
  },
  {
   "cell_type": "markdown",
   "id": "55ea7172",
   "metadata": {},
   "source": [
    "Se puede observar en la gráfica, como predominan en cantidad los registros correspondientes al Canal 'X1', sin embargo, todos comparten la característica de que los interesados superan a los que no. Además en proporción a la cantidad de datos entre los dos canales más utilizados, no existe una brecha grande con respecto a los No interesados. "
   ]
  },
  {
   "cell_type": "markdown",
   "id": "88d4e7f4",
   "metadata": {},
   "source": [
    "### c) Transformaciones"
   ]
  },
  {
   "cell_type": "markdown",
   "id": "25f97699",
   "metadata": {},
   "source": [
    "A continuación describimos las transformaciones que se harán a las features disponibles."
   ]
  },
  {
   "cell_type": "markdown",
   "id": "175269b8",
   "metadata": {},
   "source": [
    "- **Gender:** Label Binarizer. Transformamos los valores en 0 y 1, porque es similar a hacer un One-hot encoder de masculino y femenino pero con una sola columna en lugar de 2\n",
    "\n",
    "\n",
    "\n",
    "- **Age:** Escalar: para que los calores grande sean predominantes sobre valores más chicos de otras columnas. Y Rango: porque no necesitamos saber de que edad en específico, sino que en una franja etaria\n",
    "\n",
    "\n",
    "        \n",
    "- **Region_Code:** One-hot encoder, para eliminar las categorías de la columna. \n",
    "\n",
    "\n",
    "        \n",
    "- **Occupation:** One-hot encoder, para eliminar las categorías de la columna. \n",
    "\n",
    "        \n",
    "        \n",
    "- **Channel_Code:** One-hot encoder, para eliminar las categorías de la columna. \n",
    "\n",
    "\n",
    "        \n",
    "- **Vintage:** Escalar para que los calores grande sean predominantes sobre valores más chicos de otras columnas. Y Rango: porque no necesitamos saber de que antiguedad es el cliente, sino que en una franja etaria\n",
    "\n",
    "        \n",
    "        \n",
    "- **Credit_Product:** Label binarizer. Transformamos los valores en 0 y 1, porque es similar a hacer un One-hot encoder de masculino y femenino pero con una sola columna en lugar de 2. También se eliminan los valores en Null.\n",
    "\n",
    "\n",
    "\n",
    "- **Avg_Account_Balance:** Escalar para que los calores grande sean predominantes sobre valores más chicos de otras columnas. Y Rango: porque no necesitamos saber cual es el sueldo promedio del cliente, sino que en rango se maneja. Y eliminar valores extremos.\n",
    "\n",
    "      \n",
    "      \n",
    "- **Is_Active:** Label binarizer. Transformamos los valores en 0 y 1, porque es similar a hacer un One-hot encoder de masculino y femenino pero con una sola columna en lugar de 2"
   ]
  },
  {
   "cell_type": "markdown",
   "id": "6de6f43e",
   "metadata": {},
   "source": [
    "Las transformaciones realizadas nos sirven para poder realizar un analisis masestrecho de las variables de entrada. # Falta chamuyar aca, ni idea que poner"
   ]
  },
  {
   "cell_type": "markdown",
   "id": "8dddeeb0",
   "metadata": {},
   "source": [
    "### Primer maper"
   ]
  },
  {
   "cell_type": "code",
   "execution_count": null,
   "id": "33297a1b",
   "metadata": {},
   "outputs": [],
   "source": [
    "#esto capaz nos convenga hacerlo en el mapper con sklearn\n",
    "data_notNull = data_TC[data_TC['tiene_producto_credito_activo'].notna()]"
   ]
  },
  {
   "cell_type": "code",
   "execution_count": null,
   "id": "05b4aa55",
   "metadata": {},
   "outputs": [],
   "source": [
    "# Se dividen los datos en train y test\n",
    "# 60% train, 20% test, 20% validation\n",
    "#train, not_train = train_test_split(data_notNull, test_size=0.4)\n",
    "#validation, test = train_test_split(not_train, test_size=0.5)\n",
    "train, validation = train_test_split(data_notNull, test_size=0.2)\n",
    "\n",
    "#Dimención (filas, columnas) de los distintos dataset\n",
    "#print (\" Train:\", train.shape, '\\n', 'Validation:', validation.shape, '\\n', 'Test:', test.shape)\n",
    "print (\" Train:\", train.shape, '\\n', 'Validation:', validation.shape)\n",
    "#print(\"first line\", \"second line\", sep=\"\\n\")`"
   ]
  },
  {
   "cell_type": "code",
   "execution_count": null,
   "id": "06dac3af",
   "metadata": {},
   "outputs": [],
   "source": [
    "mapper = DataFrameMapper([\n",
    "    (['sexo'], [LabelBinarizer()]), \n",
    "    (['edad'], [StandardScaler()]),\n",
    "    (['codigo_region'], [OneHotEncoder()]),\n",
    "    (['ocupacion'], [OneHotEncoder()]),\n",
    "    (['antiguedad'], [StandardScaler()]),\n",
    "    (['codigo_canal'], [OneHotEncoder()]),\n",
    "    (['tiene_producto_credito_activo'], [LabelBinarizer()]),\n",
    "    (['saldo_promedio_cuenta'], [StandardScaler()]),\n",
    "    (['es_activo'], [LabelBinarizer()])\n",
    "], df_out=True) # df_out=True → Es lo que muestra el nombre de la columna\n",
    "\n",
    "# Lo entrenamos con train\n",
    "mapper.fit(data_notNull)"
   ]
  },
  {
   "cell_type": "code",
   "execution_count": null,
   "id": "42fa5ce9",
   "metadata": {},
   "outputs": [],
   "source": [
    "#De ejemplo para ver como funciona\n",
    "# vemos como transforma un sample:\n",
    "#sample = data_notNull.sample(5, random_state=20) #Semilla 20\n",
    "\n",
    "# Sample original:\n",
    "#sample"
   ]
  },
  {
   "cell_type": "code",
   "execution_count": null,
   "id": "db1b7a3a",
   "metadata": {
    "scrolled": true
   },
   "outputs": [],
   "source": [
    "# Sample transformado\n",
    "mapper.transform(data_notNull)"
   ]
  },
  {
   "cell_type": "code",
   "execution_count": null,
   "id": "810e62a2",
   "metadata": {},
   "outputs": [],
   "source": [
    "# Nombres de los faetures\n",
    "mapper.transformed_names_"
   ]
  },
  {
   "cell_type": "code",
   "execution_count": null,
   "id": "eca00535",
   "metadata": {},
   "outputs": [],
   "source": [
    "np.round(mapper.fit_transform(data_notNull), 2)"
   ]
  },
  {
   "cell_type": "code",
   "execution_count": null,
   "id": "871539c4",
   "metadata": {},
   "outputs": [],
   "source": [
    "np.round(mapper.transform(data_notNull), 1)"
   ]
  },
  {
   "cell_type": "code",
   "execution_count": null,
   "id": "a117198e",
   "metadata": {},
   "outputs": [],
   "source": [
    "data_TC.edad.rank()"
   ]
  },
  {
   "cell_type": "code",
   "execution_count": null,
   "id": "5ba4fa9d",
   "metadata": {},
   "outputs": [],
   "source": [
    "# Descripción de los datos\n",
    "data_notNull.describe()"
   ]
  },
  {
   "cell_type": "markdown",
   "id": "9284c494",
   "metadata": {},
   "source": [
    "### d) Valores Nulos y Extremos"
   ]
  },
  {
   "cell_type": "code",
   "execution_count": null,
   "id": "b172bda8",
   "metadata": {},
   "outputs": [],
   "source": [
    "# 1. Obtener los nombres de las columas como una lista\n",
    "col_name = data_TC.columns.tolist()\n",
    "\n",
    "# 2. Itera sobre la lista de nombres\n",
    "for column in col_name:\n",
    "    print (\"Valores nulos en <{0}> : {1}\".format(column, data_TC[column].isnull().sum()))"
   ]
  },
  {
   "cell_type": "code",
   "execution_count": null,
   "id": "cab0d779",
   "metadata": {
    "scrolled": false
   },
   "outputs": [],
   "source": [
    "Nulos = data_TC.isnull().sum()\n",
    "print(\"Columnas             Cantidad de nulos\")\n",
    "print(Nulos)"
   ]
  },
  {
   "cell_type": "code",
   "execution_count": null,
   "id": "3d706060",
   "metadata": {
    "scrolled": true
   },
   "outputs": [],
   "source": [
    "data_TC.count()"
   ]
  },
  {
   "cell_type": "markdown",
   "id": "490faa84",
   "metadata": {},
   "source": [
    "Como se puede observar, la feature que describe si el cliente contiene un producto de crédito activo contiene aproximadamente un 12% de variables Null.\n",
    "La decisión tomada para estos valores fue eliminarlos."
   ]
  },
  {
   "cell_type": "markdown",
   "id": "dfb601c9",
   "metadata": {},
   "source": [
    "#### Análisis de extremos"
   ]
  },
  {
   "cell_type": "code",
   "execution_count": null,
   "id": "eca8fa1c",
   "metadata": {},
   "outputs": [],
   "source": [
    "x0 = data_notNull.edad\n",
    "#x1 = data_notNull.esta_interesado\n",
    "\n",
    "fig = go.Figure()\n",
    "# Use x instead of y argument for horizontal plot\n",
    "fig.add_trace(go.Box(x=x0,  name = 'edad'))\n",
    "#fig.add_trace(go.Box(x=x1))\n",
    "\n",
    "fig.show()"
   ]
  },
  {
   "cell_type": "code",
   "execution_count": null,
   "id": "3d9a102b",
   "metadata": {},
   "outputs": [],
   "source": [
    "x0 = data_notNull.antiguedad                     \n",
    "#x1 = data_notNull.esta_interesado\n",
    "\n",
    "fig = go.Figure()\n",
    "# Use x instead of y argument for horizontal plot\n",
    "fig.add_trace(go.Box(x=x0,  name = 'antiguedad'))\n",
    "#fig.add_trace(go.Box(x=x1))\n",
    "\n",
    "fig.show()"
   ]
  },
  {
   "cell_type": "code",
   "execution_count": null,
   "id": "f5296252",
   "metadata": {},
   "outputs": [],
   "source": [
    "x0 = data_notNull.saldo_promedio_cuenta          \n",
    "#x1 = data_notNull.esta_interesado\n",
    "\n",
    "fig = go.Figure()\n",
    "# Use x instead of y argument for horizontal plot\n",
    "fig.add_trace(go.Box(x=x0,  name = 'saldo promedio cuenta'))\n",
    "#fig.add_trace(go.Box(x=x1))\n",
    "\n",
    "fig.show()"
   ]
  },
  {
   "cell_type": "code",
   "execution_count": null,
   "id": "58b0c43b",
   "metadata": {},
   "outputs": [],
   "source": [
    "#pd.set_option('display.float_format',lambda x:'%.0f'% x) #Sacar notación científica en pandas\n",
    "data_notNull.saldo_promedio_cuenta.describe()"
   ]
  },
  {
   "cell_type": "code",
   "execution_count": null,
   "id": "159db56f",
   "metadata": {},
   "outputs": [],
   "source": [
    "cols = ['saldo_promedio_cuenta'] # one or more\n",
    "\n",
    "Q1 = data_notNull[cols].quantile(0.25)\n",
    "Q3 = data_notNull[cols].quantile(0.75)\n",
    "IQR = Q3 - Q1\n",
    "\n",
    "data2_notOutLiers = data_notNull[~((data_notNull[cols] < (Q1 - 1.5 * IQR)) |(data_notNull[cols] > (Q3 + 1.5 * IQR))).any(axis=1)]"
   ]
  },
  {
   "cell_type": "code",
   "execution_count": null,
   "id": "e2c79f09",
   "metadata": {},
   "outputs": [],
   "source": [
    "x0 = data2_notOutLiers.saldo_promedio_cuenta          \n",
    "#x1 = data_notNull.esta_interesado\n",
    "\n",
    "fig = go.Figure()\n",
    "# Use x instead of y argument for horizontal plot\n",
    "fig.add_trace(go.Box(x=x0,  name = 'saldo promedio cuenta'))\n",
    "#fig.add_trace(go.Box(x=x1))\n",
    "\n",
    "fig.show()"
   ]
  },
  {
   "cell_type": "code",
   "execution_count": null,
   "id": "254dad5f",
   "metadata": {},
   "outputs": [],
   "source": [
    "#pd.set_option('display.float_format',lambda x:'%.0f'% x) #Sacar notación científica en pandas\n",
    "data2_notOutLiers.saldo_promedio_cuenta.describe()"
   ]
  },
  {
   "cell_type": "markdown",
   "id": "78bc5e48",
   "metadata": {},
   "source": [
    "#### Tipo de cada columna"
   ]
  },
  {
   "cell_type": "code",
   "execution_count": null,
   "id": "e874250d",
   "metadata": {},
   "outputs": [],
   "source": [
    "# Tipo de cada columna\n",
    "# ==============================================================================\n",
    "# En pandas, el tipo \"object\" hace referencia a strings\n",
    "# datos.dtypes\n",
    "data_notNull.info()"
   ]
  },
  {
   "cell_type": "markdown",
   "id": "04629842",
   "metadata": {},
   "source": [
    "### e) Correlación entre las variables"
   ]
  },
  {
   "cell_type": "code",
   "execution_count": null,
   "id": "fecc377c",
   "metadata": {},
   "outputs": [],
   "source": [
    "data_notNull[\"canal_num\"] = pd.to_numeric(data_notNull.codigo_canal.str.replace('X', ''))\n",
    "data_notNull[\"region_num\"] = pd.to_numeric(data_notNull.codigo_region.str.replace('RG', ''))\n",
    "data_notNull[\"producto_credito_num\"] = data_notNull.tiene_producto_credito_activo.replace(['No','Yes'], [0, 1])\n",
    "data_notNull[\"es_activo_num\"] = data_notNull.tiene_producto_credito_activo.replace(['No','Yes'], [0, 1])\n",
    "data_notNull[\"ocupacion_num\"] = data_notNull.ocupacion.replace(['Entrepreneur', 'Other', 'Salaried','Self_Employed'], [0, 1, 2, 3])"
   ]
  },
  {
   "cell_type": "code",
   "execution_count": null,
   "id": "9d897bfd",
   "metadata": {},
   "outputs": [],
   "source": [
    "data_notNull.sample(5)"
   ]
  },
  {
   "cell_type": "code",
   "execution_count": null,
   "id": "b75ba664",
   "metadata": {},
   "outputs": [],
   "source": [
    "#Primero necesita hacer esto para poder dibujar la matriz de correlaciones\n",
    "corr_matrix = data_notNull.select_dtypes(include=['float64', 'int']).corr(method='pearson')"
   ]
  },
  {
   "cell_type": "code",
   "execution_count": null,
   "id": "1ef1eca8",
   "metadata": {},
   "outputs": [],
   "source": [
    "# Heatmap matriz de correlaciones\n",
    "# ==============================================================================\n",
    "fig, ax = plt.subplots(nrows=1, ncols=1, figsize=(20, 20)) # (8, 8) tamaño de la grilla \n",
    "\n",
    "sns.heatmap(\n",
    "    corr_matrix,\n",
    "    annot     = True,\n",
    "    cbar      = True, # Barra del costado\n",
    "    annot_kws = {\"size\": 20}, # tamaño nro cuadrilla\n",
    "    vmin      = -1,\n",
    "    vmax      = 1,\n",
    "    center    = 0,\n",
    "    cmap      = sns.diverging_palette(20, 220, n=200), # (20, 220, n=200) color de la grilla\n",
    "    square    = False, \n",
    "    ax        = ax\n",
    ")\n",
    "ax.set_xticklabels(\n",
    "    ax.get_xticklabels(),\n",
    "    rotation = 45,\n",
    "    horizontalalignment = 'right',\n",
    ")\n",
    "\n",
    "ax.tick_params(labelsize = 10) # (labelsize = 50) tamaño la leyenda de los ejes"
   ]
  },
  {
   "cell_type": "markdown",
   "id": "bc8f49cd",
   "metadata": {},
   "source": [
    "Como se puede ver en el gráfico anterior, la variable con mayor correlación a nuestro Target, es la del sueldo promedio de la cuenta.\n",
    "Esto nos lleva a pensar que personas que generalmente tienen poco saldo, esten dispuestos a obtener una tarjeta de crédito para poder obtener mas bienes o servicios."
   ]
  },
  {
   "cell_type": "markdown",
   "id": "5c9f7856",
   "metadata": {},
   "source": [
    "## 3. Hipótesis sobre los datos"
   ]
  },
  {
   "cell_type": "markdown",
   "id": "67ccd074",
   "metadata": {},
   "source": [
    "- Hipótesis 1: \n",
    "Los clientes del banco que son empresarios y cuentan con saldo promedio en la cuenta alto, tienen tendencia a presentar interes por una tarjeta de credito."
   ]
  },
  {
   "cell_type": "markdown",
   "id": "bad056e2",
   "metadata": {},
   "source": [
    "### Comprobación de hipótesis 1: ###\n"
   ]
  },
  {
   "cell_type": "markdown",
   "id": "5f8acf96",
   "metadata": {},
   "source": [
    "Para comprobar la hipótesis, en primer lugar vamos a establecer desde qué rango de saldo promedio consideraremos como alto.\n",
    "\n",
    "Para determinarlo, vamos a obtener el promedio de la columna del saldo promedio."
   ]
  },
  {
   "cell_type": "code",
   "execution_count": null,
   "id": "26c358a8",
   "metadata": {},
   "outputs": [],
   "source": [
    "mean_df = data_TC['saldo_promedio_cuenta'].mean()\n",
    "print(mean_df)"
   ]
  },
  {
   "cell_type": "markdown",
   "id": "51d84e2a",
   "metadata": {},
   "source": [
    "Luego de calcular el promedio de la columna saldo_promedio_cuenta, optamos por establecer un saldo promedio 'alto' a un valor superior a 1400000. Vamos agregar una columna \"H1\" al dataset, la misma devolvera true si el sueldo promedio para ese cliente, supera 1400000 y además es empresario()"
   ]
  },
  {
   "cell_type": "code",
   "execution_count": null,
   "id": "8153e247",
   "metadata": {},
   "outputs": [],
   "source": [
    "data_TC['H1']= ((data_TC.saldo_promedio_cuenta >= 1400000) & (data_TC.ocupacion==\"Entrepreneur\"))"
   ]
  },
  {
   "cell_type": "code",
   "execution_count": null,
   "id": "10a643f0",
   "metadata": {},
   "outputs": [],
   "source": [
    "data_TC.sample(10)"
   ]
  },
  {
   "cell_type": "markdown",
   "id": "a6dc196e",
   "metadata": {},
   "source": [
    "En consecuencia, vamos a filtrar con las columnas H1== True y el target: es_activo para evaluar la hipótesis"
   ]
  },
  {
   "cell_type": "code",
   "execution_count": null,
   "id": "0c906dac",
   "metadata": {},
   "outputs": [],
   "source": [
    "data_TC.columns"
   ]
  },
  {
   "cell_type": "code",
   "execution_count": null,
   "id": "f8b50a72",
   "metadata": {},
   "outputs": [],
   "source": [
    "ch_df2 = data_TC[data_TC['H1']== True]"
   ]
  },
  {
   "cell_type": "code",
   "execution_count": null,
   "id": "7f1e6f3a",
   "metadata": {},
   "outputs": [],
   "source": [
    "#Obtenemos el promedio interesados, de todos los clientes emprendedores con sueldo en cuenta alto.\n",
    "mean_df2 = ch_df2['esta_interesado'].mean()\n",
    "print(mean_df2)"
   ]
  },
  {
   "cell_type": "markdown",
   "id": "8af76a5c",
   "metadata": {},
   "source": [
    "Según el analisis realizado, nuestra hipotesis tiene un 66,5% de valores en que se cumple según el dataset analizado."
   ]
  }
 ],
 "metadata": {
  "kernelspec": {
   "display_name": "Python 3 (ipykernel)",
   "language": "python",
   "name": "python3"
  },
  "language_info": {
   "codemirror_mode": {
    "name": "ipython",
    "version": 3
   },
   "file_extension": ".py",
   "mimetype": "text/x-python",
   "name": "python",
   "nbconvert_exporter": "python",
   "pygments_lexer": "ipython3",
   "version": "3.9.12"
  }
 },
 "nbformat": 4,
 "nbformat_minor": 5
}
