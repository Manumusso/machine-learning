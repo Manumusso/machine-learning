{
 "cells": [
  {
   "cell_type": "markdown",
   "id": "314620e0",
   "metadata": {},
   "source": [
    "# Trabajo Práctico 1: Análisis Exploratorio de Datos #\n",
    "## Cientes potenciales a tarjetas de crédito. ##\n",
    "El [DATASET](https://www.kaggle.com/datasets/sajidhussain3/jobathon-may-2021-credit-card-lead-prediction?select=train.csv) contiene información de clientes de un banco denominado Happy Customer Bank. Es un banco privado de tamaño medio que se ocupa de todo tipo de productos bancarios, como cuentas de ahorro, cuentas corrientes, productos de inversión, productos de crédito, entre otras ofertas.  \n",
    "\n",
    "En este caso, el Happy Customer Bank desea realizar ventas cruzadas de sus tarjetas de crédito a sus clientes existentes. El banco ha identificado un conjunto de clientes que son elegibles para aceptar estas tarjetas de crédito.\n",
    "\n",
    "El banco tiene la necesidad, de identificar a los clientes que podrían mostrar intención hacia una tarjeta de crédito recomendada.\n",
    "\n",
    "<img src = \"https://storage.googleapis.com/kaggle-datasets-images/1371711/2277422/2c35585d42b3747882e83e926d0f643e/dataset-cover.png?t=2021-05-27-18-40-42\">\n",
    "\n",
    "\n",
    " --- "
   ]
  },
  {
   "cell_type": "markdown",
   "id": "71ce9db6",
   "metadata": {},
   "source": [
    "## 1. Listado de variables y selección ###\n",
    "### a) Variables de Entrada ##\n",
    "\n",
    "- **ID:** Identificador único para cada fila. (no lo vamos a usar)\n",
    "\n",
    "\n",
    "\n",
    "- **Gender:** Género del cliente.\n",
    "\n",
    "\n",
    "\n",
    "- **Age:** Edad del cliente (en años).\n",
    "\n",
    "\n",
    "        \n",
    "- **Region_Code:** Código de la Región para los clientes\n",
    "\n",
    "\n",
    "        \n",
    "- **Occupation:** Ocupación del cliente.\n",
    "\n",
    "        \n",
    "        \n",
    "- **Channel_Code:** Código de Canal de Adquisición para el Cliente (Codificado)\n",
    "\n",
    "\n",
    "        \n",
    "- **Vintage:** Antiguedad del Cliente (En Meses).\n",
    "\n",
    "        \n",
    "        \n",
    "- **Credit_Product:** Si el Cliente tiene algún producto de crédito activo (Préstamo de vivienda, Préstamo personal, Tarjeta de crédito, etc.)\n",
    "\n",
    "\n",
    "\n",
    "- **Avg_Account_Balance:** Saldo de cuenta promedio. Saldo promedio de la cuenta del cliente en los últimos 12 meses\n",
    "\n",
    "      \n",
    "      \n",
    "- **Is_Active:** Si el Cliente tiene activo algún producto de crédito. Si el cliente está activo en los últimos 3 meses. \n",
    "            0-> El cliente no esta activo | 1-> el cliente esta activo\n",
    "            \n",
    "            \n",
    "--------\n",
    "\n",
    "### b) Variable de Salida ###\n",
    "\n",
    "- **Is_Lead:**  Si el Cliente está interesado en la Tarjeta de Crédito.\n",
    "            0-> El cliente no esta interesado | 1-> el cliente esta interesado\n",
    "\n"
   ]
  },
  {
   "cell_type": "code",
   "execution_count": null,
   "id": "c50a650c",
   "metadata": {},
   "outputs": [],
   "source": [
    "import numpy as np\n",
    "import pandas as pd \n",
    "import matplotlib\n",
    "import keras\n",
    "import h5py\n",
    "import PIL\n",
    "import seaborn as sns\n",
    "import sklearn\n",
    "import pytz\n",
    "\n",
    "from matplotlib import pyplot as plt\n",
    "\n",
    "from sklearn.metrics import accuracy_score, precision_score, recall_score, confusion_matrix\n",
    "from sklearn.model_selection import train_test_split\n",
    "\n",
    "pd.options.display.max_columns = 0\n",
    "\n",
    "plt.rcParams.update({\n",
    "    \"font.family\": [\"serif\"],\n",
    "    \"font.sans-serif\": [\"Roboto\"],\n",
    "    \"font.size\": 9,\n",
    "    \"axes.labelsize\": 11,\n",
    "    \"axes.titlesize\": 13,\n",
    "    \"xtick.labelsize\": 11,\n",
    "    \"ytick.labelsize\": 11,\n",
    "    \"legend.fontsize\": 11,\n",
    "    'figure.figsize': (15.0, 4.0),\n",
    "    'axes.grid': False,\n",
    "    'axes.spines.left': True,\n",
    "    'axes.spines.right': True,\n",
    "    'axes.spines.top': True,\n",
    "    'axes.spines.bottom': True,\n",
    "})\n",
    "\n",
    "np.set_printoptions(suppress=True)\n",
    "\n",
    "#warnings.filterwarnings('ignore')"
   ]
  },
  {
   "cell_type": "code",
   "execution_count": null,
   "id": "d795e98c",
   "metadata": {},
   "outputs": [],
   "source": [
    "data_TC = pd.read_csv('train.csv')"
   ]
  },
  {
   "cell_type": "code",
   "execution_count": null,
   "id": "32e6dbd8",
   "metadata": {},
   "outputs": [],
   "source": [
    "data_TC.sample(10)"
   ]
  },
  {
   "cell_type": "markdown",
   "id": "88d4e7f4",
   "metadata": {},
   "source": [
    "### c) Transformaciones ###"
   ]
  },
  {
   "cell_type": "code",
   "execution_count": null,
   "id": "b172bda8",
   "metadata": {},
   "outputs": [],
   "source": [
    "# 1. Obtener los nombres de las columas como una lista\n",
    "col_name = data_TC.columns.tolist()\n",
    "\n",
    "# 2. Itera sobre la lista de nombres\n",
    "for column in col_name:\n",
    "    print (\"Valores nulos en <{0}>: {1}\".format(column, data_TC[column].isnull().sum()))"
   ]
  },
  {
   "cell_type": "code",
   "execution_count": null,
   "id": "cab0d779",
   "metadata": {},
   "outputs": [],
   "source": [
    "Nulos = data_TC.isnull().sum()\n",
    "print(\"Columnas         Cantidad de nulos\")\n",
    "print(Nulos)"
   ]
  },
  {
   "cell_type": "code",
   "execution_count": null,
   "id": "3d706060",
   "metadata": {},
   "outputs": [],
   "source": [
    "data_TC.count()"
   ]
  },
  {
   "cell_type": "code",
   "execution_count": null,
   "id": "5ba4fa9d",
   "metadata": {},
   "outputs": [],
   "source": [
    "# Descripción de los datos\n",
    "data_TC.describe()"
   ]
  },
  {
   "cell_type": "markdown",
   "id": "78bc5e48",
   "metadata": {},
   "source": [
    "### Tipo de cada columna"
   ]
  },
  {
   "cell_type": "code",
   "execution_count": null,
   "id": "e874250d",
   "metadata": {},
   "outputs": [],
   "source": [
    "\n",
    "# Tipo de cada columna\n",
    "# ==============================================================================\n",
    "# En pandas, el tipo \"object\" hace referencia a strings\n",
    "# datos.dtypes\n",
    "data_TC.info()"
   ]
  },
  {
   "cell_type": "code",
   "execution_count": null,
   "id": "b75ba664",
   "metadata": {},
   "outputs": [],
   "source": [
    "#Primero necesita hacer esto para poder dibujar la matriz de correlaciones\n",
    "corr_matrix = data_TC.select_dtypes(include=['float64', 'int']).corr(method='pearson')"
   ]
  },
  {
   "cell_type": "code",
   "execution_count": null,
   "id": "1ef1eca8",
   "metadata": {},
   "outputs": [],
   "source": [
    "# Heatmap matriz de correlaciones\n",
    "# ==============================================================================\n",
    "fig, ax = plt.subplots(nrows=1, ncols=1, figsize=(10, 10)) # (8, 8) tamaño de la grilla \n",
    "\n",
    "sns.heatmap(\n",
    "    corr_matrix,\n",
    "    annot     = True,\n",
    "    cbar      = False,\n",
    "    annot_kws = {\"size\": 20},\n",
    "    vmin      = -1,\n",
    "    vmax      = 1,\n",
    "    center    = 0,\n",
    "    cmap      = sns.diverging_palette(20, 220, n=200), # (20, 220, n=200) color de la grilla\n",
    "    square    = True,\n",
    "    ax        = ax\n",
    ")\n",
    "ax.set_xticklabels(\n",
    "    ax.get_xticklabels(),\n",
    "    rotation = 45,\n",
    "    horizontalalignment = 'right',\n",
    ")\n",
    "\n",
    "ax.tick_params(labelsize = 20) # (labelsize = 50) tamaño la leyenda de los ejes"
   ]
  },
  {
   "cell_type": "markdown",
   "id": "2abe1b13",
   "metadata": {},
   "source": [
    "- **Gender:** one-hot encoder\n",
    "\n",
    "\n",
    "\n",
    "- **Age:** rango\n",
    "\n",
    "\n",
    "        \n",
    "- **Region_Code:** one-hot encoder\n",
    "\n",
    "\n",
    "        \n",
    "- **Occupation:** one-hot encoder\n",
    "\n",
    "        \n",
    "        \n",
    "- **Channel_Code:** one-hot encoder\n",
    "\n",
    "\n",
    "        \n",
    "- **Vintage:** rango\n",
    "\n",
    "        \n",
    "        \n",
    "- **Credit_Product:** one-hot encoder y eliminamos los null. (esta desbalanceado)\n",
    "\n",
    "\n",
    "\n",
    "- **Avg_Account_Balance:** escalar y rangos (y ver outliers)\n",
    "\n",
    "      \n",
    "      \n",
    "- **Is_Active:** one-hot encoder"
   ]
  },
  {
   "cell_type": "code",
   "execution_count": null,
   "id": "1fc581c8",
   "metadata": {},
   "outputs": [],
   "source": []
  },
  {
   "cell_type": "code",
   "execution_count": null,
   "id": "1eb8bd85",
   "metadata": {},
   "outputs": [],
   "source": []
  },
  {
   "cell_type": "code",
   "execution_count": null,
   "id": "05b4aa55",
   "metadata": {},
   "outputs": [],
   "source": [
    "# Se dividen los datos en train y test\n",
    "# 60% train, 20% test, 20% validation\n",
    "train, not_train = train_test_split(data_TC, test_size=0.4)\n",
    "validation, test = train_test_split(not_train, test_size=0.5)\n",
    "\n",
    "#Dimención (filas, columnas) de los distintos dataset\n",
    "print (\" Train:\", train.shape, '\\n', 'Validation:', validation.shape, '\\n', 'Test:', test.shape)\n",
    "#print(\"first line\", \"second line\", sep=\"\\n\")`"
   ]
  }
 ],
 "metadata": {
  "kernelspec": {
   "display_name": "Python 3 (ipykernel)",
   "language": "python",
   "name": "python3"
  },
  "language_info": {
   "codemirror_mode": {
    "name": "ipython",
    "version": 3
   },
   "file_extension": ".py",
   "mimetype": "text/x-python",
   "name": "python",
   "nbconvert_exporter": "python",
   "pygments_lexer": "ipython3",
   "version": "3.9.12"
  }
 },
 "nbformat": 4,
 "nbformat_minor": 5
}
