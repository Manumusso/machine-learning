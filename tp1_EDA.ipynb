{
 "cells": [
  {
   "cell_type": "markdown",
   "id": "314620e0",
   "metadata": {},
   "source": [
    "# Trabajo Práctico 1: Análisis Exploratorio de Datos #\n",
    "## Cientes potenciales a tarjetas de crédito. ##\n",
    "El [DATASET](https://www.kaggle.com/datasets/sajidhussain3/jobathon-may-2021-credit-card-lead-prediction?select=train.csv) contiene información de clientes de un banco denominado Happy Customer Bank. Es un banco privado de tamaño medio que se ocupa de todo tipo de productos bancarios, como cuentas de ahorro, cuentas corrientes, productos de inversión, productos de crédito, entre otras ofertas.  \n",
    "\n",
    "En este caso, el Happy Customer Bank desea realizar ventas cruzadas de sus tarjetas de crédito a sus clientes existentes. El banco ha identificado un conjunto de clientes que son elegibles para aceptar estas tarjetas de crédito.\n",
    "\n",
    "El banco tiene la necesidad, de identificar a los clientes que podrían mostrar intención hacia una tarjeta de crédito recomendada.\n",
    "\n",
    "<img src = \"https://storage.googleapis.com/kaggle-datasets-images/1371711/2277422/2c35585d42b3747882e83e926d0f643e/dataset-cover.png?t=2021-05-27-18-40-42\">\n",
    "\n",
    "\n",
    " --- "
   ]
  },
  {
   "cell_type": "markdown",
   "id": "71ce9db6",
   "metadata": {},
   "source": [
    "## 1. Listado de variables y selección ###\n",
    "### a) Variables de Entrada (vamos a utilizar)##\n",
    "\n",
    "- **Gender:** Género del cliente. (male/female), no Nans\n",
    "\n",
    "\n",
    "\n",
    "- **Age:** Edad del cliente. (En años), no NaNs\n",
    "\n",
    "\n",
    "        \n",
    "- **Region_Code:** Código de la Región para los clientes. (string), no NaNs. No estan detalladas las regiones por nombre, sin embargo al cliente se le puede demostrar la influencia del dato por medio del código.\n",
    "\n",
    "        \n",
    "- **Occupation:** Ocupación del cliente, no NaNs. Valores posibles: 'Entrepreneur', 'Other', 'Salaried','Employed',\n",
    "\n",
    "        \n",
    "        \n",
    "- **Channel_Code:** Código de Canal de Adquisición para el Cliente (Codificado), no NaNs. Valores posibles: X1, X2, X3, X4\n",
    "\n",
    "\n",
    "        \n",
    "- **Vintage:** Antiguedad del Cliente (En Meses), no NaNs.\n",
    "\n",
    "        \n",
    "        \n",
    "- **Credit_Product:** Si el Cliente tiene algún producto de crédito activo (Préstamo de vivienda, Préstamo personal, Tarjeta de crédito, etc,algunos Nans. Valor posible: True, False, NaNs.\n",
    "\n",
    "\n",
    "- **Avg_Account_Balance:** Saldo de cuenta promedio. Saldo promedio de la cuenta del cliente en los últimos 12 meses. Valor posible: Integer, no NaNs\n",
    "\n",
    "      \n",
    "      \n",
    "- **Is_Active:** Si el cliente está activo en los últimos 3 meses. No NaNs\n",
    "            No-> El cliente no esta activo | Yes-> el cliente esta activo\n",
    "            \n",
    "            \n",
    "--------\n",
    "\n"
   ]
  },
  {
   "cell_type": "markdown",
   "id": "6dd1ab12",
   "metadata": {},
   "source": [
    "### b) Variable de Salida (a predecir) ###\n",
    "\n",
    "- **Is_Lead:**  Si el Cliente está interesado en la Tarjeta de Crédito.\n",
    "            0-> El cliente no esta interesado | 1-> el cliente esta interesado"
   ]
  },
  {
   "cell_type": "markdown",
   "id": "47d0ca51",
   "metadata": {},
   "source": [
    "### c) Variable que no vamos a utilizar \n",
    "\n",
    "**ID:** Podría conducir a un sobreajuste."
   ]
  },
  {
   "cell_type": "code",
   "execution_count": null,
   "id": "c50a650c",
   "metadata": {},
   "outputs": [],
   "source": [
    "%matplotlib inline\n",
    "\n",
    "import warnings\n",
    "import numpy as np\n",
    "import pandas as pd \n",
    "import matplotlib\n",
    "import keras\n",
    "import h5py\n",
    "import PIL\n",
    "import seaborn as sns\n",
    "import sklearn\n",
    "import pytz\n",
    "import plotly.graph_objects as go\n",
    "\n",
    "from matplotlib import pyplot as plt\n",
    "\n",
    "from sklearn.metrics import accuracy_score, precision_score, recall_score, confusion_matrix\n",
    "from sklearn.model_selection import train_test_split\n",
    "\n",
    "pd.options.display.max_columns = 0\n",
    "\n",
    "plt.rcParams.update({\n",
    "    \"font.family\": [\"serif\"],\n",
    "    \"font.sans-serif\": [\"Roboto\"],\n",
    "    \"font.size\": 9,\n",
    "    \"axes.labelsize\": 11,\n",
    "    \"axes.titlesize\": 13,\n",
    "    \"xtick.labelsize\": 11,\n",
    "    \"ytick.labelsize\": 11,\n",
    "    \"legend.fontsize\": 11,\n",
    "    'figure.figsize': (15.0, 4.0),\n",
    "    'axes.grid': False,\n",
    "    'axes.spines.left': True,\n",
    "    'axes.spines.right': True,\n",
    "    'axes.spines.top': True,\n",
    "    'axes.spines.bottom': True,\n",
    "})\n",
    "\n",
    "np.set_printoptions(suppress=True)\n",
    "\n",
    "warnings.filterwarnings('ignore')"
   ]
  },
  {
   "cell_type": "code",
   "execution_count": null,
   "id": "4fe2b325",
   "metadata": {},
   "outputs": [],
   "source": [
    "data_TC = pd.read_csv('train.csv')\n",
    "\n",
    "BETTER_COLUMN_NAMES = {\n",
    "    'ID': 'id',\n",
    "    'Gender': 'sexo',\n",
    "    'Age': 'edad',\n",
    "    'Region_Code': 'codigo_region',\n",
    "    'Occupation': 'ocupacion',\n",
    "    'Channel_Code': 'codigo_canal',\n",
    "    'Vintage': 'antiguedad',\n",
    "    'Credit_Product': 'tiene_producto_credito_activo',\n",
    "    'Avg_Account_Balance': 'saldo_promedio_cuenta',\n",
    "    'Is_Active': 'es_activo',\n",
    "    'Is_Lead': 'esta_interesado',\n",
    "}\n",
    "data_TC.rename(columns=BETTER_COLUMN_NAMES, inplace=True)\n",
    "\n",
    "data_TC.set_index('id', inplace=True)"
   ]
  },
  {
   "cell_type": "markdown",
   "id": "fa2bc557",
   "metadata": {},
   "source": [
    "## 2. Análisis detallado del conjunto de variables ###"
   ]
  },
  {
   "cell_type": "markdown",
   "id": "8831abef",
   "metadata": {},
   "source": [
    "### a) Balanceo de variable de Salida ###"
   ]
  },
  {
   "cell_type": "code",
   "execution_count": null,
   "id": "d795e98c",
   "metadata": {},
   "outputs": [],
   "source": [
    "import plotly.express as px \n",
    "import numpy \n",
    "  \n",
    "random_x = [100, 2000] \n",
    "names = ['Esta interesado', 'No esta interesado'] \n",
    "  \n",
    "fig = px.pie(values=data_TC.esta_interesado.value_counts(), names=names) \n",
    "fig.show()"
   ]
  },
  {
   "cell_type": "markdown",
   "id": "21c26717",
   "metadata": {},
   "source": [
    "Lo que se puede notar es que la variable se encuentra muy desbalanceada, con un 24% de clientes que no estan interesados en adquirir la tarjeta de crédito.\n",
    "Esto perjudica el entrenamiento, ya que le dificulta generalizar al modelo. "
   ]
  },
  {
   "cell_type": "markdown",
   "id": "365d34b5",
   "metadata": {},
   "source": [
    "### b) Comportamiento variables de entrada ###"
   ]
  },
  {
   "cell_type": "markdown",
   "id": "47615666",
   "metadata": {},
   "source": [
    "### Ocupación ###"
   ]
  },
  {
   "cell_type": "code",
   "execution_count": null,
   "id": "5ba8d4d9",
   "metadata": {},
   "outputs": [],
   "source": [
    "ocupacion=['Entrepreneur', 'Other', 'Salaried','Employed']\n",
    "\n",
    "fig = go.Figure(data=[\n",
    "    go.Bar(name='Esta interesado', x=ocupacion, y=data_TC[data_TC.esta_interesado == 0].ocupacion.value_counts()),\n",
    "    go.Bar(name='No esta interesado', x=ocupacion, y=data_TC[data_TC.esta_interesado == 1].ocupacion.value_counts()),\n",
    "])\n",
    "# Change the bar mode\n",
    "fig.update_layout(barmode='group')\n",
    "fig.show()"
   ]
  },
  {
   "cell_type": "markdown",
   "id": "d41c3df7",
   "metadata": {},
   "source": [
    "Como se puede observar en la gráfica, la mayor cantidad de clientes potenciales tienen como ocupación \"Emprendedor\".\n",
    "La dificultad encontrada para el caso de los clientes que son \"Empleados\" es que la cantidad de casos es muy chica, por lo que se dificulta el dividir los datos y que estos se encuentren representados igualitariamente en Train, Validation y Test."
   ]
  },
  {
   "cell_type": "code",
   "execution_count": null,
   "id": "32811845",
   "metadata": {},
   "outputs": [],
   "source": [
    "genero=['Masculino', 'Femenino']\n",
    "\n",
    "fig = go.Figure(data=[\n",
    "    go.Bar(name='Esta interesado', x=genero, y=data_TC[data_TC.esta_interesado == 0].sexo.value_counts()),\n",
    "    go.Bar(name='No esta interesado', x=genero, y=data_TC[data_TC.esta_interesado == 1].sexo.value_counts()),\n",
    "])\n",
    "# Change the bar mode\n",
    "fig.update_layout(barmode='group')\n",
    "fig.show()"
   ]
  },
  {
   "cell_type": "code",
   "execution_count": null,
   "id": "87a5cf13",
   "metadata": {},
   "outputs": [],
   "source": [
    "df = px.data.tips()\n",
    "fig = px.histogram(data_TC, x=\"edad\", color=\"esta_interesado\", marginal = 'box', pattern_shape=\"esta_interesado\")\n",
    "fig.update_layout(bargap=0.1)\n",
    "fig.show()"
   ]
  },
  {
   "cell_type": "code",
   "execution_count": null,
   "id": "feba1d60",
   "metadata": {},
   "outputs": [],
   "source": [
    "df = px.data.tips()\n",
    "fig = px.histogram(data_TC, x=\"antiguedad\", color=\"esta_interesado\", marginal = 'box')\n",
    "fig.update_layout(bargap=0.1)\n",
    "fig.show()"
   ]
  },
  {
   "cell_type": "markdown",
   "id": "88d4e7f4",
   "metadata": {},
   "source": [
    "### c) Transformaciones ###"
   ]
  },
  {
   "cell_type": "code",
   "execution_count": null,
   "id": "b172bda8",
   "metadata": {},
   "outputs": [],
   "source": [
    "# 1. Obtener los nombres de las columas como una lista\n",
    "col_name = data_TC.columns.tolist()\n",
    "\n",
    "# 2. Itera sobre la lista de nombres\n",
    "for column in col_name:\n",
    "    print (\"Valores nulos en <{0}>: {1}\".format(column, data_TC[column].isnull().sum()))"
   ]
  },
  {
   "cell_type": "code",
   "execution_count": null,
   "id": "cab0d779",
   "metadata": {
    "scrolled": false
   },
   "outputs": [],
   "source": [
    "Nulos = data_TC.isnull().sum()\n",
    "print(\"Columnas             Cantidad de nulos\")\n",
    "print(Nulos)"
   ]
  },
  {
   "cell_type": "code",
   "execution_count": null,
   "id": "3d706060",
   "metadata": {
    "scrolled": true
   },
   "outputs": [],
   "source": [
    "data_TC.count()"
   ]
  },
  {
   "cell_type": "code",
   "execution_count": null,
   "id": "33297a1b",
   "metadata": {},
   "outputs": [],
   "source": [
    "#esto capaz nos convenga hacerlo en el mapper con sklearn\n",
    "data_notNull = data_TC[data_TC['tiene_producto_credito_activo'].notna()]"
   ]
  },
  {
   "cell_type": "code",
   "execution_count": null,
   "id": "b96a7c42",
   "metadata": {},
   "outputs": [],
   "source": [
    "Nulos = data_notNull.isnull().sum()\n",
    "print(\"Columnas             Cantidad de nulos\")\n",
    "print(Nulos)"
   ]
  },
  {
   "cell_type": "code",
   "execution_count": null,
   "id": "05b4aa55",
   "metadata": {},
   "outputs": [],
   "source": [
    "# Se dividen los datos en train y test\n",
    "# 60% train, 20% test, 20% validation\n",
    "train, not_train = train_test_split(data_notNull, test_size=0.4)\n",
    "validation, test = train_test_split(not_train, test_size=0.5)\n",
    "\n",
    "#Dimención (filas, columnas) de los distintos dataset\n",
    "print (\" Train:\", train.shape, '\\n', 'Validation:', validation.shape, '\\n', 'Test:', test.shape)\n",
    "#print(\"first line\", \"second line\", sep=\"\\n\")`"
   ]
  },
  {
   "cell_type": "code",
   "execution_count": null,
   "id": "bbcdf143",
   "metadata": {},
   "outputs": [],
   "source": [
    "# One Hot Encoder\n",
    "\n",
    "from sklearn.pipeline import Pipeline\n",
    "from sklearn_pandas import DataFrameMapper\n",
    "from sklearn.preprocessing import StandardScaler, OneHotEncoder, LabelBinarizer\n",
    "from sklearn.experimental import enable_iterative_imputer\n",
    "from sklearn.impute import SimpleImputer, IterativeImputer\n",
    "\n",
    "from sklearn.pipeline import Pipeline"
   ]
  },
  {
   "cell_type": "markdown",
   "id": "8dddeeb0",
   "metadata": {},
   "source": [
    "# Primer maper"
   ]
  },
  {
   "cell_type": "code",
   "execution_count": null,
   "id": "06dac3af",
   "metadata": {},
   "outputs": [],
   "source": [
    "mapper = DataFrameMapper([\n",
    "    (['sexo'], [OneHotEncoder()]),\n",
    "    (['codigo_region'], [OneHotEncoder()]),\n",
    "    (['ocupacion'], [OneHotEncoder()]),\n",
    "    (['codigo_canal'], [OneHotEncoder()]),\n",
    "    (['tiene_producto_credito_activo'], [OneHotEncoder()]),\n",
    "    (['es_activo'], [OneHotEncoder()])\n",
    "])\n",
    "\n",
    "# Lo entrenamos con train\n",
    "mapper.fit(train)"
   ]
  },
  {
   "cell_type": "code",
   "execution_count": null,
   "id": "42fa5ce9",
   "metadata": {},
   "outputs": [],
   "source": [
    "# vemos como transforma un sample:\n",
    "sample = train.sample(5, random_state=20) #Semilla 20\n",
    "\n",
    "# Sample original:\n",
    "sample"
   ]
  },
  {
   "cell_type": "code",
   "execution_count": null,
   "id": "db1b7a3a",
   "metadata": {
    "scrolled": true
   },
   "outputs": [],
   "source": [
    "# Sample transformado\n",
    "mapper.transform(sample)"
   ]
  },
  {
   "cell_type": "code",
   "execution_count": null,
   "id": "810e62a2",
   "metadata": {},
   "outputs": [],
   "source": [
    "# Nombres de los faetures\n",
    "mapper.transformed_names_"
   ]
  },
  {
   "cell_type": "code",
   "execution_count": null,
   "id": "eca00535",
   "metadata": {},
   "outputs": [],
   "source": []
  },
  {
   "cell_type": "code",
   "execution_count": null,
   "id": "871539c4",
   "metadata": {},
   "outputs": [],
   "source": []
  },
  {
   "cell_type": "code",
   "execution_count": null,
   "id": "a117198e",
   "metadata": {},
   "outputs": [],
   "source": []
  },
  {
   "cell_type": "code",
   "execution_count": null,
   "id": "cc2a7c75",
   "metadata": {},
   "outputs": [],
   "source": []
  },
  {
   "cell_type": "code",
   "execution_count": null,
   "id": "5ba4fa9d",
   "metadata": {},
   "outputs": [],
   "source": [
    "# Descripción de los datos\n",
    "data_notNull.describe()"
   ]
  },
  {
   "cell_type": "markdown",
   "id": "78bc5e48",
   "metadata": {},
   "source": [
    "### Tipo de cada columna"
   ]
  },
  {
   "cell_type": "code",
   "execution_count": null,
   "id": "e874250d",
   "metadata": {},
   "outputs": [],
   "source": [
    "\n",
    "# Tipo de cada columna\n",
    "# ==============================================================================\n",
    "# En pandas, el tipo \"object\" hace referencia a strings\n",
    "# datos.dtypes\n",
    "data_notNull.info()"
   ]
  },
  {
   "cell_type": "code",
   "execution_count": null,
   "id": "b75ba664",
   "metadata": {},
   "outputs": [],
   "source": [
    "#Primero necesita hacer esto para poder dibujar la matriz de correlaciones\n",
    "corr_matrix = data_notNull.select_dtypes(include=['float64', 'int']).corr(method='pearson')"
   ]
  },
  {
   "cell_type": "code",
   "execution_count": null,
   "id": "1ef1eca8",
   "metadata": {},
   "outputs": [],
   "source": [
    "# Heatmap matriz de correlaciones\n",
    "# ==============================================================================\n",
    "fig, ax = plt.subplots(nrows=1, ncols=1, figsize=(10, 10)) # (8, 8) tamaño de la grilla \n",
    "\n",
    "sns.heatmap(\n",
    "    corr_matrix,\n",
    "    annot     = True,\n",
    "    cbar      = True, # Barra del costado\n",
    "    annot_kws = {\"size\": 20}, # tamaño nro cuadrilla\n",
    "    vmin      = -1,\n",
    "    vmax      = 1,\n",
    "    center    = 0,\n",
    "    cmap      = sns.diverging_palette(20, 220, n=200), # (20, 220, n=200) color de la grilla\n",
    "    square    = False, \n",
    "    ax        = ax\n",
    ")\n",
    "ax.set_xticklabels(\n",
    "    ax.get_xticklabels(),\n",
    "    rotation = 45,\n",
    "    horizontalalignment = 'right',\n",
    ")\n",
    "\n",
    "ax.tick_params(labelsize = 10) # (labelsize = 50) tamaño la leyenda de los ejes"
   ]
  },
  {
   "cell_type": "markdown",
   "id": "2abe1b13",
   "metadata": {},
   "source": [
    "- **Gender:** one-hot encoder\n",
    "\n",
    "\n",
    "\n",
    "- **Age:** rango\n",
    "\n",
    "\n",
    "        \n",
    "- **Region_Code:** one-hot encoder\n",
    "\n",
    "\n",
    "        \n",
    "- **Occupation:** one-hot encoder\n",
    "\n",
    "        \n",
    "        \n",
    "- **Channel_Code:** one-hot encoder\n",
    "\n",
    "\n",
    "        \n",
    "- **Vintage:** rango\n",
    "\n",
    "        \n",
    "        \n",
    "- **Credit_Product:** one-hot encoder y eliminamos los null. (esta desbalanceado)\n",
    "\n",
    "\n",
    "\n",
    "- **Avg_Account_Balance:** escalar y rangos (y ver outliers)\n",
    "\n",
    "      \n",
    "      \n",
    "- **Is_Active:** one-hot encoder"
   ]
  },
  {
   "cell_type": "code",
   "execution_count": null,
   "id": "1eb8bd85",
   "metadata": {},
   "outputs": [],
   "source": []
  },
  {
   "cell_type": "code",
   "execution_count": null,
   "id": "3f589aab",
   "metadata": {},
   "outputs": [],
   "source": []
  }
 ],
 "metadata": {
  "kernelspec": {
   "display_name": "Python 3 (ipykernel)",
   "language": "python",
   "name": "python3"
  },
  "language_info": {
   "codemirror_mode": {
    "name": "ipython",
    "version": 3
   },
   "file_extension": ".py",
   "mimetype": "text/x-python",
   "name": "python",
   "nbconvert_exporter": "python",
   "pygments_lexer": "ipython3",
   "version": "3.10.4"
  }
 },
 "nbformat": 4,
 "nbformat_minor": 5
}
