{
 "cells": [
  {
   "cell_type": "markdown",
   "id": "b63a40c4",
   "metadata": {},
   "source": [
    "<h1><center>Trabajo Práctico 3: </center></h1>"
   ]
  },
  {
   "cell_type": "markdown",
   "id": "7d49fdde",
   "metadata": {},
   "source": [
    "## 1. Métrica ##"
   ]
  },
  {
   "cell_type": "markdown",
   "id": "f53e2012",
   "metadata": {},
   "source": [
    "La métrica que vamo a utilizar es **Precision**"
   ]
  },
  {
   "cell_type": "markdown",
   "id": "342e06fb",
   "metadata": {},
   "source": [
    "## Librerías ##\n"
   ]
  },
  {
   "cell_type": "code",
   "execution_count": null,
   "id": "aa82398e",
   "metadata": {
    "ExecuteTime": {
     "end_time": "2022-05-16T21:08:10.546456Z",
     "start_time": "2022-05-16T21:07:23.290846Z"
    }
   },
   "outputs": [],
   "source": [
    "%matplotlib inline\n",
    "import warnings\n",
    "import numpy as np\n",
    "import pandas as pd \n",
    "import matplotlib\n",
    "import keras\n",
    "import h5py\n",
    "import PIL\n",
    "import seaborn as sns\n",
    "import sklearn\n",
    "import pytz\n",
    "import plotly.graph_objects as go\n",
    "\n",
    "from matplotlib import pyplot as plt\n",
    "\n",
    "from sklearn.metrics import accuracy_score, precision_score, recall_score, confusion_matrix\n",
    "from sklearn.model_selection import train_test_split\n",
    "\n",
    "from sklearn.pipeline import Pipeline\n",
    "from sklearn_pandas import DataFrameMapper\n",
    "from sklearn.preprocessing import StandardScaler, OneHotEncoder, LabelBinarizer, QuantileTransformer, MinMaxScaler\n",
    "from sklearn.experimental import enable_iterative_imputer\n",
    "from sklearn.impute import SimpleImputer, IterativeImputer, KNNImputer\n",
    "from sklearn.pipeline import Pipeline\n",
    "from sklearn import datasets\n",
    "import plotly.express as px \n",
    "\n",
    "from sklearn import metrics\n",
    "from collections import defaultdict\n",
    "\n",
    "from sklearn.ensemble import GradientBoostingClassifier, RandomForestClassifier\n",
    "from sklearn.linear_model import LogisticRegression\n",
    "from sklearn.tree import DecisionTreeClassifier\n",
    "\n",
    "plt.rcParams.update({\n",
    "    \"font.family\": [\"serif\"],\n",
    "    \"font.sans-serif\": [\"Roboto\"],\n",
    "    \"font.size\": 9,\n",
    "    \"axes.labelsize\": 11,\n",
    "    \"axes.titlesize\": 13,\n",
    "    \"xtick.labelsize\": 11,\n",
    "    \"ytick.labelsize\": 11,\n",
    "    \"legend.fontsize\": 11,\n",
    "    'figure.figsize': (15.0, 4.0),\n",
    "    'axes.grid': False,\n",
    "    'axes.spines.left': True,\n",
    "    'axes.spines.right': True,\n",
    "    'axes.spines.top': True,\n",
    "    'axes.spines.bottom': True,\n",
    "})\n",
    "\n",
    "np.set_printoptions(suppress=True)\n",
    "warnings.filterwarnings('ignore')"
   ]
  },
  {
   "cell_type": "markdown",
   "id": "e2d54b17",
   "metadata": {},
   "source": [
    "## Train ##\n"
   ]
  },
  {
   "cell_type": "code",
   "execution_count": null,
   "id": "9abe110d",
   "metadata": {
    "ExecuteTime": {
     "end_time": "2022-05-16T21:08:11.143807Z",
     "start_time": "2022-05-16T21:08:10.548091Z"
    }
   },
   "outputs": [],
   "source": [
    "data_TC = pd.read_csv('train.csv')\n",
    "\n",
    "BETTER_COLUMN_NAMES = {\n",
    "    'ID': 'id',\n",
    "    'Gender': 'sexo',\n",
    "    'Age': 'edad',\n",
    "    'Region_Code': 'codigo_region',\n",
    "    'Occupation': 'ocupacion',\n",
    "    'Channel_Code': 'codigo_canal',\n",
    "    'Vintage': 'antiguedad',\n",
    "    'Credit_Product': 'tiene_producto_credito_activo',\n",
    "    'Avg_Account_Balance': 'saldo_promedio_cuenta',\n",
    "    'Is_Active': 'es_activo',\n",
    "    'Is_Lead': 'esta_interesado',\n",
    "}\n",
    "data_TC.rename(columns=BETTER_COLUMN_NAMES, inplace=True)\n",
    "\n",
    "data_TC.set_index('id', inplace=True)\n",
    "\n",
    "DATA_MODIFICADA = data_TC.copy(deep=True)"
   ]
  },
  {
   "cell_type": "code",
   "execution_count": null,
   "id": "3f5c0a5c",
   "metadata": {
    "ExecuteTime": {
     "end_time": "2022-05-16T21:08:11.190797Z",
     "start_time": "2022-05-16T21:08:11.145515Z"
    }
   },
   "outputs": [],
   "source": [
    "DATA_ORIGINAL = data_TC.copy(deep=True)"
   ]
  },
  {
   "cell_type": "markdown",
   "id": "583492c6",
   "metadata": {},
   "source": [
    "## 2. Técnica feature engineering ##"
   ]
  },
  {
   "cell_type": "markdown",
   "id": "90879912",
   "metadata": {},
   "source": [
    "## Preparación Datos ##\n"
   ]
  }
 ],
 "metadata": {
  "kernelspec": {
   "display_name": "Python 3 (ipykernel)",
   "language": "python",
   "name": "python3"
  },
  "language_info": {
   "codemirror_mode": {
    "name": "ipython",
    "version": 3
   },
   "file_extension": ".py",
   "mimetype": "text/x-python",
   "name": "python",
   "nbconvert_exporter": "python",
   "pygments_lexer": "ipython3",
   "version": "3.9.12"
  },
  "toc": {
   "base_numbering": 1,
   "nav_menu": {},
   "number_sections": false,
   "sideBar": true,
   "skip_h1_title": false,
   "title_cell": "Table of Contents",
   "title_sidebar": "Contents",
   "toc_cell": false,
   "toc_position": {},
   "toc_section_display": true,
   "toc_window_display": false
  }
 },
 "nbformat": 4,
 "nbformat_minor": 5
}
