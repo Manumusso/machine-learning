{
 "cells": [
  {
   "cell_type": "markdown",
   "id": "b63a40c4",
   "metadata": {},
   "source": [
    "<h1><center> Trabajo Práctico 3: Fashion detector </center></h1>"
   ]
  },
  {
   "cell_type": "code",
   "execution_count": null,
   "id": "c2f07e93",
   "metadata": {
    "ExecuteTime": {
     "end_time": "2022-05-25T04:59:53.107775Z",
     "start_time": "2022-05-25T04:59:27.795288Z"
    }
   },
   "outputs": [],
   "source": [
    "\n",
    "# lib para trabajar con arrays\n",
    "import numpy as np\n",
    "# lib para trabajar con dataframe\n",
    "import pandas as pd \n",
    "\n",
    "# lib que usamos para mostrar las imágenes\n",
    "import matplotlib.pyplot as plt\n",
    "\n",
    "# libs que usamos para construir y entrenar redes neuronales, y que además tiene utilidades para leer sets de \n",
    "# imágenes\n",
    "from tensorflow.keras.models import Sequential\n",
    "from tensorflow.keras.layers import Dense, Input, Dropout, Convolution2D, MaxPooling2D, Flatten\n",
    "from tensorflow.keras.preprocessing.image import load_img, img_to_array, ImageDataGenerator\n",
    "\n",
    "# libs que usamos para tareas generales de machine learning. En este caso, métricas\n",
    "from sklearn.metrics import accuracy_score, confusion_matrix\n",
    "\n",
    "# configuración para que las imágenes se vean dentro del notebook\n",
    "%matplotlib inline\n",
    "import tensorflow as tf\n",
    "from tensorflow import keras\n",
    "# graficar\n",
    "import plotly.express as px\n"
   ]
  },
  {
   "cell_type": "code",
   "execution_count": null,
   "id": "86461a0f",
   "metadata": {
    "ExecuteTime": {
     "end_time": "2022-05-25T04:59:53.504134Z",
     "start_time": "2022-05-25T04:59:53.110443Z"
    }
   },
   "outputs": [],
   "source": [
    "fashion_mnist = keras.datasets.fashion_mnist\n",
    "# esto es para que los calores de los modelos den siempre igual\n",
    "np.random.seed(2)\n",
    "tf.random.set_seed(2)\n",
    "\n",
    "(x_train, x_lab), (y_validation, y_lab) = fashion_mnist.load_data()"
   ]
  },
  {
   "cell_type": "code",
   "execution_count": null,
   "id": "51353826",
   "metadata": {
    "ExecuteTime": {
     "end_time": "2022-05-25T04:59:53.520101Z",
     "start_time": "2022-05-25T04:59:53.505851Z"
    }
   },
   "outputs": [],
   "source": [
    "# PResentación → 1."
   ]
  },
  {
   "cell_type": "markdown",
   "id": "09d37482",
   "metadata": {},
   "source": [
    "Clases:\n",
    "\n",
    "| Label | Clase |\n",
    "| -- | --- |\n",
    "| 0 | T-shirt/top |\n",
    "| 1 | Trouser |\n",
    "| 2 | Pullover|\n",
    "| 3 | Dress |\n",
    "| 4 | Coat |\n",
    "| 5 | Sandal |\n",
    "| 6 | Shirt |\n",
    "| 7 | Sneaker |\n",
    "| 8 | Bag |\n",
    "| 9 | Ankle boot |\n"
   ]
  },
  {
   "cell_type": "code",
   "execution_count": null,
   "id": "7d235b68",
   "metadata": {
    "ExecuteTime": {
     "end_time": "2022-05-25T04:59:53.536110Z",
     "start_time": "2022-05-25T04:59:53.521817Z"
    }
   },
   "outputs": [],
   "source": [
    "clases = \"camiseta/top\",\"Pantalón\",\"Pulover\",\"Vestido\",\"Saco\",\"Sandalia\",\"Camisa\",\"Zapatilla\",\"Bolso\",\"Botas\"\n"
   ]
  },
  {
   "cell_type": "code",
   "execution_count": null,
   "id": "51111d1b",
   "metadata": {
    "ExecuteTime": {
     "end_time": "2022-05-25T05:14:13.921696Z",
     "start_time": "2022-05-25T05:14:13.908833Z"
    }
   },
   "outputs": [],
   "source": [
    "# Create a dictionary for each type of label \n",
    "d_clases_labels = {0 : \"camiseta/top\", 1: \"Pantalón\", 2: \"Pulover\", 3: \"Vestido\", 4: \"Saco\",\n",
    "          5: \"Sandalia\", 6: \"Camisa\", 7: \"Zapatilla\", 8: \"Bolso\", 9: \"Botas\"}"
   ]
  },
  {
   "cell_type": "code",
   "execution_count": null,
   "id": "a82947e8",
   "metadata": {
    "ExecuteTime": {
     "end_time": "2022-05-25T04:59:53.551399Z",
     "start_time": "2022-05-25T04:59:53.537815Z"
    }
   },
   "outputs": [],
   "source": [
    "# Presentación → 1.1 Volumetría de los datos\n",
    "#Exploración de datos:\n",
    "x_train.shape\n",
    "#Tiene 60000 imagenes de 28x28 pixeles."
   ]
  },
  {
   "cell_type": "code",
   "execution_count": null,
   "id": "83bd0e95",
   "metadata": {
    "ExecuteTime": {
     "end_time": "2022-05-25T04:59:53.566699Z",
     "start_time": "2022-05-25T04:59:53.553068Z"
    }
   },
   "outputs": [],
   "source": [
    "#Contiene etiquetas del 0 al 9.\n",
    "x_lab"
   ]
  },
  {
   "cell_type": "code",
   "execution_count": null,
   "id": "67632086",
   "metadata": {
    "ExecuteTime": {
     "end_time": "2022-05-25T04:59:53.582151Z",
     "start_time": "2022-05-25T04:59:53.568650Z"
    }
   },
   "outputs": [],
   "source": [
    "# Presentación → 1.1 Volumetría de los datos\n",
    "y_validation.shape\n",
    "#TIene 10000 imagenes."
   ]
  },
  {
   "cell_type": "code",
   "execution_count": null,
   "id": "06100d3e",
   "metadata": {
    "ExecuteTime": {
     "end_time": "2022-05-25T04:59:54.344412Z",
     "start_time": "2022-05-25T04:59:53.583156Z"
    }
   },
   "outputs": [],
   "source": [
    "#Los valores de la imagen se encuentran entre 0 y 255, por lo cual es necesario normalizar.\n",
    "x_train_m = keras.utils.normalize(x_train, axis = 1)\n"
   ]
  },
  {
   "cell_type": "code",
   "execution_count": null,
   "id": "3c6cc7fc",
   "metadata": {
    "ExecuteTime": {
     "end_time": "2022-05-25T04:59:54.360388Z",
     "start_time": "2022-05-25T04:59:54.346155Z"
    }
   },
   "outputs": [],
   "source": [
    "def sample_images(images,lab):\n",
    "    plt.figure(figsize = (10,10))\n",
    "    \n",
    "    for i in range(25):\n",
    "        plt.subplot(5,5,i+1)\n",
    "        plt.xticks([])\n",
    "        plt.yticks([])\n",
    "        plt.grid(\"off\")\n",
    "        plt.imshow(images[i])\n",
    "        plt.xlabel(clases[lab[i]])\n",
    "        "
   ]
  },
  {
   "cell_type": "code",
   "execution_count": null,
   "id": "855bfbec",
   "metadata": {
    "ExecuteTime": {
     "end_time": "2022-05-25T04:59:55.395424Z",
     "start_time": "2022-05-25T04:59:54.363157Z"
    }
   },
   "outputs": [],
   "source": [
    "#Presentación → 1.\n",
    "#Train sin normalizar\n",
    "sample_images(x_train,x_lab)"
   ]
  },
  {
   "cell_type": "code",
   "execution_count": null,
   "id": "aa17f5cc",
   "metadata": {
    "ExecuteTime": {
     "end_time": "2022-05-25T04:59:56.138840Z",
     "start_time": "2022-05-25T04:59:55.396454Z"
    }
   },
   "outputs": [],
   "source": [
    "#Train normalizado.:\n",
    "sample_images(x_train_m,x_lab)"
   ]
  },
  {
   "cell_type": "code",
   "execution_count": null,
   "id": "f65c14e5",
   "metadata": {
    "ExecuteTime": {
     "end_time": "2022-05-25T04:59:56.932421Z",
     "start_time": "2022-05-25T04:59:56.140784Z"
    }
   },
   "outputs": [],
   "source": [
    "#Validation sin normalizar\n",
    "sample_images(y_validation,y_lab)"
   ]
  },
  {
   "cell_type": "code",
   "execution_count": null,
   "id": "975c6f23",
   "metadata": {
    "ExecuteTime": {
     "end_time": "2022-05-25T04:59:56.947423Z",
     "start_time": "2022-05-25T04:59:56.935131Z"
    }
   },
   "outputs": [],
   "source": [
    "# Presentación → 1.3 Distribución de la variable a predecir"
   ]
  },
  {
   "cell_type": "code",
   "execution_count": null,
   "id": "d8321acb",
   "metadata": {
    "ExecuteTime": {
     "end_time": "2022-05-25T04:59:56.963179Z",
     "start_time": "2022-05-25T04:59:56.949129Z"
    }
   },
   "outputs": [],
   "source": [
    "x_lab.shape"
   ]
  },
  {
   "cell_type": "code",
   "execution_count": null,
   "id": "727726f4",
   "metadata": {
    "ExecuteTime": {
     "end_time": "2022-05-25T04:59:56.978597Z",
     "start_time": "2022-05-25T04:59:56.965135Z"
    }
   },
   "outputs": [],
   "source": [
    "#train_data = pd.DataFrame(x_train, x_lab)"
   ]
  },
  {
   "cell_type": "code",
   "execution_count": null,
   "id": "375115d4",
   "metadata": {
    "ExecuteTime": {
     "end_time": "2022-05-25T04:59:56.994168Z",
     "start_time": "2022-05-25T04:59:56.980590Z"
    }
   },
   "outputs": [],
   "source": [
    "# import matplotlib.pyplot as plt\n",
    "# plt.plot(df, linewidth=2, markersize=12)"
   ]
  },
  {
   "cell_type": "code",
   "execution_count": null,
   "id": "f59d4999",
   "metadata": {
    "ExecuteTime": {
     "end_time": "2022-05-25T04:59:57.009870Z",
     "start_time": "2022-05-25T04:59:56.996175Z"
    }
   },
   "outputs": [],
   "source": [
    "df_train = pd.DataFrame(x_lab).rename(columns={0:'x_lab'})"
   ]
  },
  {
   "cell_type": "code",
   "execution_count": null,
   "id": "7da011e6",
   "metadata": {
    "ExecuteTime": {
     "end_time": "2022-05-25T04:59:57.025223Z",
     "start_time": "2022-05-25T04:59:57.011599Z"
    }
   },
   "outputs": [],
   "source": []
  },
  {
   "cell_type": "code",
   "execution_count": null,
   "id": "438744c9",
   "metadata": {
    "ExecuteTime": {
     "end_time": "2022-05-25T04:59:57.072373Z",
     "start_time": "2022-05-25T04:59:57.026676Z"
    }
   },
   "outputs": [],
   "source": [
    "df_train"
   ]
  },
  {
   "cell_type": "code",
   "execution_count": null,
   "id": "abff84ae",
   "metadata": {
    "ExecuteTime": {
     "end_time": "2022-05-25T04:40:54.062636Z",
     "start_time": "2022-05-25T04:40:54.049588Z"
    }
   },
   "outputs": [],
   "source": [
    "# import seaborn as sns\n",
    "\n",
    "# def plot_label_per_class(data):\n",
    "#     f, ax = plt.subplots(1,1, figsize=(12,4))\n",
    "#     g = sns.countplot(data[1], order = data[\"x_lab\"].value_counts().index)\n",
    "#     g.set_title(\"Number of labels for each class\")\n",
    "\n",
    "#     for p, label in zip(g.patches, data[1].value_counts().index):\n",
    "#         g.annotate(labels[label], (p.get_x(), p.get_height()+0.1))\n",
    "#     plt.show()\n",
    "\n",
    "# plot_label_per_class(train_data)"
   ]
  },
  {
   "cell_type": "code",
   "execution_count": null,
   "id": "168288b5",
   "metadata": {
    "ExecuteTime": {
     "end_time": "2022-05-25T05:18:40.055891Z",
     "start_time": "2022-05-25T05:18:39.805606Z"
    }
   },
   "outputs": [],
   "source": [
    "# Presentación → 1.3 Distribución de la variable a predecir\n",
    "df = px.data.tips()\n",
    "fig = px.histogram(df_train, x=\"x_lab\", color=\"x_lab\")\n",
    "fig.update_layout(bargap=0.2)\n",
    "fig.show()"
   ]
  },
  {
   "cell_type": "code",
   "execution_count": null,
   "id": "2d758234",
   "metadata": {
    "ExecuteTime": {
     "end_time": "2022-05-25T05:09:19.930068Z",
     "start_time": "2022-05-25T05:09:19.903022Z"
    }
   },
   "outputs": [],
   "source": [
    "df_validation = pd.DataFrame(y_lab).rename(columns={0:'y_lab'})\n",
    "df_validation"
   ]
  },
  {
   "cell_type": "code",
   "execution_count": null,
   "id": "e9b7061b",
   "metadata": {
    "ExecuteTime": {
     "end_time": "2022-05-25T05:14:59.015240Z",
     "start_time": "2022-05-25T05:14:58.905189Z"
    }
   },
   "outputs": [],
   "source": [
    "# Presentación → 1.3 Distribución de la variable a predecir\n",
    "df = px.data.tips()\n",
    "fig = px.histogram(df_validation, x=y_lab\"y_lab\", color=\"y_lab\")\n",
    "fig.update_layout(bargap=0.2)\n",
    "fig.show()"
   ]
  },
  {
   "cell_type": "markdown",
   "id": "80aaf6e8",
   "metadata": {},
   "source": [
    "<h3><center>primer modelo</center></h3>"
   ]
  },
  {
   "cell_type": "code",
   "execution_count": null,
   "id": "0cd29cbe",
   "metadata": {
    "ExecuteTime": {
     "end_time": "2022-05-25T04:42:18.903295Z",
     "start_time": "2022-05-25T04:40:54.079615Z"
    }
   },
   "outputs": [],
   "source": [
    "#Definiendo modelo\n",
    "model = Sequential()\n",
    "model.add(Flatten(input_shape=((28,28))))\n",
    "#Capa oculta con 200 neuronas\n",
    "model.add(Dense(200, activation =\"relu\"))\n",
    "model.add(Dense(10, activation =\"softmax\"))\n",
    "\n",
    "#compilar el modelo\n",
    "model.compile(optimizer = \"adam\", loss = \"sparse_categorical_crossentropy\",metrics = [\"accuracy\"])\n",
    "model.fit(x_train,x_lab,epochs = 20)\n"
   ]
  },
  {
   "cell_type": "code",
   "execution_count": null,
   "id": "fee16e44",
   "metadata": {
    "ExecuteTime": {
     "end_time": "2022-05-25T04:42:19.718371Z",
     "start_time": "2022-05-25T04:42:18.906293Z"
    }
   },
   "outputs": [],
   "source": [
    "model.evaluate(y_validation,y_lab)"
   ]
  },
  {
   "cell_type": "code",
   "execution_count": null,
   "id": "b0ba062f",
   "metadata": {
    "ExecuteTime": {
     "end_time": "2022-05-25T04:42:19.964782Z",
     "start_time": "2022-05-25T04:42:19.720052Z"
    }
   },
   "outputs": [],
   "source": [
    "p = model.predict(y_validation[:10])\n",
    "print(p)"
   ]
  },
  {
   "cell_type": "code",
   "execution_count": null,
   "id": "4ae2647d",
   "metadata": {
    "ExecuteTime": {
     "end_time": "2022-05-25T04:42:19.996793Z",
     "start_time": "2022-05-25T04:42:19.966783Z"
    }
   },
   "outputs": [],
   "source": [
    "pred = np.argmax(p, axis=1)\n",
    "print(pred)\n",
    "print(y_lab[:10])"
   ]
  },
  {
   "cell_type": "code",
   "execution_count": null,
   "id": "2ac127d7",
   "metadata": {
    "ExecuteTime": {
     "end_time": "2022-05-25T04:42:20.683781Z",
     "start_time": "2022-05-25T04:42:19.999779Z"
    }
   },
   "outputs": [],
   "source": [
    "for i in range(10):\n",
    "    plt.imshow(y_validation[i], cmap=\"binary\")\n",
    "    plt.title(\"Original: {}, Predicted: {}\".format(y_lab[i],pred[i]))\n",
    "    plt.axis(\"Off\")\n",
    "    plt.figure()"
   ]
  },
  {
   "cell_type": "markdown",
   "id": "afec9bed",
   "metadata": {},
   "source": [
    "<h3><center>red convolucional</center></h3>"
   ]
  },
  {
   "cell_type": "code",
   "execution_count": null,
   "id": "097c9c31",
   "metadata": {
    "ExecuteTime": {
     "end_time": "2022-05-25T04:42:20.809746Z",
     "start_time": "2022-05-25T04:42:20.686790Z"
    }
   },
   "outputs": [],
   "source": [
    "model_rc = Sequential([\n",
    "    # el shape de los inputs es alto_imagen * ancho_imagen * cantidad_colores\n",
    "    Convolution2D(input_shape=(28, 28, 1), filters=10, kernel_size=(3, 3), strides=1, activation='relu', padding='same'),\n",
    "    \n",
    "    # kernels de 4x4x3, y salida de 61x61x8\n",
    "    Dropout(0.2),\n",
    "\n",
    "    Convolution2D(filters=8, kernel_size=(3, 3), strides=1, activation='relu'),\n",
    "    # kernels de 4x4x8, y salida de 58x58x8\n",
    "    Dropout(0.2),\n",
    "    \n",
    "    MaxPooling2D(pool_size=(2, 2)),\n",
    "    # salida de 14x14x8\n",
    "    \n",
    "    Flatten(),\n",
    "    # salida de 1568\n",
    "    \n",
    "    Dense(10, activation='tanh'),\n",
    "    # salida de 10\n",
    "    Dropout(0.2),\n",
    "\n",
    "    Dense(10, activation='tanh'),\n",
    "    # salida de 10\n",
    "    Dropout(0.2),\n",
    "\n",
    "    Dense(10, activation='softmax'),\n",
    "    # salida de 10\n",
    "])\n",
    "  \n",
    "model_rc.compile(\n",
    "    optimizer='adam',\n",
    "    loss='sparse_categorical_crossentropy', #categorical_crossentropy',\n",
    "    metrics=['accuracy', ], #'mse', 'acc'\n",
    ")"
   ]
  },
  {
   "cell_type": "code",
   "execution_count": null,
   "id": "250d968f",
   "metadata": {
    "ExecuteTime": {
     "end_time": "2022-05-25T04:42:20.857074Z",
     "start_time": "2022-05-25T04:42:20.811709Z"
    }
   },
   "outputs": [],
   "source": [
    "model_rc.summary()"
   ]
  },
  {
   "cell_type": "code",
   "execution_count": null,
   "id": "53b974ad",
   "metadata": {
    "ExecuteTime": {
     "end_time": "2022-05-25T04:42:20.872692Z",
     "start_time": "2022-05-25T04:42:20.859754Z"
    }
   },
   "outputs": [],
   "source": [
    "#como esta compuesto un elemento del train\n",
    "x_train_m[0]"
   ]
  },
  {
   "cell_type": "code",
   "execution_count": null,
   "id": "06903eb5",
   "metadata": {
    "ExecuteTime": {
     "end_time": "2022-05-25T04:42:20.888743Z",
     "start_time": "2022-05-25T04:42:20.875695Z"
    }
   },
   "outputs": [],
   "source": [
    "#como esta compuesto un elemento del lab\n",
    "x_lab[0]"
   ]
  },
  {
   "cell_type": "code",
   "execution_count": null,
   "id": "5e91ab0d",
   "metadata": {
    "ExecuteTime": {
     "end_time": "2022-05-25T04:42:20.904393Z",
     "start_time": "2022-05-25T04:42:20.892803Z"
    }
   },
   "outputs": [],
   "source": [
    "# esto es para que los calores de los modelos den siempre igual\n",
    "np.random.seed(3)\n",
    "tf.random.set_seed(3)"
   ]
  },
  {
   "cell_type": "code",
   "execution_count": null,
   "id": "3a3881d7",
   "metadata": {
    "ExecuteTime": {
     "end_time": "2022-05-25T04:42:20.919096Z",
     "start_time": "2022-05-25T04:42:20.906392Z"
    }
   },
   "outputs": [],
   "source": [
    "#https://programmerclick.com/article/19151150055/\n",
    "#Para convertir los datos en la memoria en Dataset\n",
    "#train_dataset = tf.data.Dataset.from_tensors((x_train_m,x_lab))\n",
    "train_dataset = tf.data.Dataset.from_tensor_slices((x_train_m,x_lab)).batch(64)"
   ]
  },
  {
   "cell_type": "code",
   "execution_count": null,
   "id": "396b558b",
   "metadata": {
    "ExecuteTime": {
     "end_time": "2022-05-25T04:42:20.935213Z",
     "start_time": "2022-05-25T04:42:20.919865Z"
    }
   },
   "outputs": [],
   "source": [
    "#Para convertir los datos en la memoria en Dataset\n",
    "#test_dataset = tf.data.Dataset.from_tensors((y_validation,y_lab))\n",
    "test_dataset = tf.data.Dataset.from_tensor_slices((y_validation, y_lab)).batch(64)\n"
   ]
  },
  {
   "cell_type": "code",
   "execution_count": null,
   "id": "3c572ca2",
   "metadata": {
    "ExecuteTime": {
     "end_time": "2022-05-25T04:48:31.400033Z",
     "start_time": "2022-05-25T04:42:20.936867Z"
    }
   },
   "outputs": [],
   "source": [
    "# anda \n",
    "history_rc = model_rc.fit(\n",
    "    train_dataset,\n",
    "    epochs=10,\n",
    "    batch_size=50,\n",
    "    validation_data=test_dataset,\n",
    ")"
   ]
  },
  {
   "cell_type": "code",
   "execution_count": null,
   "id": "7f896735",
   "metadata": {
    "ExecuteTime": {
     "end_time": "2022-05-25T04:48:31.432029Z",
     "start_time": "2022-05-25T04:48:31.410027Z"
    }
   },
   "outputs": [],
   "source": [
    "# no hace falta hacerlo\n",
    "#model_rc.evaluate(test_dataset)"
   ]
  },
  {
   "cell_type": "markdown",
   "id": "77327d05",
   "metadata": {},
   "source": [
    "### Graficamos accuracy de ambos conjuntos durante todo el proceso"
   ]
  },
  {
   "cell_type": "code",
   "execution_count": null,
   "id": "58887a47",
   "metadata": {
    "ExecuteTime": {
     "end_time": "2022-05-25T04:48:31.479023Z",
     "start_time": "2022-05-25T04:48:31.444034Z"
    },
    "scrolled": true
   },
   "outputs": [],
   "source": [
    "# función para plotear los resultados \n",
    "def plt_history(history_fit):\n",
    "    plt.plot(history_fit.history['accuracy'], label='train')\n",
    "    plt.plot(history_fit.history['val_accuracy'], label='validation')\n",
    "    plt.title('Accuracy sobre las épocas de train')\n",
    "    plt.ylabel('Accuracy')\n",
    "    plt.xlabel('épocas')\n",
    "    plt.legend(loc='upper left')\n",
    "    plt.show()"
   ]
  },
  {
   "cell_type": "code",
   "execution_count": null,
   "id": "9c9d39b6",
   "metadata": {
    "ExecuteTime": {
     "end_time": "2022-05-25T04:48:33.766045Z",
     "start_time": "2022-05-25T04:48:31.486034Z"
    }
   },
   "outputs": [],
   "source": [
    "plt_history(history_rc)"
   ]
  },
  {
   "cell_type": "code",
   "execution_count": null,
   "id": "ae6af060",
   "metadata": {
    "ExecuteTime": {
     "end_time": "2022-05-25T04:48:33.782045Z",
     "start_time": "2022-05-25T04:48:33.769052Z"
    }
   },
   "outputs": [],
   "source": [
    "# anda \n",
    "#history_rc_2 = model_rc.fit(\n",
    "#    train_dataset,\n",
    "#    epochs=20,\n",
    "    #batch_size=50\n",
    "    #validation_data=test_dataset,\n",
    "#)"
   ]
  },
  {
   "cell_type": "code",
   "execution_count": null,
   "id": "768447fd",
   "metadata": {
    "ExecuteTime": {
     "end_time": "2022-05-25T04:48:33.798104Z",
     "start_time": "2022-05-25T04:48:33.786044Z"
    }
   },
   "outputs": [],
   "source": [
    "#este esta mal\n",
    "#model_rc.evaluate(test_dataset)"
   ]
  },
  {
   "cell_type": "code",
   "execution_count": null,
   "id": "a029d4b5",
   "metadata": {
    "ExecuteTime": {
     "end_time": "2022-05-25T04:48:33.814083Z",
     "start_time": "2022-05-25T04:48:33.800051Z"
    }
   },
   "outputs": [],
   "source": [
    "# plt.plot(history_rc_2.history['accuracy'], label='train')\n",
    "# plt.plot(history_rc_2.history['val_accuracy'], label='validation')\n",
    "# plt.title('Accuracy sobre las épocas de train')\n",
    "# plt.ylabel('Accuracy')\n",
    "# plt.xlabel('épocas')\n",
    "# plt.legend(loc='upper left')\n",
    "# plt.show()"
   ]
  },
  {
   "cell_type": "markdown",
   "id": "4feee8ef",
   "metadata": {},
   "source": [
    "### Otra red convolucional que no para ver que no sobreentrene"
   ]
  },
  {
   "cell_type": "code",
   "execution_count": null,
   "id": "07cb074f",
   "metadata": {
    "ExecuteTime": {
     "end_time": "2022-05-25T04:48:33.923093Z",
     "start_time": "2022-05-25T04:48:33.819042Z"
    }
   },
   "outputs": [],
   "source": [
    "model_rc_2 = Sequential([\n",
    "    # el shape de los inputs es alto_imagen * ancho_imagen * cantidad_colores\n",
    "    Convolution2D(input_shape=(28, 28, 1), filters=7, kernel_size=(3, 3), strides=1, activation='relu', padding='same'),\n",
    "    \n",
    "    # kernels de 4x4x3, y salida de 61x61x8\n",
    "    Dropout(0.2),\n",
    "\n",
    "    Convolution2D(filters=6, kernel_size=(3, 3), strides=1, activation='relu'),\n",
    "    # kernels de 4x4x8, y salida de 58x58x8\n",
    "    Dropout(0.2),\n",
    "    \n",
    "    MaxPooling2D(pool_size=(2, 2)),\n",
    "    # salida de 14x14x8\n",
    "    \n",
    "    Flatten(),\n",
    "    # salida de \n",
    "    \n",
    "    Dense(8, activation='tanh'),\n",
    "    # salida de 8\n",
    "    Dropout(0.2),\n",
    "\n",
    "    Dense(8, activation='tanh'),\n",
    "    # salida de 8\n",
    "    Dropout(0.2),\n",
    "\n",
    "    Dense(10, activation='softmax'),\n",
    "    # salida de 10\n",
    "])\n",
    "  \n",
    "model_rc_2.compile(\n",
    "    optimizer='adam',\n",
    "    loss='sparse_categorical_crossentropy', #categorical_crossentropy',\n",
    "    metrics=['accuracy', ], #'mse', 'acc'\n",
    ")"
   ]
  },
  {
   "cell_type": "code",
   "execution_count": null,
   "id": "5171d405",
   "metadata": {
    "ExecuteTime": {
     "end_time": "2022-05-25T04:48:33.970082Z",
     "start_time": "2022-05-25T04:48:33.927050Z"
    }
   },
   "outputs": [],
   "source": [
    "model_rc_2.summary()"
   ]
  },
  {
   "cell_type": "code",
   "execution_count": null,
   "id": "0ae04fac",
   "metadata": {
    "ExecuteTime": {
     "end_time": "2022-05-25T04:48:33.986094Z",
     "start_time": "2022-05-25T04:48:33.971046Z"
    }
   },
   "outputs": [],
   "source": [
    "# esto es para que los calores de los modelos den siempre igual\n",
    "np.random.seed(6)\n",
    "tf.random.set_seed(6)"
   ]
  },
  {
   "cell_type": "code",
   "execution_count": null,
   "id": "8ab5e152",
   "metadata": {
    "ExecuteTime": {
     "end_time": "2022-05-25T04:53:22.265109Z",
     "start_time": "2022-05-25T04:48:33.988043Z"
    }
   },
   "outputs": [],
   "source": [
    "history_rc_2 = model_rc_2.fit(\n",
    "    train_dataset,\n",
    "    epochs=10,\n",
    "    batch_size=50,\n",
    "    validation_data=test_dataset,\n",
    ")"
   ]
  },
  {
   "cell_type": "code",
   "execution_count": null,
   "id": "93f171ec",
   "metadata": {
    "ExecuteTime": {
     "end_time": "2022-05-25T04:53:22.422635Z",
     "start_time": "2022-05-25T04:53:22.267105Z"
    }
   },
   "outputs": [],
   "source": [
    "plt_history(history_rc_2)"
   ]
  }
 ],
 "metadata": {
  "kernelspec": {
   "display_name": "Python 3 (ipykernel)",
   "language": "python",
   "name": "python3"
  },
  "language_info": {
   "codemirror_mode": {
    "name": "ipython",
    "version": 3
   },
   "file_extension": ".py",
   "mimetype": "text/x-python",
   "name": "python",
   "nbconvert_exporter": "python",
   "pygments_lexer": "ipython3",
   "version": "3.9.13"
  },
  "toc": {
   "base_numbering": 1,
   "nav_menu": {},
   "number_sections": false,
   "sideBar": true,
   "skip_h1_title": false,
   "title_cell": "Table of Contents",
   "title_sidebar": "Contents",
   "toc_cell": false,
   "toc_position": {},
   "toc_section_display": true,
   "toc_window_display": false
  }
 },
 "nbformat": 4,
 "nbformat_minor": 5
}
