{
 "cells": [
  {
   "cell_type": "markdown",
   "id": "b63a40c4",
   "metadata": {},
   "source": [
    "<h1><center> Trabajo Práctico 3: Fashion detector </center></h1>"
   ]
  },
  {
   "cell_type": "code",
   "execution_count": null,
   "id": "c2f07e93",
   "metadata": {
    "ExecuteTime": {
     "end_time": "2022-05-27T22:58:25.834070Z",
     "start_time": "2022-05-27T22:57:56.377955Z"
    }
   },
   "outputs": [],
   "source": [
    "\n",
    "# lib para trabajar con arrays\n",
    "import numpy as np\n",
    "# lib para trabajar con dataframe\n",
    "import pandas as pd \n",
    "\n",
    "# lib que usamos para mostrar las imágenes\n",
    "import matplotlib.pyplot as plt\n",
    "\n",
    "# libs que usamos para construir y entrenar redes neuronales, y que además tiene utilidades para leer sets de \n",
    "# imágenes\n",
    "from tensorflow.keras.models import Sequential\n",
    "from tensorflow.keras.layers import Dense, Input, Dropout, Convolution2D, MaxPooling2D, Flatten\n",
    "from tensorflow.keras.preprocessing.image import load_img, img_to_array, ImageDataGenerator\n",
    "\n",
    "# libs que usamos para tareas generales de machine learning. En este caso, métricas\n",
    "from sklearn.metrics import accuracy_score, confusion_matrix\n",
    "\n",
    "# configuración para que las imágenes se vean dentro del notebook\n",
    "%matplotlib inline\n",
    "import tensorflow as tf\n",
    "from tensorflow import keras\n",
    "# graficar\n",
    "import plotly.express as px\n"
   ]
  },
  {
   "cell_type": "code",
   "execution_count": null,
   "id": "86461a0f",
   "metadata": {
    "ExecuteTime": {
     "end_time": "2022-05-27T22:58:26.282625Z",
     "start_time": "2022-05-27T22:58:25.838051Z"
    }
   },
   "outputs": [],
   "source": [
    "fashion_mnist = keras.datasets.fashion_mnist\n",
    "# esto es para que los calores de los modelos den siempre igual\n",
    "np.random.seed(2)\n",
    "tf.random.set_seed(2)\n",
    "\n",
    "(x_train, x_lab), (y_validation, y_lab) = fashion_mnist.load_data()"
   ]
  },
  {
   "cell_type": "markdown",
   "id": "d8e041c4",
   "metadata": {},
   "source": [
    "<h1><center>1. Análisis exploratorio</center></h1>"
   ]
  },
  {
   "cell_type": "code",
   "execution_count": null,
   "id": "51353826",
   "metadata": {
    "ExecuteTime": {
     "end_time": "2022-05-27T22:58:26.298528Z",
     "start_time": "2022-05-27T22:58:26.285337Z"
    }
   },
   "outputs": [],
   "source": [
    "# Presentación → 1."
   ]
  },
  {
   "cell_type": "code",
   "execution_count": null,
   "id": "a82947e8",
   "metadata": {
    "ExecuteTime": {
     "end_time": "2022-05-27T22:58:26.313259Z",
     "start_time": "2022-05-27T22:58:26.301383Z"
    }
   },
   "outputs": [],
   "source": [
    "# Presentación → 1.1 Volumetría de los datos\n",
    "#Exploración de datos:\n",
    "x_train.shape\n",
    "#Tiene 60000 imagenes de 28x28 pixeles."
   ]
  },
  {
   "cell_type": "markdown",
   "id": "ff761892",
   "metadata": {},
   "source": [
    "El data set de train cuenta con 60000 imágenes de 28x28 pixeles"
   ]
  },
  {
   "cell_type": "markdown",
   "id": "09d37482",
   "metadata": {},
   "source": [
    "El target está compuesto por 10 clases, con valor entre 0 y 9.\n",
    "A continuación, detallaremos que significa cada valor:\n",
    "\n",
    "| Label | Clase |\n",
    "| -- | --- |\n",
    "| 0 | T-shirt/top |\n",
    "| 1 | Trouser |\n",
    "| 2 | Pullover|\n",
    "| 3 | Dress |\n",
    "| 4 | Coat |\n",
    "| 5 | Sandal |\n",
    "| 6 | Shirt |\n",
    "| 7 | Sneaker |\n",
    "| 8 | Bag |\n",
    "| 9 | Ankle boot |\n"
   ]
  },
  {
   "cell_type": "code",
   "execution_count": null,
   "id": "7d235b68",
   "metadata": {
    "ExecuteTime": {
     "end_time": "2022-05-27T22:58:26.328584Z",
     "start_time": "2022-05-27T22:58:26.319225Z"
    }
   },
   "outputs": [],
   "source": [
    "clases = \"camiseta/top\",\"Pantalón\",\"Pulover\",\"Vestido\",\"Saco\",\"Sandalia\",\"Camisa\",\"Zapatilla\",\"Bolso\",\"Botas\"\n"
   ]
  },
  {
   "cell_type": "code",
   "execution_count": null,
   "id": "51111d1b",
   "metadata": {
    "ExecuteTime": {
     "end_time": "2022-05-27T22:58:26.344896Z",
     "start_time": "2022-05-27T22:58:26.330226Z"
    }
   },
   "outputs": [],
   "source": [
    "# Create a dictionary for each type of label \n",
    "d_clases_labels = {0 : \"camiseta/top\", 1: \"Pantalón\", 2: \"Pulover\", 3: \"Vestido\", 4: \"Saco\",\n",
    "          5: \"Sandalia\", 6: \"Camisa\", 7: \"Zapatilla\", 8: \"Bolso\", 9: \"Botas\"}"
   ]
  },
  {
   "cell_type": "code",
   "execution_count": null,
   "id": "83bd0e95",
   "metadata": {
    "ExecuteTime": {
     "end_time": "2022-05-27T22:58:26.360716Z",
     "start_time": "2022-05-27T22:58:26.346647Z"
    }
   },
   "outputs": [],
   "source": [
    "#Contiene etiquetas del 0 al 9.\n",
    "x_lab"
   ]
  },
  {
   "cell_type": "markdown",
   "id": "3552f2af",
   "metadata": {},
   "source": [
    "<h1></h1>\n",
    "El data set de validatio cuenta con 10000 imágenes de 28x28 pixeles"
   ]
  },
  {
   "cell_type": "code",
   "execution_count": null,
   "id": "67632086",
   "metadata": {
    "ExecuteTime": {
     "end_time": "2022-05-27T22:58:26.375648Z",
     "start_time": "2022-05-27T22:58:26.362649Z"
    }
   },
   "outputs": [],
   "source": [
    "# Presentación → 1.1 Volumetría de los datos\n",
    "y_validation.shape\n",
    "#TIene 10000 imagenes."
   ]
  },
  {
   "cell_type": "code",
   "execution_count": null,
   "id": "3c6cc7fc",
   "metadata": {
    "ExecuteTime": {
     "end_time": "2022-05-27T22:58:26.391691Z",
     "start_time": "2022-05-27T22:58:26.378654Z"
    }
   },
   "outputs": [],
   "source": [
    "def sample_images(images,lab):\n",
    "    plt.figure(figsize = (10,10))\n",
    "    \n",
    "    for i in range(25):\n",
    "        plt.subplot(5,5,i+1)\n",
    "        plt.xticks([])\n",
    "        plt.yticks([])\n",
    "        plt.grid(\"off\")\n",
    "        plt.imshow(images[i])\n",
    "        plt.xlabel(clases[lab[i]])\n",
    "        "
   ]
  },
  {
   "cell_type": "markdown",
   "id": "dce7232b",
   "metadata": {},
   "source": [
    "<h1></h1>\n",
    "\n",
    "### Mostramos algunas imágenes del data set de train sin normalizar"
   ]
  },
  {
   "cell_type": "code",
   "execution_count": null,
   "id": "855bfbec",
   "metadata": {
    "ExecuteTime": {
     "end_time": "2022-05-27T22:58:27.667602Z",
     "start_time": "2022-05-27T22:58:26.393647Z"
    }
   },
   "outputs": [],
   "source": [
    "#Presentación → 1.\n",
    "#Train sin normalizar\n",
    "sample_images(x_train,x_lab)"
   ]
  },
  {
   "cell_type": "markdown",
   "id": "bc0fa9e7",
   "metadata": {
    "ExecuteTime": {
     "end_time": "2022-05-27T21:14:55.815155Z",
     "start_time": "2022-05-27T21:14:55.791122Z"
    }
   },
   "source": [
    "<h1></h1>\n",
    "\n",
    "### Mostramos algunas imágenes del data set de validation sin normalizar"
   ]
  },
  {
   "cell_type": "code",
   "execution_count": null,
   "id": "f65c14e5",
   "metadata": {
    "ExecuteTime": {
     "end_time": "2022-05-27T22:58:28.519856Z",
     "start_time": "2022-05-27T22:58:27.668321Z"
    }
   },
   "outputs": [],
   "source": [
    "#Validation sin normalizar\n",
    "sample_images(y_validation,y_lab)"
   ]
  },
  {
   "cell_type": "markdown",
   "id": "bd9d7055",
   "metadata": {
    "ExecuteTime": {
     "end_time": "2022-05-27T21:18:04.810454Z",
     "start_time": "2022-05-27T21:18:04.785449Z"
    }
   },
   "source": [
    "<h3><center>Normalizamos las imágenes</center></h3>"
   ]
  },
  {
   "cell_type": "code",
   "execution_count": null,
   "id": "06100d3e",
   "metadata": {
    "ExecuteTime": {
     "end_time": "2022-05-27T22:58:29.652959Z",
     "start_time": "2022-05-27T22:58:28.520855Z"
    }
   },
   "outputs": [],
   "source": [
    "#Los valores de la imagen se encuentran entre 0 y 255, por lo cual es necesario normalizar.\n",
    "x_train_m = keras.utils.normalize(x_train, axis = 1)\n"
   ]
  },
  {
   "cell_type": "code",
   "execution_count": null,
   "id": "17a5de3f",
   "metadata": {
    "ExecuteTime": {
     "end_time": "2022-05-27T22:58:29.826225Z",
     "start_time": "2022-05-27T22:58:29.655929Z"
    }
   },
   "outputs": [],
   "source": [
    "#Los valores de la imagen se encuentran entre 0 y 255, por lo cual es necesario normalizar.\n",
    "y_validation_m = keras.utils.normalize(y_validation, axis = 1)"
   ]
  },
  {
   "cell_type": "markdown",
   "id": "d51c0b5d",
   "metadata": {
    "ExecuteTime": {
     "end_time": "2022-05-27T21:19:52.812019Z",
     "start_time": "2022-05-27T21:19:52.784022Z"
    }
   },
   "source": [
    "<h3><center></center></h3>\n",
    "\n",
    "### Mostramos algunas imágenes del data set de train normalizadas"
   ]
  },
  {
   "cell_type": "code",
   "execution_count": null,
   "id": "aa17f5cc",
   "metadata": {
    "ExecuteTime": {
     "end_time": "2022-05-27T22:58:30.861298Z",
     "start_time": "2022-05-27T22:58:29.831293Z"
    }
   },
   "outputs": [],
   "source": [
    "#Train normalizado.:\n",
    "sample_images(x_train_m,x_lab)"
   ]
  },
  {
   "cell_type": "markdown",
   "id": "03c02344",
   "metadata": {
    "ExecuteTime": {
     "end_time": "2022-05-27T21:23:25.796550Z",
     "start_time": "2022-05-27T21:23:25.783550Z"
    }
   },
   "source": [
    "<h3><center></center></h3>\n",
    "\n",
    "### Mostramos algunas imágenes del data set de validation normalizadas"
   ]
  },
  {
   "cell_type": "code",
   "execution_count": null,
   "id": "df2fbb59",
   "metadata": {
    "ExecuteTime": {
     "end_time": "2022-05-27T22:58:31.737732Z",
     "start_time": "2022-05-27T22:58:30.864300Z"
    }
   },
   "outputs": [],
   "source": [
    "#Validation normalizado.:\n",
    "sample_images(y_validation_m, y_lab)"
   ]
  },
  {
   "cell_type": "markdown",
   "id": "61b77063",
   "metadata": {},
   "source": [
    "<h3><center></center></h3>\n",
    "\n",
    "### Distribución de la variable a predecir"
   ]
  },
  {
   "cell_type": "code",
   "execution_count": null,
   "id": "975c6f23",
   "metadata": {
    "ExecuteTime": {
     "end_time": "2022-05-27T22:58:31.753417Z",
     "start_time": "2022-05-27T22:58:31.740354Z"
    }
   },
   "outputs": [],
   "source": [
    "# Presentación → 1.3 Distribución de la variable a predecir"
   ]
  },
  {
   "cell_type": "code",
   "execution_count": null,
   "id": "d8321acb",
   "metadata": {
    "ExecuteTime": {
     "end_time": "2022-05-27T22:58:31.768669Z",
     "start_time": "2022-05-27T22:58:31.755432Z"
    }
   },
   "outputs": [],
   "source": [
    "x_lab.shape"
   ]
  },
  {
   "cell_type": "code",
   "execution_count": null,
   "id": "f59d4999",
   "metadata": {
    "ExecuteTime": {
     "end_time": "2022-05-27T22:58:31.846093Z",
     "start_time": "2022-05-27T22:58:31.770462Z"
    }
   },
   "outputs": [],
   "source": [
    "# transformamos el array en un data frame de panda\n",
    "df_train = pd.DataFrame(x_lab).rename(columns={0:'x_lab'})\n",
    "# cambiamos los números de las clases po sus nombres\n",
    "df_train['x_lab'] = df_train['x_lab'].map(d_clases_labels,\n",
    "                             na_action=None)\n",
    "\n",
    "df_train"
   ]
  },
  {
   "cell_type": "code",
   "execution_count": null,
   "id": "168288b5",
   "metadata": {
    "ExecuteTime": {
     "end_time": "2022-05-27T22:58:38.950525Z",
     "start_time": "2022-05-27T22:58:31.847924Z"
    }
   },
   "outputs": [],
   "source": [
    "# Presentación → 1.3 Distribución de la variable a predecir\n",
    "df = px.data.tips()\n",
    "fig = px.histogram(df_train, \n",
    "                   x=\"x_lab\", \n",
    "                   color=\"x_lab\", \n",
    "                   title='Distribución de la variable en train', \n",
    "                   labels={'x_lab':'Target'},\n",
    "                  category_orders=dict(x_lab=d_clases_labels),\n",
    "                  text_auto=True)\n",
    "\n",
    "fig.update_layout(bargap=0.2)\n",
    "fig.show()"
   ]
  },
  {
   "cell_type": "code",
   "execution_count": null,
   "id": "2d758234",
   "metadata": {
    "ExecuteTime": {
     "end_time": "2022-05-27T22:58:38.981552Z",
     "start_time": "2022-05-27T22:58:38.954529Z"
    }
   },
   "outputs": [],
   "source": [
    "# transformamos el array en un data frame de panda\n",
    "df_validation = pd.DataFrame(y_lab).rename(columns={0:'y_lab'})\n",
    "# cambiamos los números de las clases po sus nombres\n",
    "df_validation['y_lab'] = df_validation['y_lab'].map(d_clases_labels,\n",
    "                             na_action=None)\n",
    "df_validation"
   ]
  },
  {
   "cell_type": "code",
   "execution_count": null,
   "id": "e9b7061b",
   "metadata": {
    "ExecuteTime": {
     "end_time": "2022-05-27T22:58:39.154758Z",
     "start_time": "2022-05-27T22:58:38.983524Z"
    }
   },
   "outputs": [],
   "source": [
    "# Presentación → 1.3 Distribución de la variable a predecir\n",
    "df = px.data.tips()\n",
    "fig = px.histogram(df_validation, \n",
    "                   x=\"y_lab\", \n",
    "                   color=\"y_lab\", \n",
    "                   title='Distribución de la variable en validation', \n",
    "                   labels={'y_lab':'Target'},\n",
    "                  category_orders=dict(y_lab=d_clases_labels),\n",
    "                  text_auto=True)\n",
    "\n",
    "fig.update_layout(bargap=0.2)\n",
    "fig.show()"
   ]
  },
  {
   "cell_type": "markdown",
   "id": "962486e0",
   "metadata": {
    "ExecuteTime": {
     "end_time": "2022-05-27T22:42:31.406525Z",
     "start_time": "2022-05-27T22:42:31.381490Z"
    }
   },
   "source": [
    "<h1><center>2. Machine Learning</center></h1>"
   ]
  },
  {
   "cell_type": "markdown",
   "id": "80aaf6e8",
   "metadata": {},
   "source": [
    "<h2>2. I) MLP simple</h3>"
   ]
  },
  {
   "cell_type": "code",
   "execution_count": null,
   "id": "0cd29cbe",
   "metadata": {
    "ExecuteTime": {
     "end_time": "2022-05-27T23:00:00.236167Z",
     "start_time": "2022-05-27T22:58:39.158761Z"
    }
   },
   "outputs": [],
   "source": [
    "#Definiendo modelo\n",
    "model = Sequential()\n",
    "model.add(Flatten(input_shape=((28,28))))\n",
    "#Capa oculta con 200 neuronas\n",
    "model.add(Dense(200, activation =\"relu\"))\n",
    "model.add(Dense(10, activation =\"softmax\"))\n",
    "\n",
    "#compilar el modelo\n",
    "model.compile(optimizer = \"adam\", loss = \"sparse_categorical_crossentropy\",metrics = [\"accuracy\"])\n",
    "model.fit(x_train,x_lab,epochs = 20)\n"
   ]
  },
  {
   "cell_type": "code",
   "execution_count": null,
   "id": "fee16e44",
   "metadata": {
    "ExecuteTime": {
     "end_time": "2022-05-27T23:00:01.046792Z",
     "start_time": "2022-05-27T23:00:00.237880Z"
    }
   },
   "outputs": [],
   "source": [
    "model.evaluate(y_validation,y_lab)"
   ]
  },
  {
   "cell_type": "code",
   "execution_count": null,
   "id": "b0ba062f",
   "metadata": {
    "ExecuteTime": {
     "end_time": "2022-05-27T23:00:01.294681Z",
     "start_time": "2022-05-27T23:00:01.047761Z"
    }
   },
   "outputs": [],
   "source": [
    "p = model.predict(y_validation[:10])\n",
    "print(p)"
   ]
  },
  {
   "cell_type": "code",
   "execution_count": null,
   "id": "4ae2647d",
   "metadata": {
    "ExecuteTime": {
     "end_time": "2022-05-27T23:00:01.310685Z",
     "start_time": "2022-05-27T23:00:01.297629Z"
    }
   },
   "outputs": [],
   "source": [
    "pred = np.argmax(p, axis=1)\n",
    "print(pred)\n",
    "print(y_lab[:10])"
   ]
  },
  {
   "cell_type": "code",
   "execution_count": null,
   "id": "2ac127d7",
   "metadata": {
    "ExecuteTime": {
     "end_time": "2022-05-27T23:00:01.940205Z",
     "start_time": "2022-05-27T23:00:01.312424Z"
    }
   },
   "outputs": [],
   "source": [
    "for i in range(10):\n",
    "    plt.imshow(y_validation[i], cmap=\"binary\")\n",
    "    plt.title(\"Original: {}, Predicted: {}\".format(y_lab[i],pred[i]))\n",
    "    plt.axis(\"Off\")\n",
    "    plt.figure()"
   ]
  },
  {
   "cell_type": "markdown",
   "id": "afec9bed",
   "metadata": {},
   "source": [
    "<h1></h1>\n",
    "\n",
    "<h2>2. II) Red Convolucional</h3>"
   ]
  },
  {
   "cell_type": "code",
   "execution_count": null,
   "id": "097c9c31",
   "metadata": {
    "ExecuteTime": {
     "end_time": "2022-05-27T23:00:02.080548Z",
     "start_time": "2022-05-27T23:00:01.943142Z"
    }
   },
   "outputs": [],
   "source": [
    "model_rc = Sequential([\n",
    "    # el shape de los inputs es alto_imagen * ancho_imagen * cantidad_colores\n",
    "    Convolution2D(input_shape=(28, 28, 1), filters=10, kernel_size=(3, 3), strides=1, activation='relu', padding='same'),\n",
    "    \n",
    "    # kernels de 4x4x3, y salida de 61x61x8\n",
    "    Dropout(0.2),\n",
    "\n",
    "    Convolution2D(filters=8, kernel_size=(3, 3), strides=1, activation='relu'),\n",
    "    # kernels de 4x4x8, y salida de 58x58x8\n",
    "    Dropout(0.2),\n",
    "    \n",
    "    MaxPooling2D(pool_size=(2, 2)),\n",
    "    # salida de 14x14x8\n",
    "    \n",
    "    Flatten(),\n",
    "    # salida de 1568\n",
    "    \n",
    "    Dense(10, activation='tanh'),\n",
    "    # salida de 10\n",
    "    Dropout(0.2),\n",
    "\n",
    "    Dense(10, activation='tanh'),\n",
    "    # salida de 10\n",
    "    Dropout(0.2),\n",
    "\n",
    "    Dense(10, activation='softmax'),\n",
    "    # salida de 10\n",
    "])\n",
    "  \n",
    "model_rc.compile(\n",
    "    optimizer='adam',\n",
    "    loss='sparse_categorical_crossentropy', #categorical_crossentropy',\n",
    "    metrics=['accuracy', ], #'mse', 'acc'\n",
    ")"
   ]
  },
  {
   "cell_type": "code",
   "execution_count": null,
   "id": "250d968f",
   "metadata": {
    "ExecuteTime": {
     "end_time": "2022-05-27T23:00:02.112340Z",
     "start_time": "2022-05-27T23:00:02.082342Z"
    }
   },
   "outputs": [],
   "source": [
    "model_rc.summary()"
   ]
  },
  {
   "cell_type": "code",
   "execution_count": null,
   "id": "53b974ad",
   "metadata": {
    "ExecuteTime": {
     "end_time": "2022-05-27T23:00:02.127446Z",
     "start_time": "2022-05-27T23:00:02.115342Z"
    }
   },
   "outputs": [],
   "source": [
    "#como esta compuesto un elemento del train\n",
    "x_train_m[0]"
   ]
  },
  {
   "cell_type": "code",
   "execution_count": null,
   "id": "06903eb5",
   "metadata": {
    "ExecuteTime": {
     "end_time": "2022-05-27T23:00:02.143344Z",
     "start_time": "2022-05-27T23:00:02.128346Z"
    }
   },
   "outputs": [],
   "source": [
    "#como esta compuesto un elemento del lab\n",
    "x_lab[0]"
   ]
  },
  {
   "cell_type": "code",
   "execution_count": null,
   "id": "5e91ab0d",
   "metadata": {
    "ExecuteTime": {
     "end_time": "2022-05-27T23:00:02.159383Z",
     "start_time": "2022-05-27T23:00:02.144342Z"
    }
   },
   "outputs": [],
   "source": [
    "# esto es para que los calores de los modelos den siempre igual\n",
    "np.random.seed(3)\n",
    "tf.random.set_seed(3)"
   ]
  },
  {
   "cell_type": "code",
   "execution_count": null,
   "id": "3a3881d7",
   "metadata": {
    "ExecuteTime": {
     "end_time": "2022-05-27T23:00:02.175383Z",
     "start_time": "2022-05-27T23:00:02.161357Z"
    }
   },
   "outputs": [],
   "source": [
    "#https://programmerclick.com/article/19151150055/\n",
    "#Para convertir los datos en la memoria en Dataset\n",
    "#train_dataset = tf.data.Dataset.from_tensors((x_train_m,x_lab))\n",
    "train_dataset = tf.data.Dataset.from_tensor_slices((x_train_m,x_lab)).batch(64)"
   ]
  },
  {
   "cell_type": "code",
   "execution_count": null,
   "id": "396b558b",
   "metadata": {
    "ExecuteTime": {
     "end_time": "2022-05-27T23:00:02.191355Z",
     "start_time": "2022-05-27T23:00:02.178343Z"
    }
   },
   "outputs": [],
   "source": [
    "#Para convertir los datos en la memoria en Dataset\n",
    "#test_dataset = tf.data.Dataset.from_tensors((y_validation,y_lab))\n",
    "test_dataset = tf.data.Dataset.from_tensor_slices((y_validation, y_lab)).batch(64)\n"
   ]
  },
  {
   "cell_type": "code",
   "execution_count": null,
   "id": "3c572ca2",
   "metadata": {
    "ExecuteTime": {
     "end_time": "2022-05-27T23:06:06.485915Z",
     "start_time": "2022-05-27T23:00:02.194367Z"
    }
   },
   "outputs": [],
   "source": [
    "# anda \n",
    "history_rc = model_rc.fit(\n",
    "    train_dataset,\n",
    "    epochs=10,\n",
    "    batch_size=50,\n",
    "    validation_data=test_dataset,\n",
    ")"
   ]
  },
  {
   "cell_type": "code",
   "execution_count": null,
   "id": "7f896735",
   "metadata": {
    "ExecuteTime": {
     "end_time": "2022-05-27T23:06:06.501923Z",
     "start_time": "2022-05-27T23:06:06.487914Z"
    }
   },
   "outputs": [],
   "source": [
    "# no hace falta hacerlo\n",
    "#model_rc.evaluate(test_dataset)"
   ]
  },
  {
   "cell_type": "markdown",
   "id": "77327d05",
   "metadata": {},
   "source": [
    "### Graficamos accuracy de ambos conjuntos durante todo el proceso"
   ]
  },
  {
   "cell_type": "code",
   "execution_count": null,
   "id": "58887a47",
   "metadata": {
    "ExecuteTime": {
     "end_time": "2022-05-27T23:06:06.517918Z",
     "start_time": "2022-05-27T23:06:06.504919Z"
    },
    "scrolled": true
   },
   "outputs": [],
   "source": [
    "# función para plotear los resultados \n",
    "def plt_history(history_fit):\n",
    "    plt.plot(history_fit.history['accuracy'], label='train')\n",
    "    plt.plot(history_fit.history['val_accuracy'], label='validation')\n",
    "    plt.title('Accuracy sobre las épocas de train')\n",
    "    plt.ylabel('Accuracy')\n",
    "    plt.xlabel('épocas')\n",
    "    plt.legend(loc='upper left')\n",
    "    plt.show()"
   ]
  },
  {
   "cell_type": "code",
   "execution_count": null,
   "id": "9c9d39b6",
   "metadata": {
    "ExecuteTime": {
     "end_time": "2022-05-27T23:06:06.845268Z",
     "start_time": "2022-05-27T23:06:06.520919Z"
    }
   },
   "outputs": [],
   "source": [
    "plt_history(history_rc)"
   ]
  },
  {
   "cell_type": "code",
   "execution_count": null,
   "id": "ae6af060",
   "metadata": {
    "ExecuteTime": {
     "end_time": "2022-05-27T23:06:06.861227Z",
     "start_time": "2022-05-27T23:06:06.847227Z"
    }
   },
   "outputs": [],
   "source": [
    "# anda \n",
    "#history_rc_2 = model_rc.fit(\n",
    "#    train_dataset,\n",
    "#    epochs=20,\n",
    "    #batch_size=50\n",
    "    #validation_data=test_dataset,\n",
    "#)"
   ]
  },
  {
   "cell_type": "code",
   "execution_count": null,
   "id": "768447fd",
   "metadata": {
    "ExecuteTime": {
     "end_time": "2022-05-27T23:06:06.876227Z",
     "start_time": "2022-05-27T23:06:06.863228Z"
    }
   },
   "outputs": [],
   "source": [
    "#este esta mal\n",
    "#model_rc.evaluate(test_dataset)"
   ]
  },
  {
   "cell_type": "code",
   "execution_count": null,
   "id": "a029d4b5",
   "metadata": {
    "ExecuteTime": {
     "end_time": "2022-05-27T23:06:06.891253Z",
     "start_time": "2022-05-27T23:06:06.878228Z"
    }
   },
   "outputs": [],
   "source": [
    "# plt.plot(history_rc_2.history['accuracy'], label='train')\n",
    "# plt.plot(history_rc_2.history['val_accuracy'], label='validation')\n",
    "# plt.title('Accuracy sobre las épocas de train')\n",
    "# plt.ylabel('Accuracy')\n",
    "# plt.xlabel('épocas')\n",
    "# plt.legend(loc='upper left')\n",
    "# plt.show()"
   ]
  },
  {
   "cell_type": "markdown",
   "id": "f2870be6",
   "metadata": {
    "ExecuteTime": {
     "end_time": "2022-05-27T22:56:52.795597Z",
     "start_time": "2022-05-27T22:56:52.786574Z"
    }
   },
   "source": [
    "<h1></h1>\n",
    "\n",
    "<h2>2. III) Red Convolucional 2</h3>"
   ]
  },
  {
   "cell_type": "markdown",
   "id": "4feee8ef",
   "metadata": {},
   "source": [
    "#### Probamos otra red convolucional para ver que no sobreentrene"
   ]
  },
  {
   "cell_type": "code",
   "execution_count": null,
   "id": "07cb074f",
   "metadata": {
    "ExecuteTime": {
     "end_time": "2022-05-27T23:06:07.002244Z",
     "start_time": "2022-05-27T23:06:06.898226Z"
    }
   },
   "outputs": [],
   "source": [
    "model_rc_2 = Sequential([\n",
    "    # el shape de los inputs es alto_imagen * ancho_imagen * cantidad_colores\n",
    "    Convolution2D(input_shape=(28, 28, 1), filters=7, kernel_size=(3, 3), strides=1, activation='relu', padding='same'),\n",
    "    \n",
    "    # kernels de 4x4x3, y salida de 61x61x8\n",
    "    Dropout(0.2),\n",
    "\n",
    "    Convolution2D(filters=6, kernel_size=(3, 3), strides=1, activation='relu'),\n",
    "    # kernels de 4x4x8, y salida de 58x58x8\n",
    "    Dropout(0.2),\n",
    "    \n",
    "    MaxPooling2D(pool_size=(2, 2)),\n",
    "    # salida de 14x14x8\n",
    "    \n",
    "    Flatten(),\n",
    "    # salida de \n",
    "    \n",
    "    Dense(8, activation='tanh'),\n",
    "    # salida de 8\n",
    "    Dropout(0.2),\n",
    "\n",
    "    Dense(8, activation='tanh'),\n",
    "    # salida de 8\n",
    "    Dropout(0.2),\n",
    "\n",
    "    Dense(10, activation='softmax'),\n",
    "    # salida de 10\n",
    "])\n",
    "  \n",
    "model_rc_2.compile(\n",
    "    optimizer='adam',\n",
    "    loss='sparse_categorical_crossentropy', #categorical_crossentropy',\n",
    "    metrics=['accuracy', ], #'mse', 'acc'\n",
    ")"
   ]
  },
  {
   "cell_type": "code",
   "execution_count": null,
   "id": "5171d405",
   "metadata": {
    "ExecuteTime": {
     "end_time": "2022-05-27T23:06:07.048228Z",
     "start_time": "2022-05-27T23:06:07.004227Z"
    }
   },
   "outputs": [],
   "source": [
    "model_rc_2.summary()"
   ]
  },
  {
   "cell_type": "code",
   "execution_count": null,
   "id": "0ae04fac",
   "metadata": {
    "ExecuteTime": {
     "end_time": "2022-05-27T23:06:07.078241Z",
     "start_time": "2022-05-27T23:06:07.050357Z"
    }
   },
   "outputs": [],
   "source": [
    "# esto es para que los calores de los modelos den siempre igual\n",
    "np.random.seed(6)\n",
    "tf.random.set_seed(6)"
   ]
  },
  {
   "cell_type": "code",
   "execution_count": null,
   "id": "8ab5e152",
   "metadata": {
    "ExecuteTime": {
     "end_time": "2022-05-27T23:10:40.563382Z",
     "start_time": "2022-05-27T23:06:07.080225Z"
    }
   },
   "outputs": [],
   "source": [
    "history_rc_2 = model_rc_2.fit(\n",
    "    train_dataset,\n",
    "    epochs=10,\n",
    "    batch_size=50,\n",
    "    validation_data=test_dataset,\n",
    ")"
   ]
  },
  {
   "cell_type": "code",
   "execution_count": null,
   "id": "93f171ec",
   "metadata": {
    "ExecuteTime": {
     "end_time": "2022-05-27T23:10:40.722955Z",
     "start_time": "2022-05-27T23:10:40.564384Z"
    }
   },
   "outputs": [],
   "source": [
    "plt_history(history_rc_2)"
   ]
  }
 ],
 "metadata": {
  "kernelspec": {
   "display_name": "Python 3 (ipykernel)",
   "language": "python",
   "name": "python3"
  },
  "language_info": {
   "codemirror_mode": {
    "name": "ipython",
    "version": 3
   },
   "file_extension": ".py",
   "mimetype": "text/x-python",
   "name": "python",
   "nbconvert_exporter": "python",
   "pygments_lexer": "ipython3",
   "version": "3.9.13"
  },
  "toc": {
   "base_numbering": 1,
   "nav_menu": {},
   "number_sections": false,
   "sideBar": true,
   "skip_h1_title": false,
   "title_cell": "Table of Contents",
   "title_sidebar": "Contents",
   "toc_cell": false,
   "toc_position": {},
   "toc_section_display": true,
   "toc_window_display": false
  }
 },
 "nbformat": 4,
 "nbformat_minor": 5
}
