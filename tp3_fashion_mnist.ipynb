{
 "cells": [
  {
   "cell_type": "markdown",
   "id": "b63a40c4",
   "metadata": {},
   "source": [
    "<h1><center> Trabajo Práctico 3: Fashion detector </center></h1>"
   ]
  },
  {
   "cell_type": "code",
   "execution_count": null,
   "id": "c2f07e93",
   "metadata": {
    "ExecuteTime": {
     "end_time": "2022-05-21T16:38:06.147540Z",
     "start_time": "2022-05-21T16:37:54.544687Z"
    }
   },
   "outputs": [],
   "source": [
    "\n",
    "# lib para trabajar con arrays\n",
    "import numpy as np\n",
    "\n",
    "# lib que usamos para mostrar las imágenes\n",
    "import matplotlib.pyplot as plt\n",
    "\n",
    "# libs que usamos para construir y entrenar redes neuronales, y que además tiene utilidades para leer sets de \n",
    "# imágenes\n",
    "from tensorflow.keras.models import Sequential\n",
    "from tensorflow.keras.layers import Dense, Input, Dropout, Convolution2D, MaxPooling2D, Flatten\n",
    "from tensorflow.keras.preprocessing.image import load_img, img_to_array, ImageDataGenerator\n",
    "\n",
    "# libs que usamos para tareas generales de machine learning. En este caso, métricas\n",
    "from sklearn.metrics import accuracy_score, confusion_matrix\n",
    "\n",
    "# configuración para que las imágenes se vean dentro del notebook\n",
    "%matplotlib inline\n",
    "import tensorflow as tf\n",
    "from tensorflow import keras"
   ]
  },
  {
   "cell_type": "code",
   "execution_count": null,
   "id": "86461a0f",
   "metadata": {
    "ExecuteTime": {
     "end_time": "2022-05-21T16:38:06.640684Z",
     "start_time": "2022-05-21T16:38:06.150251Z"
    }
   },
   "outputs": [],
   "source": [
    "fashion_mnist = keras.datasets.fashion_mnist\n",
    "# esto es para que los calores de los modelos den siempre igual\n",
    "np.random.seed(2)\n",
    "tf.random.set_seed(2)\n",
    "\n",
    "(x_train, x_lab), (y_validation, y_lab) = fashion_mnist.load_data()"
   ]
  },
  {
   "cell_type": "markdown",
   "id": "09d37482",
   "metadata": {},
   "source": [
    "Clases:\n",
    "\n",
    "| Label | Clase |\n",
    "| -- | --- |\n",
    "| 0 | T-shirt/top |\n",
    "| 1 | Trouser |\n",
    "| 2 | Pullover|\n",
    "| 3 | Dress |\n",
    "| 4 | Coat |\n",
    "| 5 | Sandal |\n",
    "| 6 | Shirt |\n",
    "| 7 | Sneaker |\n",
    "| 8 | Bag |\n",
    "| 9 | Ankle boot |\n"
   ]
  },
  {
   "cell_type": "code",
   "execution_count": null,
   "id": "7d235b68",
   "metadata": {
    "ExecuteTime": {
     "end_time": "2022-05-21T16:38:06.655777Z",
     "start_time": "2022-05-21T16:38:06.644418Z"
    }
   },
   "outputs": [],
   "source": [
    "clases = \"camiseta/top\",\"Pantalón\",\"Pulover\",\"Vestido\",\"Saco\",\"Sandalia\",\"Camisa\",\"Zapatilla\",\"Bolso\",\"Botas\"\n"
   ]
  },
  {
   "cell_type": "code",
   "execution_count": null,
   "id": "a82947e8",
   "metadata": {
    "ExecuteTime": {
     "end_time": "2022-05-21T16:38:06.671775Z",
     "start_time": "2022-05-21T16:38:06.658772Z"
    }
   },
   "outputs": [],
   "source": [
    "#Exploración de datos:\n",
    "x_train.shape\n",
    "#Tiene 60000 imagenes de 28x28 pixeles."
   ]
  },
  {
   "cell_type": "code",
   "execution_count": null,
   "id": "83bd0e95",
   "metadata": {
    "ExecuteTime": {
     "end_time": "2022-05-21T16:38:06.687003Z",
     "start_time": "2022-05-21T16:38:06.677773Z"
    }
   },
   "outputs": [],
   "source": [
    "#Contiene etiquetas del 0 al 9.\n",
    "x_lab"
   ]
  },
  {
   "cell_type": "code",
   "execution_count": null,
   "id": "67632086",
   "metadata": {
    "ExecuteTime": {
     "end_time": "2022-05-21T16:38:06.703013Z",
     "start_time": "2022-05-21T16:38:06.690821Z"
    }
   },
   "outputs": [],
   "source": [
    "y_validation.shape\n",
    "#TIene 10000 imagenes."
   ]
  },
  {
   "cell_type": "code",
   "execution_count": null,
   "id": "06100d3e",
   "metadata": {
    "ExecuteTime": {
     "end_time": "2022-05-21T16:38:07.720057Z",
     "start_time": "2022-05-21T16:38:06.707025Z"
    }
   },
   "outputs": [],
   "source": [
    "#Los valores de la imagen se encuentran entre 0 y 255, por lo cual es necesario normalizar.\n",
    "x_train_m = keras.utils.normalize(x_train, axis = 1)\n"
   ]
  },
  {
   "cell_type": "code",
   "execution_count": null,
   "id": "3c6cc7fc",
   "metadata": {
    "ExecuteTime": {
     "end_time": "2022-05-21T16:38:07.735258Z",
     "start_time": "2022-05-21T16:38:07.721979Z"
    }
   },
   "outputs": [],
   "source": [
    "def sample_images(images,lab):\n",
    "    plt.figure(figsize = (10,10))\n",
    "    \n",
    "    for i in range(25):\n",
    "        plt.subplot(5,5,i+1)\n",
    "        plt.xticks([])\n",
    "        plt.yticks([])\n",
    "        plt.grid(\"off\")\n",
    "        plt.imshow(images[i])\n",
    "        plt.xlabel(clases[lab[i]])\n",
    "        "
   ]
  },
  {
   "cell_type": "code",
   "execution_count": null,
   "id": "855bfbec",
   "metadata": {
    "ExecuteTime": {
     "end_time": "2022-05-21T16:38:08.605577Z",
     "start_time": "2022-05-21T16:38:07.736981Z"
    }
   },
   "outputs": [],
   "source": [
    "#Train sin normalizar\n",
    "sample_images(x_train,x_lab)"
   ]
  },
  {
   "cell_type": "code",
   "execution_count": null,
   "id": "aa17f5cc",
   "metadata": {
    "ExecuteTime": {
     "end_time": "2022-05-21T16:38:09.396828Z",
     "start_time": "2022-05-21T16:38:08.607543Z"
    }
   },
   "outputs": [],
   "source": [
    "#Train normalizado.:\n",
    "sample_images(x_train_m,x_lab)"
   ]
  },
  {
   "cell_type": "code",
   "execution_count": null,
   "id": "f65c14e5",
   "metadata": {
    "ExecuteTime": {
     "end_time": "2022-05-21T16:38:10.303885Z",
     "start_time": "2022-05-21T16:38:09.399541Z"
    }
   },
   "outputs": [],
   "source": [
    "#Validation sin normalizar\n",
    "sample_images(y_validation,y_lab)"
   ]
  },
  {
   "cell_type": "code",
   "execution_count": null,
   "id": "0cd29cbe",
   "metadata": {
    "ExecuteTime": {
     "end_time": "2022-05-21T16:39:18.885852Z",
     "start_time": "2022-05-21T16:38:10.305595Z"
    }
   },
   "outputs": [],
   "source": [
    "#Definiendo modelo\n",
    "model = Sequential()\n",
    "model.add(Flatten(input_shape=((28,28))))\n",
    "#Capa oculta con 200 neuronas\n",
    "model.add(Dense(200, activation =\"relu\"))\n",
    "model.add(Dense(10, activation =\"softmax\"))\n",
    "\n",
    "#compilar el modelo\n",
    "model.compile(optimizer = \"adam\", loss = \"sparse_categorical_crossentropy\",metrics = [\"accuracy\"])\n",
    "model.fit(x_train,x_lab,epochs = 20)\n"
   ]
  },
  {
   "cell_type": "code",
   "execution_count": null,
   "id": "fee16e44",
   "metadata": {
    "ExecuteTime": {
     "end_time": "2022-05-21T16:39:19.528885Z",
     "start_time": "2022-05-21T16:39:18.887845Z"
    }
   },
   "outputs": [],
   "source": [
    "model.evaluate(y_validation,y_lab)"
   ]
  },
  {
   "cell_type": "code",
   "execution_count": null,
   "id": "b0ba062f",
   "metadata": {
    "ExecuteTime": {
     "end_time": "2022-05-21T16:39:19.654896Z",
     "start_time": "2022-05-21T16:39:19.533844Z"
    }
   },
   "outputs": [],
   "source": [
    "p = model.predict(y_validation[:10])\n",
    "print(p)"
   ]
  },
  {
   "cell_type": "code",
   "execution_count": null,
   "id": "4ae2647d",
   "metadata": {
    "ExecuteTime": {
     "end_time": "2022-05-21T16:39:19.670407Z",
     "start_time": "2022-05-21T16:39:19.656872Z"
    }
   },
   "outputs": [],
   "source": [
    "pred = np.argmax(p, axis=1)\n",
    "print(pred)\n",
    "print(y_lab[:10])"
   ]
  },
  {
   "cell_type": "code",
   "execution_count": null,
   "id": "2ac127d7",
   "metadata": {
    "ExecuteTime": {
     "end_time": "2022-05-21T16:39:20.114469Z",
     "start_time": "2022-05-21T16:39:19.671409Z"
    }
   },
   "outputs": [],
   "source": [
    "for i in range(10):\n",
    "    plt.imshow(y_validation[i], cmap=\"binary\")\n",
    "    plt.title(\"Original: {}, Predicted: {}\".format(y_lab[i],pred[i]))\n",
    "    plt.axis(\"Off\")\n",
    "    plt.figure()"
   ]
  },
  {
   "cell_type": "markdown",
   "id": "afec9bed",
   "metadata": {},
   "source": [
    "<h3><center>red convolucional</center></h3>"
   ]
  },
  {
   "cell_type": "code",
   "execution_count": null,
   "id": "097c9c31",
   "metadata": {
    "ExecuteTime": {
     "end_time": "2022-05-21T16:39:20.177696Z",
     "start_time": "2022-05-21T16:39:20.115437Z"
    }
   },
   "outputs": [],
   "source": [
    "model_rc = Sequential([\n",
    "    # el shape de los inputs es alto_imagen * ancho_imagen * cantidad_colores\n",
    "    Convolution2D(input_shape=(28, 28, 1), filters=10, kernel_size=(3, 3), strides=1, activation='relu', padding='same'),\n",
    "    \n",
    "    # kernels de 4x4x3, y salida de 61x61x8\n",
    "    Dropout(0.2),\n",
    "\n",
    "    Convolution2D(filters=8, kernel_size=(3, 3), strides=1, activation='relu'),\n",
    "    # kernels de 4x4x8, y salida de 58x58x8\n",
    "    Dropout(0.2),\n",
    "    \n",
    "    MaxPooling2D(pool_size=(2, 2)),\n",
    "    # salida de 14x14x8\n",
    "    \n",
    "    Flatten(),\n",
    "    # salida de 1568\n",
    "    \n",
    "    Dense(10, activation='tanh'),\n",
    "    # salida de 10\n",
    "    Dropout(0.2),\n",
    "\n",
    "    Dense(10, activation='tanh'),\n",
    "    # salida de 10\n",
    "    Dropout(0.2),\n",
    "\n",
    "    Dense(10, activation='softmax'),\n",
    "    # salida de 10\n",
    "])\n",
    "  \n",
    "model_rc.compile(\n",
    "    optimizer='adam',\n",
    "    loss='sparse_categorical_crossentropy', #categorical_crossentropy',\n",
    "    metrics=['accuracy', ], #'mse', 'acc'\n",
    ")"
   ]
  },
  {
   "cell_type": "code",
   "execution_count": null,
   "id": "250d968f",
   "metadata": {
    "ExecuteTime": {
     "end_time": "2022-05-21T16:39:20.208994Z",
     "start_time": "2022-05-21T16:39:20.179437Z"
    }
   },
   "outputs": [],
   "source": [
    "model_rc.summary()"
   ]
  },
  {
   "cell_type": "code",
   "execution_count": null,
   "id": "53b974ad",
   "metadata": {
    "ExecuteTime": {
     "end_time": "2022-05-21T16:39:20.225073Z",
     "start_time": "2022-05-21T16:39:20.210737Z"
    }
   },
   "outputs": [],
   "source": [
    "#como esta compuesto un elemento del train\n",
    "x_train_m[0]"
   ]
  },
  {
   "cell_type": "code",
   "execution_count": null,
   "id": "06903eb5",
   "metadata": {
    "ExecuteTime": {
     "end_time": "2022-05-21T16:39:20.240550Z",
     "start_time": "2022-05-21T16:39:20.226736Z"
    }
   },
   "outputs": [],
   "source": [
    "#como esta compuesto un elemento del lab\n",
    "x_lab[0]"
   ]
  },
  {
   "cell_type": "code",
   "execution_count": null,
   "id": "5e91ab0d",
   "metadata": {
    "ExecuteTime": {
     "end_time": "2022-05-21T16:39:20.256366Z",
     "start_time": "2022-05-21T16:39:20.242325Z"
    }
   },
   "outputs": [],
   "source": [
    "# esto es para que los calores de los modelos den siempre igual\n",
    "np.random.seed(3)\n",
    "tf.random.set_seed(3)"
   ]
  },
  {
   "cell_type": "code",
   "execution_count": null,
   "id": "3a3881d7",
   "metadata": {
    "ExecuteTime": {
     "end_time": "2022-05-21T16:39:20.287585Z",
     "start_time": "2022-05-21T16:39:20.261316Z"
    }
   },
   "outputs": [],
   "source": [
    "#https://programmerclick.com/article/19151150055/\n",
    "#Para convertir los datos en la memoria en Dataset\n",
    "#train_dataset = tf.data.Dataset.from_tensors((x_train_m,x_lab))\n",
    "train_dataset = tf.data.Dataset.from_tensor_slices((x_train_m,x_lab)).batch(64)"
   ]
  },
  {
   "cell_type": "code",
   "execution_count": null,
   "id": "396b558b",
   "metadata": {
    "ExecuteTime": {
     "end_time": "2022-05-21T16:39:20.318684Z",
     "start_time": "2022-05-21T16:39:20.292529Z"
    }
   },
   "outputs": [],
   "source": [
    "#Para convertir los datos en la memoria en Dataset\n",
    "#test_dataset = tf.data.Dataset.from_tensors((y_validation,y_lab))\n",
    "test_dataset = tf.data.Dataset.from_tensor_slices((y_validation, y_lab)).batch(64)\n"
   ]
  },
  {
   "cell_type": "code",
   "execution_count": null,
   "id": "3c572ca2",
   "metadata": {
    "ExecuteTime": {
     "end_time": "2022-05-21T16:44:54.573296Z",
     "start_time": "2022-05-21T16:39:20.322680Z"
    }
   },
   "outputs": [],
   "source": [
    "# anda \n",
    "history_rc = model_rc.fit(\n",
    "    train_dataset,\n",
    "    epochs=10,\n",
    "    batch_size=50,\n",
    "    validation_data=test_dataset,\n",
    ")"
   ]
  },
  {
   "cell_type": "code",
   "execution_count": null,
   "id": "7f896735",
   "metadata": {
    "ExecuteTime": {
     "end_time": "2022-05-21T16:44:54.589295Z",
     "start_time": "2022-05-21T16:44:54.576298Z"
    }
   },
   "outputs": [],
   "source": [
    "# no hace falta hacerlo\n",
    "#model_rc.evaluate(test_dataset)"
   ]
  },
  {
   "cell_type": "markdown",
   "id": "77327d05",
   "metadata": {},
   "source": [
    "### Graficamos accuracy de ambos conjuntos durante todo el proceso"
   ]
  },
  {
   "cell_type": "code",
   "execution_count": null,
   "id": "58887a47",
   "metadata": {
    "ExecuteTime": {
     "end_time": "2022-05-21T16:44:54.604295Z",
     "start_time": "2022-05-21T16:44:54.591298Z"
    },
    "scrolled": true
   },
   "outputs": [],
   "source": [
    "# función para plotear los resultados \n",
    "def plt_history(history_fit):\n",
    "    plt.plot(history_fit.history['accuracy'], label='train')\n",
    "    plt.plot(history_fit.history['val_accuracy'], label='validation')\n",
    "    plt.title('Accuracy sobre las épocas de train')\n",
    "    plt.ylabel('Accuracy')\n",
    "    plt.xlabel('épocas')\n",
    "    plt.legend(loc='upper left')\n",
    "    plt.show()"
   ]
  },
  {
   "cell_type": "code",
   "execution_count": null,
   "id": "9c9d39b6",
   "metadata": {
    "ExecuteTime": {
     "end_time": "2022-05-21T16:44:56.690824Z",
     "start_time": "2022-05-21T16:44:54.606296Z"
    }
   },
   "outputs": [],
   "source": [
    "plt_history(history_rc)"
   ]
  },
  {
   "cell_type": "code",
   "execution_count": null,
   "id": "ae6af060",
   "metadata": {
    "ExecuteTime": {
     "end_time": "2022-05-21T16:44:56.706807Z",
     "start_time": "2022-05-21T16:44:56.692809Z"
    }
   },
   "outputs": [],
   "source": [
    "# anda \n",
    "#history_rc_2 = model_rc.fit(\n",
    "#    train_dataset,\n",
    "#    epochs=20,\n",
    "    #batch_size=50\n",
    "    #validation_data=test_dataset,\n",
    "#)"
   ]
  },
  {
   "cell_type": "code",
   "execution_count": null,
   "id": "768447fd",
   "metadata": {
    "ExecuteTime": {
     "end_time": "2022-05-21T16:44:56.721808Z",
     "start_time": "2022-05-21T16:44:56.708811Z"
    }
   },
   "outputs": [],
   "source": [
    "#este esta mal\n",
    "#model_rc.evaluate(test_dataset)"
   ]
  },
  {
   "cell_type": "code",
   "execution_count": null,
   "id": "a029d4b5",
   "metadata": {
    "ExecuteTime": {
     "end_time": "2022-05-21T16:44:56.737807Z",
     "start_time": "2022-05-21T16:44:56.723809Z"
    }
   },
   "outputs": [],
   "source": [
    "# plt.plot(history_rc_2.history['accuracy'], label='train')\n",
    "# plt.plot(history_rc_2.history['val_accuracy'], label='validation')\n",
    "# plt.title('Accuracy sobre las épocas de train')\n",
    "# plt.ylabel('Accuracy')\n",
    "# plt.xlabel('épocas')\n",
    "# plt.legend(loc='upper left')\n",
    "# plt.show()"
   ]
  },
  {
   "cell_type": "markdown",
   "id": "4feee8ef",
   "metadata": {},
   "source": [
    "### Otra red convolucional que no para ver que no sobreentrene"
   ]
  },
  {
   "cell_type": "code",
   "execution_count": null,
   "id": "07cb074f",
   "metadata": {
    "ExecuteTime": {
     "end_time": "2022-05-21T16:44:56.929813Z",
     "start_time": "2022-05-21T16:44:56.739810Z"
    }
   },
   "outputs": [],
   "source": [
    "model_rc_2 = Sequential([\n",
    "    # el shape de los inputs es alto_imagen * ancho_imagen * cantidad_colores\n",
    "    Convolution2D(input_shape=(28, 28, 1), filters=7, kernel_size=(3, 3), strides=1, activation='relu', padding='same'),\n",
    "    \n",
    "    # kernels de 4x4x3, y salida de 61x61x8\n",
    "    Dropout(0.2),\n",
    "\n",
    "    Convolution2D(filters=6, kernel_size=(3, 3), strides=1, activation='relu'),\n",
    "    # kernels de 4x4x8, y salida de 58x58x8\n",
    "    Dropout(0.2),\n",
    "    \n",
    "    MaxPooling2D(pool_size=(2, 2)),\n",
    "    # salida de 14x14x8\n",
    "    \n",
    "    Flatten(),\n",
    "    # salida de \n",
    "    \n",
    "    Dense(8, activation='tanh'),\n",
    "    # salida de 8\n",
    "    Dropout(0.2),\n",
    "\n",
    "    Dense(8, activation='tanh'),\n",
    "    # salida de 8\n",
    "    Dropout(0.2),\n",
    "\n",
    "    Dense(10, activation='softmax'),\n",
    "    # salida de 10\n",
    "])\n",
    "  \n",
    "model_rc_2.compile(\n",
    "    optimizer='adam',\n",
    "    loss='sparse_categorical_crossentropy', #categorical_crossentropy',\n",
    "    metrics=['accuracy', ], #'mse', 'acc'\n",
    ")"
   ]
  },
  {
   "cell_type": "code",
   "execution_count": null,
   "id": "5171d405",
   "metadata": {
    "ExecuteTime": {
     "end_time": "2022-05-21T16:44:56.978835Z",
     "start_time": "2022-05-21T16:44:56.933835Z"
    }
   },
   "outputs": [],
   "source": [
    "model_rc_2.summary()"
   ]
  },
  {
   "cell_type": "code",
   "execution_count": null,
   "id": "0ae04fac",
   "metadata": {
    "ExecuteTime": {
     "end_time": "2022-05-21T16:44:57.055809Z",
     "start_time": "2022-05-21T16:44:56.981813Z"
    }
   },
   "outputs": [],
   "source": [
    "# esto es para que los calores de los modelos den siempre igual\n",
    "np.random.seed(6)\n",
    "tf.random.set_seed(6)"
   ]
  },
  {
   "cell_type": "code",
   "execution_count": null,
   "id": "8ab5e152",
   "metadata": {
    "ExecuteTime": {
     "end_time": "2022-05-21T16:48:10.313245Z",
     "start_time": "2022-05-21T16:44:57.060834Z"
    }
   },
   "outputs": [],
   "source": [
    "history_rc_2 = model_rc_2.fit(\n",
    "    train_dataset,\n",
    "    epochs=10,\n",
    "    batch_size=50,\n",
    "    validation_data=test_dataset,\n",
    ")"
   ]
  },
  {
   "cell_type": "code",
   "execution_count": null,
   "id": "93f171ec",
   "metadata": {
    "ExecuteTime": {
     "end_time": "2022-05-21T16:48:10.440301Z",
     "start_time": "2022-05-21T16:48:10.315241Z"
    }
   },
   "outputs": [],
   "source": [
    "plt_history(history_rc_2)"
   ]
  }
 ],
 "metadata": {
  "kernelspec": {
   "display_name": "Python 3 (ipykernel)",
   "language": "python",
   "name": "python3"
  },
  "language_info": {
   "codemirror_mode": {
    "name": "ipython",
    "version": 3
   },
   "file_extension": ".py",
   "mimetype": "text/x-python",
   "name": "python",
   "nbconvert_exporter": "python",
   "pygments_lexer": "ipython3",
   "version": "3.9.13"
  },
  "toc": {
   "base_numbering": 1,
   "nav_menu": {},
   "number_sections": false,
   "sideBar": true,
   "skip_h1_title": false,
   "title_cell": "Table of Contents",
   "title_sidebar": "Contents",
   "toc_cell": false,
   "toc_position": {},
   "toc_section_display": true,
   "toc_window_display": false
  }
 },
 "nbformat": 4,
 "nbformat_minor": 5
}
