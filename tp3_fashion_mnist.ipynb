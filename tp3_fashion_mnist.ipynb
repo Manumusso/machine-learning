{
 "cells": [
  {
   "cell_type": "markdown",
   "id": "b63a40c4",
   "metadata": {},
   "source": [
    "<h1><center> Trabajo Práctico 3: Fashion detector </center></h1>"
   ]
  },
  {
   "cell_type": "code",
   "execution_count": null,
   "id": "c2f07e93",
   "metadata": {
    "ExecuteTime": {
     "end_time": "2022-05-20T00:02:54.486782Z",
     "start_time": "2022-05-20T00:02:10.633041Z"
    }
   },
   "outputs": [],
   "source": [
    "\n",
    "# lib para trabajar con arrays\n",
    "import numpy as np\n",
    "\n",
    "# lib que usamos para mostrar las imágenes\n",
    "import matplotlib.pyplot as plt\n",
    "\n",
    "# libs que usamos para construir y entrenar redes neuronales, y que además tiene utilidades para leer sets de \n",
    "# imágenes\n",
    "from tensorflow.keras.models import Sequential\n",
    "from tensorflow.keras.layers import Dense, Input, Dropout, Convolution2D, MaxPooling2D, Flatten\n",
    "from tensorflow.keras.preprocessing.image import load_img, img_to_array, ImageDataGenerator\n",
    "\n",
    "# libs que usamos para tareas generales de machine learning. En este caso, métricas\n",
    "from sklearn.metrics import accuracy_score, confusion_matrix\n",
    "\n",
    "# configuración para que las imágenes se vean dentro del notebook\n",
    "%matplotlib inline\n",
    "import tensorflow as tf\n",
    "from tensorflow import keras"
   ]
  },
  {
   "cell_type": "code",
   "execution_count": null,
   "id": "86461a0f",
   "metadata": {
    "ExecuteTime": {
     "end_time": "2022-05-20T00:02:54.910064Z",
     "start_time": "2022-05-20T00:02:54.488749Z"
    }
   },
   "outputs": [],
   "source": [
    "fashion_mnist = keras.datasets.fashion_mnist\n",
    "(x_train, x_lab), (y_validation, y_lab) = fashion_mnist.load_data()"
   ]
  },
  {
   "cell_type": "markdown",
   "id": "09d37482",
   "metadata": {},
   "source": [
    "Clases:\n",
    "\n",
    "| Label | Clase |\n",
    "| -- | --- |\n",
    "| 0 | T-shirt/top |\n",
    "| 1 | Trouser |\n",
    "| 2 | Pullover|\n",
    "| 3 | Dress |\n",
    "| 4 | Coat |\n",
    "| 5 | Sandal |\n",
    "| 6 | Shirt |\n",
    "| 7 | Sneaker |\n",
    "| 8 | Bag |\n",
    "| 9 | Ankle boot |\n"
   ]
  },
  {
   "cell_type": "code",
   "execution_count": null,
   "id": "7d235b68",
   "metadata": {
    "ExecuteTime": {
     "end_time": "2022-05-20T00:02:54.925800Z",
     "start_time": "2022-05-20T00:02:54.911800Z"
    }
   },
   "outputs": [],
   "source": [
    "clases = \"camiseta/top\",\"Pantalón\",\"Pulover\",\"Vestido\",\"Saco\",\"Sandalia\",\"Camisa\",\"Zapatilla\",\"Bolso\",\"Botas\"\n"
   ]
  },
  {
   "cell_type": "code",
   "execution_count": null,
   "id": "a82947e8",
   "metadata": {
    "ExecuteTime": {
     "end_time": "2022-05-20T00:02:54.942046Z",
     "start_time": "2022-05-20T00:02:54.927806Z"
    }
   },
   "outputs": [],
   "source": [
    "#Exploración de datos:\n",
    "x_train.shape\n",
    "#Tiene 60000 imagenes de 28x28 pixeles."
   ]
  },
  {
   "cell_type": "code",
   "execution_count": null,
   "id": "83bd0e95",
   "metadata": {
    "ExecuteTime": {
     "end_time": "2022-05-20T00:02:55.082364Z",
     "start_time": "2022-05-20T00:02:54.944799Z"
    }
   },
   "outputs": [],
   "source": [
    "#Contiene etiquetas del 0 al 9.\n",
    "x_lab"
   ]
  },
  {
   "cell_type": "code",
   "execution_count": null,
   "id": "67632086",
   "metadata": {
    "ExecuteTime": {
     "end_time": "2022-05-20T00:02:55.097694Z",
     "start_time": "2022-05-20T00:02:55.085358Z"
    }
   },
   "outputs": [],
   "source": [
    "y_validation.shape\n",
    "#TIene 10000 imagenes."
   ]
  },
  {
   "cell_type": "code",
   "execution_count": null,
   "id": "06100d3e",
   "metadata": {
    "ExecuteTime": {
     "end_time": "2022-05-20T00:02:56.021130Z",
     "start_time": "2022-05-20T00:02:55.101369Z"
    }
   },
   "outputs": [],
   "source": [
    "#Los valores de la imagen se encuentran entre 0 y 255, por lo cual es necesario normalizar.\n",
    "x_train_m = keras.utils.normalize(x_train, axis = 1)\n"
   ]
  },
  {
   "cell_type": "code",
   "execution_count": null,
   "id": "3c6cc7fc",
   "metadata": {
    "ExecuteTime": {
     "end_time": "2022-05-20T00:02:56.036361Z",
     "start_time": "2022-05-20T00:02:56.023361Z"
    }
   },
   "outputs": [],
   "source": [
    "def sample_images(images,lab):\n",
    "    plt.figure(figsize = (10,10))\n",
    "    \n",
    "    for i in range(25):\n",
    "        plt.subplot(5,5,i+1)\n",
    "        plt.xticks([])\n",
    "        plt.yticks([])\n",
    "        plt.grid(\"off\")\n",
    "        plt.imshow(images[i])\n",
    "        plt.xlabel(clases[lab[i]])\n",
    "        "
   ]
  },
  {
   "cell_type": "code",
   "execution_count": null,
   "id": "855bfbec",
   "metadata": {
    "ExecuteTime": {
     "end_time": "2022-05-20T00:02:58.239807Z",
     "start_time": "2022-05-20T00:02:56.039361Z"
    }
   },
   "outputs": [],
   "source": [
    "#Train sin normalizar\n",
    "sample_images(x_train,x_lab)"
   ]
  },
  {
   "cell_type": "code",
   "execution_count": null,
   "id": "aa17f5cc",
   "metadata": {
    "ExecuteTime": {
     "end_time": "2022-05-20T00:02:59.017341Z",
     "start_time": "2022-05-20T00:02:58.241870Z"
    }
   },
   "outputs": [],
   "source": [
    "#Train normalizado.:\n",
    "sample_images(x_train_m,x_lab)"
   ]
  },
  {
   "cell_type": "code",
   "execution_count": null,
   "id": "f65c14e5",
   "metadata": {
    "ExecuteTime": {
     "end_time": "2022-05-20T00:02:59.887349Z",
     "start_time": "2022-05-20T00:02:59.019358Z"
    }
   },
   "outputs": [],
   "source": [
    "#Validation sin normalizar\n",
    "sample_images(y_validation,y_lab)"
   ]
  },
  {
   "cell_type": "code",
   "execution_count": null,
   "id": "0cd29cbe",
   "metadata": {
    "ExecuteTime": {
     "end_time": "2022-05-20T00:04:16.872173Z",
     "start_time": "2022-05-20T00:02:59.889343Z"
    }
   },
   "outputs": [],
   "source": [
    "#Definiendo modelo\n",
    "model = Sequential()\n",
    "model.add(Flatten(input_shape=((28,28))))\n",
    "#Capa oculta con 200 neuronas\n",
    "model.add(Dense(200, activation =\"relu\"))\n",
    "model.add(Dense(10, activation =\"softmax\"))\n",
    "\n",
    "#compilar el modelo\n",
    "model.compile(optimizer = \"adam\", loss = \"sparse_categorical_crossentropy\",metrics = [\"accuracy\"])\n",
    "model.fit(x_train,x_lab,epochs = 20)\n"
   ]
  },
  {
   "cell_type": "code",
   "execution_count": null,
   "id": "fee16e44",
   "metadata": {
    "ExecuteTime": {
     "end_time": "2022-05-20T00:04:17.469868Z",
     "start_time": "2022-05-20T00:04:16.874734Z"
    }
   },
   "outputs": [],
   "source": [
    "model.evaluate(y_validation,y_lab)"
   ]
  },
  {
   "cell_type": "code",
   "execution_count": null,
   "id": "b0ba062f",
   "metadata": {
    "ExecuteTime": {
     "end_time": "2022-05-20T00:04:17.689888Z",
     "start_time": "2022-05-20T00:04:17.472604Z"
    }
   },
   "outputs": [],
   "source": [
    "p = model.predict(y_validation[:10])\n",
    "print(p)"
   ]
  },
  {
   "cell_type": "code",
   "execution_count": null,
   "id": "4ae2647d",
   "metadata": {
    "ExecuteTime": {
     "end_time": "2022-05-20T00:04:17.721426Z",
     "start_time": "2022-05-20T00:04:17.691076Z"
    }
   },
   "outputs": [],
   "source": [
    "pred = np.argmax(p, axis=1)\n",
    "print(pred)\n",
    "print(y_lab[:10])"
   ]
  },
  {
   "cell_type": "code",
   "execution_count": null,
   "id": "2ac127d7",
   "metadata": {
    "ExecuteTime": {
     "end_time": "2022-05-20T00:04:18.211353Z",
     "start_time": "2022-05-20T00:04:17.723442Z"
    }
   },
   "outputs": [],
   "source": [
    "for i in range(10):\n",
    "    plt.imshow(y_validation[i], cmap=\"binary\")\n",
    "    plt.title(\"Original: {}, Predicted: {}\".format(y_lab[i],pred[i]))\n",
    "    plt.axis(\"Off\")\n",
    "    plt.figure()"
   ]
  },
  {
   "cell_type": "markdown",
   "id": "afec9bed",
   "metadata": {},
   "source": [
    "<h3><center>red convolucional</center></h3>"
   ]
  },
  {
   "cell_type": "code",
   "execution_count": null,
   "id": "097c9c31",
   "metadata": {
    "ExecuteTime": {
     "end_time": "2022-05-20T00:06:07.787742Z",
     "start_time": "2022-05-20T00:06:07.618026Z"
    }
   },
   "outputs": [],
   "source": [
    "model_rc = Sequential([\n",
    "    # el shape de los inputs es alto_imagen * ancho_imagen * cantidad_colores\n",
    "    Convolution2D(input_shape=(28, 28, 3), filters=10, kernel_size=(3, 3), strides=1, activation='relu'),\n",
    "    \n",
    "    # kernels de 4x4x3, y salida de 61x61x8\n",
    "    Dropout(0.2),\n",
    "\n",
    "    Convolution2D(filters=8, kernel_size=(3, 3), strides=1, activation='relu'),\n",
    "    # kernels de 4x4x8, y salida de 58x58x8\n",
    "    Dropout(0.2),\n",
    "    \n",
    "    MaxPooling2D(pool_size=(2, 2)),\n",
    "    # salida de 14x14x8\n",
    "    \n",
    "    Flatten(),\n",
    "    # salida de 1568\n",
    "    \n",
    "    Dense(10, activation='tanh'),\n",
    "    # salida de 10\n",
    "    Dropout(0.2),\n",
    "\n",
    "    Dense(10, activation='tanh'),\n",
    "    # salida de 10\n",
    "    Dropout(0.2),\n",
    "\n",
    "    Dense(10, activation='softmax'),\n",
    "    # salida de 3\n",
    "])\n",
    "  \n",
    "model_rc.compile(\n",
    "    optimizer='adam',\n",
    "    loss='categorical_crossentropy',\n",
    "    metrics=['accuracy', ], #'mse', 'acc'\n",
    ")"
   ]
  },
  {
   "cell_type": "code",
   "execution_count": null,
   "id": "2fb8c141",
   "metadata": {
    "ExecuteTime": {
     "end_time": "2022-05-20T00:08:54.717556Z",
     "start_time": "2022-05-20T00:08:52.618639Z"
    }
   },
   "outputs": [],
   "source": [
    "# EN ESTA CELDA DA EL ERROR AL ENTRENAR EL MODELO\n",
    "history_rc = model_rc.fit(\n",
    "    x=x_train_m,\n",
    "    y=x_lab,\n",
    "    epochs=5,\n",
    "    batch_size=50,\n",
    "    validation_data=y_validation,\n",
    ")"
   ]
  },
  {
   "cell_type": "code",
   "execution_count": null,
   "id": "ae6af060",
   "metadata": {},
   "outputs": [],
   "source": []
  }
 ],
 "metadata": {
  "kernelspec": {
   "display_name": "Python 3 (ipykernel)",
   "language": "python",
   "name": "python3"
  },
  "language_info": {
   "codemirror_mode": {
    "name": "ipython",
    "version": 3
   },
   "file_extension": ".py",
   "mimetype": "text/x-python",
   "name": "python",
   "nbconvert_exporter": "python",
   "pygments_lexer": "ipython3",
   "version": "3.9.13"
  },
  "toc": {
   "base_numbering": 1,
   "nav_menu": {},
   "number_sections": false,
   "sideBar": true,
   "skip_h1_title": false,
   "title_cell": "Table of Contents",
   "title_sidebar": "Contents",
   "toc_cell": false,
   "toc_position": {},
   "toc_section_display": true,
   "toc_window_display": false
  }
 },
 "nbformat": 4,
 "nbformat_minor": 5
}
